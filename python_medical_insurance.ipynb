{
 "cells": [
  {
   "cell_type": "markdown",
   "metadata": {
    "id": "-tPXb5BpVMvy"
   },
   "source": [
    "# Learn Python with U.S. Medical Insurance Costs\n",
    "***"
   ]
  },
  {
   "cell_type": "markdown",
   "metadata": {
    "id": "1695iX-MW1EY"
   },
   "source": [
    "## Python Syntax: Medical Insurance Project\n",
    "\n",
    "Suppose you are a medical professional curious about how certain factors contribute to medical insurance costs. Using a formula that estimates a person's yearly insurance costs, you will investigate how different factors such as age, sex, BMI, etc. affect the prediction."
   ]
  },
  {
   "cell_type": "code",
   "execution_count": 1,
   "metadata": {
    "id": "5J0EMePWV6qj"
   },
   "outputs": [],
   "source": [
    "# create the initial variables below for a given patient information\n",
    "age = 28\n",
    "sex = 0 # 0 for female, 1 for male\n",
    "bmi = 26.2 \n",
    "num_of_children = 3\n",
    "smoker = 0 # 0 for a nonsmoker, 1 for a smoker"
   ]
  },
  {
   "cell_type": "code",
   "execution_count": 2,
   "metadata": {
    "colab": {
     "base_uri": "https://localhost:8080/"
    },
    "executionInfo": {
     "elapsed": 5,
     "status": "ok",
     "timestamp": 1669154594653,
     "user": {
      "displayName": "Rizelle Capanzana",
      "userId": "13918624418820900908"
     },
     "user_tz": 480
    },
    "id": "WZ-BwPu6XVGT",
    "outputId": "2c8cb4a5-0fa8-4732-d75c-b9080e9e266d"
   },
   "outputs": [
    {
     "name": "stdout",
     "output_type": "stream",
     "text": [
      "This person's insurance cost is 5469.0 dollars.\n"
     ]
    }
   ],
   "source": [
    "# Add insurance estimate formula below\n",
    "insurance_cost = 250 * age\\\n",
    "                 - 128 * sex\\\n",
    "                 + 370 * bmi\\\n",
    "                 + 425 * num_of_children\\\n",
    "                 + 24000 * smoker - 12500\n",
    "\n",
    "# Print the result\n",
    "print(f\"This person's insurance cost is {insurance_cost} dollars.\")"
   ]
  },
  {
   "cell_type": "code",
   "execution_count": 3,
   "metadata": {
    "colab": {
     "base_uri": "https://localhost:8080/"
    },
    "executionInfo": {
     "elapsed": 244,
     "status": "ok",
     "timestamp": 1669154825525,
     "user": {
      "displayName": "Rizelle Capanzana",
      "userId": "13918624418820900908"
     },
     "user_tz": 480
    },
    "id": "7A_HX9JsXj19",
    "outputId": "4b386dca-3c8d-43de-e0b9-200f71bd59af"
   },
   "outputs": [
    {
     "name": "stdout",
     "output_type": "stream",
     "text": [
      "This person's insurance cost is 6469.0 dollars.\n",
      "The change in cost of insurance after increasing the age by 4 years is 1000.0 dollars.\n"
     ]
    }
   ],
   "source": [
    "# What happens if we change the age to 4 years older\n",
    "age += 4 # adds two values together and saves result to the variable age\n",
    "\n",
    "new_insurance_cost = 250 * age\\\n",
    "                 - 128 * sex\\\n",
    "                 + 370 * bmi\\\n",
    "                 + 425 * num_of_children\\\n",
    "                 + 24000 * smoker - 12500\n",
    "print(f\"This person's insurance cost is {new_insurance_cost} dollars.\")\n",
    "\n",
    "change_in_insurance_cost = new_insurance_cost - insurance_cost\n",
    "print(f\"The change in cost of insurance after increasing the age by 4 years is {change_in_insurance_cost} dollars.\")"
   ]
  },
  {
   "cell_type": "code",
   "execution_count": 4,
   "metadata": {
    "colab": {
     "base_uri": "https://localhost:8080/"
    },
    "executionInfo": {
     "elapsed": 7,
     "status": "ok",
     "timestamp": 1669155344951,
     "user": {
      "displayName": "Rizelle Capanzana",
      "userId": "13918624418820900908"
     },
     "user_tz": 480
    },
    "id": "ljKKxRXDY15d",
    "outputId": "b6c3eb3f-bff2-460a-d880-5b73a6918cb8"
   },
   "outputs": [
    {
     "name": "stdout",
     "output_type": "stream",
     "text": [
      "This person's insurance cost is 5341.0 dollars.\n",
      "The change in estimated cost for being male instead of female is -128.0 dollars.\n"
     ]
    }
   ],
   "source": [
    "# looking at male vs female factor\n",
    "age = 28 # return value to the same as female\n",
    "sex = 1\n",
    "\n",
    "new_insurance_cost = 250 * age\\\n",
    "                 - 128 * sex\\\n",
    "                 + 370 * bmi\\\n",
    "                 + 425 * num_of_children\\\n",
    "                 + 24000 * smoker - 12500\n",
    "print(f\"This person's insurance cost is {new_insurance_cost} dollars.\")\n",
    "\n",
    "change_in_insurance_cost = new_insurance_cost - insurance_cost\n",
    "print(f\"The change in estimated cost for being male instead of female is {change_in_insurance_cost} dollars.\")\n",
    "\n",
    "# This means that men tend to have lower medical costs on average than women."
   ]
  },
  {
   "cell_type": "markdown",
   "metadata": {},
   "source": [
    "***"
   ]
  },
  {
   "cell_type": "markdown",
   "metadata": {
    "id": "nluxm3luaaqB"
   },
   "source": [
    "## Python Strings: Medical Insurance Project\n",
    "\n",
    "\n",
    "You are a doctor who needs to clean up medical patient records, which are currently stored in one large string.\n",
    "\n",
    "In this project, you will use your new knowledge of Python strings to obtain and clean up medical data so that it is easier to read and analyze.\n",
    "\n",
    "Let's get started!"
   ]
  },
  {
   "cell_type": "code",
   "execution_count": 5,
   "metadata": {
    "colab": {
     "base_uri": "https://localhost:8080/"
    },
    "executionInfo": {
     "elapsed": 155,
     "status": "ok",
     "timestamp": 1669155534099,
     "user": {
      "displayName": "Rizelle Capanzana",
      "userId": "13918624418820900908"
     },
     "user_tz": 480
    },
    "id": "NEW2rKikapWk",
    "outputId": "174dba09-4cec-4126-e7e6-324976f631a9"
   },
   "outputs": [
    {
     "name": "stdout",
     "output_type": "stream",
     "text": [
      "Marina Allison   ,27   ,   31.1 , \n",
      "#7010.0   ;Markus Valdez   ,   30, \n",
      "22.4,   #4050.0 ;Connie Ballard ,43 \n",
      ",   25.3 , #12060.0 ;Darnell Weber   \n",
      ",   35   , 20.6   , #7500.0;\n",
      "Sylvie Charles   ,22, 22.1 \n",
      ",#3022.0   ;   Vinay Padilla,24,   \n",
      "26.9 ,#4620.0 ;Meredith Santiago, 51   , \n",
      "29.3 ,#16330.0;   Andre Mccarty, \n",
      "19,22.7 , #2900.0 ; \n",
      "Lorena Hodson ,65, 33.1 , #19370.0; \n",
      "Isaac Vu ,34, 24.8,   #7045.0\n"
     ]
    }
   ],
   "source": [
    "# The string `medical_data` stores the medical records for ten individuals. \n",
    "# Each record is separated by a `;` and contains the name, age, BMI \n",
    "# (body mass index), and insurance cost for an individual, in that order.\n",
    "\n",
    "medical_data = \\\n",
    "\"\"\"Marina Allison   ,27   ,   31.1 , \n",
    "#7010.0   ;Markus Valdez   ,   30, \n",
    "22.4,   #4050.0 ;Connie Ballard ,43 \n",
    ",   25.3 , #12060.0 ;Darnell Weber   \n",
    ",   35   , 20.6   , #7500.0;\n",
    "Sylvie Charles   ,22, 22.1 \n",
    ",#3022.0   ;   Vinay Padilla,24,   \n",
    "26.9 ,#4620.0 ;Meredith Santiago, 51   , \n",
    "29.3 ,#16330.0;   Andre Mccarty, \n",
    "19,22.7 , #2900.0 ; \n",
    "Lorena Hodson ,65, 33.1 , #19370.0; \n",
    "Isaac Vu ,34, 24.8,   #7045.0\"\"\"\n",
    "\n",
    "print(medical_data)"
   ]
  },
  {
   "cell_type": "code",
   "execution_count": 6,
   "metadata": {
    "colab": {
     "base_uri": "https://localhost:8080/"
    },
    "executionInfo": {
     "elapsed": 4,
     "status": "ok",
     "timestamp": 1669155648885,
     "user": {
      "displayName": "Rizelle Capanzana",
      "userId": "13918624418820900908"
     },
     "user_tz": 480
    },
    "id": "JKNgyS3RbEbh",
    "outputId": "31e2b3c1-1807-47dd-b5e0-52637b242225"
   },
   "outputs": [
    {
     "name": "stdout",
     "output_type": "stream",
     "text": [
      "Marina Allison   ,27   ,   31.1 , \n",
      "$7010.0   ;Markus Valdez   ,   30, \n",
      "22.4,   $4050.0 ;Connie Ballard ,43 \n",
      ",   25.3 , $12060.0 ;Darnell Weber   \n",
      ",   35   , 20.6   , $7500.0;\n",
      "Sylvie Charles   ,22, 22.1 \n",
      ",$3022.0   ;   Vinay Padilla,24,   \n",
      "26.9 ,$4620.0 ;Meredith Santiago, 51   , \n",
      "29.3 ,$16330.0;   Andre Mccarty, \n",
      "19,22.7 , $2900.0 ; \n",
      "Lorena Hodson ,65, 33.1 , $19370.0; \n",
      "Isaac Vu ,34, 24.8,   $7045.0\n"
     ]
    }
   ],
   "source": [
    "# Clean the string so easier to analyze\n",
    "# Replace # too $ to reflect that it is for insurance cost\n",
    "updated_medical_data = medical_data.replace('#','$')\n",
    "print(updated_medical_data)"
   ]
  },
  {
   "cell_type": "code",
   "execution_count": 7,
   "metadata": {
    "colab": {
     "base_uri": "https://localhost:8080/"
    },
    "executionInfo": {
     "elapsed": 311,
     "status": "ok",
     "timestamp": 1669155766734,
     "user": {
      "displayName": "Rizelle Capanzana",
      "userId": "13918624418820900908"
     },
     "user_tz": 480
    },
    "id": "EOt6o62ZbhYT",
    "outputId": "784e4809-8afb-42e5-ba15-20da8bf9831e"
   },
   "outputs": [
    {
     "name": "stdout",
     "output_type": "stream",
     "text": [
      "There are 10 medical records in the data.\n"
     ]
    }
   ],
   "source": [
    "# Calculate the number of medical records in our data\n",
    "num_records = 0\n",
    "for character in updated_medical_data:\n",
    "  if character == '$':\n",
    "    num_records += 1 \n",
    "print(f\"There are {num_records} medical records in the data.\")"
   ]
  },
  {
   "cell_type": "code",
   "execution_count": 8,
   "metadata": {
    "colab": {
     "base_uri": "https://localhost:8080/"
    },
    "executionInfo": {
     "elapsed": 442,
     "status": "ok",
     "timestamp": 1669155891732,
     "user": {
      "displayName": "Rizelle Capanzana",
      "userId": "13918624418820900908"
     },
     "user_tz": 480
    },
    "id": "lI8avwhfcL2O",
    "outputId": "f71cf3b6-d595-4848-b996-6418891801da"
   },
   "outputs": [
    {
     "name": "stdout",
     "output_type": "stream",
     "text": [
      "['Marina Allison   ,27   ,   31.1 , \\n$7010.0   ', 'Markus Valdez   ,   30, \\n22.4,   $4050.0 ', 'Connie Ballard ,43 \\n,   25.3 , $12060.0 ', 'Darnell Weber   \\n,   35   , 20.6   , $7500.0', '\\nSylvie Charles   ,22, 22.1 \\n,$3022.0   ', '   Vinay Padilla,24,   \\n26.9 ,$4620.0 ', 'Meredith Santiago, 51   , \\n29.3 ,$16330.0', '   Andre Mccarty, \\n19,22.7 , $2900.0 ', ' \\nLorena Hodson ,65, 33.1 , $19370.0', ' \\nIsaac Vu ,34, 24.8,   $7045.0']\n"
     ]
    }
   ],
   "source": [
    "# Clean the string so easier to analyze\n",
    "# Splitting strings\n",
    "medical_data_split = updated_medical_data.split(';')\n",
    "print(medical_data_split)\n"
   ]
  },
  {
   "cell_type": "code",
   "execution_count": 9,
   "metadata": {
    "colab": {
     "base_uri": "https://localhost:8080/"
    },
    "executionInfo": {
     "elapsed": 162,
     "status": "ok",
     "timestamp": 1669156057168,
     "user": {
      "displayName": "Rizelle Capanzana",
      "userId": "13918624418820900908"
     },
     "user_tz": 480
    },
    "id": "EdV0akAEcbK_",
    "outputId": "f8a2e488-4dd5-4f16-883d-0f124325222b"
   },
   "outputs": [
    {
     "name": "stdout",
     "output_type": "stream",
     "text": [
      "[['Marina Allison   ', '27   ', '   31.1 ', ' \\n$7010.0   '], ['Markus Valdez   ', '   30', ' \\n22.4', '   $4050.0 '], ['Connie Ballard ', '43 \\n', '   25.3 ', ' $12060.0 '], ['Darnell Weber   \\n', '   35   ', ' 20.6   ', ' $7500.0'], ['\\nSylvie Charles   ', '22', ' 22.1 \\n', '$3022.0   '], ['   Vinay Padilla', '24', '   \\n26.9 ', '$4620.0 '], ['Meredith Santiago', ' 51   ', ' \\n29.3 ', '$16330.0'], ['   Andre Mccarty', ' \\n19', '22.7 ', ' $2900.0 '], [' \\nLorena Hodson ', '65', ' 33.1 ', ' $19370.0'], [' \\nIsaac Vu ', '34', ' 24.8', '   $7045.0']]\n"
     ]
    }
   ],
   "source": [
    "# The data is now stored in one list. Split each medical record into its own list.\n",
    "medical_records = []\n",
    "for record in medical_data_split:\n",
    "  medical_records.append(record.split(','))\n",
    "\n",
    "print(medical_records)"
   ]
  },
  {
   "cell_type": "code",
   "execution_count": 10,
   "metadata": {
    "colab": {
     "base_uri": "https://localhost:8080/"
    },
    "executionInfo": {
     "elapsed": 225,
     "status": "ok",
     "timestamp": 1669157735452,
     "user": {
      "displayName": "Rizelle Capanzana",
      "userId": "13918624418820900908"
     },
     "user_tz": 480
    },
    "id": "blqxhUlKdTq6",
    "outputId": "f87c63a7-bb33-45a5-e967-dee0bbbabdf2"
   },
   "outputs": [
    {
     "name": "stdout",
     "output_type": "stream",
     "text": [
      "['Marina Allison', '27', '31.1', '$7010.0']\n",
      "['Markus Valdez', '30', '22.4', '$4050.0']\n",
      "['Connie Ballard', '43', '25.3', '$12060.0']\n",
      "['Darnell Weber', '35', '20.6', '$7500.0']\n",
      "['Sylvie Charles', '22', '22.1', '$3022.0']\n",
      "['Vinay Padilla', '24', '26.9', '$4620.0']\n",
      "['Meredith Santiago', '51', '29.3', '$16330.0']\n",
      "['Andre Mccarty', '19', '22.7', '$2900.0']\n",
      "['Lorena Hodson', '65', '33.1', '$19370.0']\n",
      "['Isaac Vu', '34', '24.8', '$7045.0']\n",
      "Names: ['Marina Allison', 'Markus Valdez', 'Connie Ballard', 'Darnell Weber', 'Sylvie Charles', 'Vinay Padilla', 'Meredith Santiago', 'Andre Mccarty', 'Lorena Hodson', 'Isaac Vu']\n",
      "Ages: ['27', '30', '43', '35', '22', '24', '51', '19', '65', '34']\n",
      "BMI: ['31.1', '22.4', '25.3', '20.6', '22.1', '26.9', '29.3', '22.7', '33.1', '24.8']\n",
      "Insurance Costs: ['$7010.0', '$4050.0', '$12060.0', '$7500.0', '$3022.0', '$4620.0', '$16330.0', '$2900.0', '$19370.0', '$7045.0']\n"
     ]
    }
   ],
   "source": [
    "# There is unnecessary white spaces, remove them using a nested for loop\n",
    "medical_records_clean = []\n",
    "\n",
    "for record in medical_records:\n",
    "    record_clean = []\n",
    "    for item in record:\n",
    "        record_clean.append(item.strip())\n",
    "    medical_records_clean.append(record_clean)\n",
    "\n",
    "# Print each record\n",
    "for record in medical_records_clean:\n",
    "    print(record)\n",
    "\n",
    "# Print each record using for loop\n",
    "#for record in medical_records_clean:\n",
    "    #print(f\"Names: {record[0]}\")\n",
    "    #print(f\"Ages: {record[1]}\")\n",
    "    #print(f\"BMI: {record[2]}\")\n",
    "    #print(f\"Insurance Costs: {record[3]}\")  \n",
    "\n",
    "# Want to uppercase the name 'MARKINA ALLISON'\n",
    "#for record in medical_records_clean:\n",
    "    #record[0] = record[0].upper()\n",
    "    #print(record)\n",
    "\n",
    "# To return back format to 'Markina Allison'\n",
    "#for record in medical_records_clean:\n",
    "    #record[0] = record[0].title()\n",
    "    #print(record)\n",
    "\n",
    "# Store each value of the lists to separate lists of the following:\n",
    "# names, ages, bmis, insurance_costs\n",
    "names = []\n",
    "ages = []\n",
    "bmis = []\n",
    "insurance_costs = []\n",
    "for record in medical_records_clean:\n",
    "    names.append(record[0])\n",
    "    ages.append(record[1])\n",
    "    bmis.append(record[2])\n",
    "    insurance_costs.append(record[3])\n",
    "\n",
    "# print each list\n",
    "print(f\"Names: {names}\")\n",
    "print(f\"Ages: {ages}\")\n",
    "print(f\"BMI: {bmis}\")\n",
    "print(f\"Insurance Costs: {insurance_costs}\")\n"
   ]
  },
  {
   "cell_type": "code",
   "execution_count": 11,
   "metadata": {
    "colab": {
     "base_uri": "https://localhost:8080/"
    },
    "executionInfo": {
     "elapsed": 433,
     "status": "ok",
     "timestamp": 1669157884766,
     "user": {
      "displayName": "Rizelle Capanzana",
      "userId": "13918624418820900908"
     },
     "user_tz": 480
    },
    "id": "F0YgjM7ljlFp",
    "outputId": "da326e83-b315-4246-ea0f-961193fa4268"
   },
   "outputs": [
    {
     "name": "stdout",
     "output_type": "stream",
     "text": [
      "Average BMI: 31.1\n"
     ]
    }
   ],
   "source": [
    "# Now that all of the data is in separate lists, can easily perform analysis on \n",
    "# that data.\n",
    "# Calculate the average BMI in our dataset.\n",
    "total_bmi = 0\n",
    "for score in bmis:\n",
    "  total_bmi += float(bmis[0])\n",
    "avg_bmi = total_bmi/len(bmis)\n",
    "print(f\"Average BMI: {avg_bmi}\")"
   ]
  },
  {
   "cell_type": "code",
   "execution_count": 12,
   "metadata": {
    "colab": {
     "base_uri": "https://localhost:8080/"
    },
    "executionInfo": {
     "elapsed": 339,
     "status": "ok",
     "timestamp": 1669158389552,
     "user": {
      "displayName": "Rizelle Capanzana",
      "userId": "13918624418820900908"
     },
     "user_tz": 480
    },
    "id": "2nNN8CU9kI2w",
    "outputId": "a0a03bd0-6541-4da9-8f76-1155ec211993"
   },
   "outputs": [
    {
     "name": "stdout",
     "output_type": "stream",
     "text": [
      "['7010.0', '4050.0', '12060.0', '7500.0', '3022.0', '4620.0', '16330.0', '2900.0', '19370.0', '7045.0']\n"
     ]
    }
   ],
   "source": [
    "# Calculate the average insurance cost.\n",
    "# Need to clean the data before analysis by removing special character $\n",
    "insurance_costs_clean = []\n",
    "for costs in insurance_costs:\n",
    "  insurance_costs_clean.append(costs.strip('$'))\n",
    "print(insurance_costs_clean)\n",
    "\n",
    "# Other method to do the same thing\n",
    "#insurance_costs_clean = list(map(lambda each:each.strip('$'),insurance_costs))\n",
    "#print(insurance_costs_clean)"
   ]
  },
  {
   "cell_type": "code",
   "execution_count": 13,
   "metadata": {
    "colab": {
     "base_uri": "https://localhost:8080/"
    },
    "executionInfo": {
     "elapsed": 157,
     "status": "ok",
     "timestamp": 1669158392443,
     "user": {
      "displayName": "Rizelle Capanzana",
      "userId": "13918624418820900908"
     },
     "user_tz": 480
    },
    "id": "fP8Ez0_Fl5Fc",
    "outputId": "ec2fcd29-afb5-40dc-a994-b59134ec558c"
   },
   "outputs": [
    {
     "name": "stdout",
     "output_type": "stream",
     "text": [
      "['7010.0', '4050.0', '12060.0', '7500.0', '3022.0', '4620.0', '16330.0', '2900.0', '19370.0', '7045.0']\n",
      "The total cost of insurance for this dataset is $83907.0.\n",
      "The average cost of insurance for this dataset is $8390.7.\n"
     ]
    }
   ],
   "source": [
    "# Calculations\n",
    "# for loop method practiced in this activity\n",
    "total_cost = 0\n",
    "for element in insurance_costs_clean:\n",
    "  total_cost += float(element)\n",
    "print(insurance_costs_clean)\n",
    "\n",
    "avg_cost = total_cost/len(insurance_costs_clean)\n",
    "print(f\"The total cost of insurance for this dataset is ${total_cost}.\")\n",
    "print(f\"The average cost of insurance for this dataset is ${avg_cost}.\")\n",
    "\n",
    "# list comprehension method\n",
    "#floats = [float(x) for x in insurance_costs_clean]\n",
    "#print(floats)\n",
    "\n",
    "#total_cost = sum(floats)\n",
    "#avg_cost = total_cost/len(floats)\n",
    "#print(f\"The total cost of insurance for this dataset is ${total_cost}.\")\n",
    "#print(f\"The average cost of insurance for this dataset is ${avg_cost}.\")\n"
   ]
  },
  {
   "cell_type": "code",
   "execution_count": 14,
   "metadata": {
    "colab": {
     "base_uri": "https://localhost:8080/"
    },
    "executionInfo": {
     "elapsed": 195,
     "status": "ok",
     "timestamp": 1669159060842,
     "user": {
      "displayName": "Rizelle Capanzana",
      "userId": "13918624418820900908"
     },
     "user_tz": 480
    },
    "id": "tJ-bQBPzmOp9",
    "outputId": "cafb9bd8-2238-4502-823a-21c39f56e8ba"
   },
   "outputs": [
    {
     "name": "stdout",
     "output_type": "stream",
     "text": [
      "['MARINA ALLISON', 'MARKUS VALDEZ', 'CONNIE BALLARD', 'DARNELL WEBER', 'SYLVIE CHARLES', 'VINAY PADILLA', 'MEREDITH SANTIAGO', 'ANDRE MCCARTY', 'LORENA HODSON', 'ISAAC VU']\n",
      "['Marina Allison', 'Markus Valdez', 'Connie Ballard', 'Darnell Weber', 'Sylvie Charles', 'Vinay Padilla', 'Meredith Santiago', 'Andre Mccarty', 'Lorena Hodson', 'Isaac Vu']\n",
      "Marina Allison is 27 years old with a BMI of 31.1 and an insurance cost of $7010.0.\n",
      "Markus Valdez is 30 years old with a BMI of 22.4 and an insurance cost of $4050.0.\n",
      "Connie Ballard is 43 years old with a BMI of 25.3 and an insurance cost of $12060.0.\n",
      "Darnell Weber is 35 years old with a BMI of 20.6 and an insurance cost of $7500.0.\n",
      "Sylvie Charles is 22 years old with a BMI of 22.1 and an insurance cost of $3022.0.\n",
      "Vinay Padilla is 24 years old with a BMI of 26.9 and an insurance cost of $4620.0.\n",
      "Meredith Santiago is 51 years old with a BMI of 29.3 and an insurance cost of $16330.0.\n",
      "Andre Mccarty is 19 years old with a BMI of 22.7 and an insurance cost of $2900.0.\n",
      "Lorena Hodson is 65 years old with a BMI of 33.1 and an insurance cost of $19370.0.\n",
      "Isaac Vu is 34 years old with a BMI of 24.8 and an insurance cost of $7045.0.\n"
     ]
    }
   ],
   "source": [
    "# Upper case the name in names list\n",
    "names_upper = list(map(lambda each:each.upper(),names))\n",
    "print(names_upper)\n",
    "\n",
    "# Clean the names list to be back to original format\n",
    "names_clean = list(map(lambda each:each.title(),names_upper))\n",
    "print(names_clean)\n",
    "\n",
    "# Write a for loop that outputs a string for each individual\n",
    "for i in range(len(names_clean)):\n",
    "  print(f\"{names_clean[i]} is {ages[i]} years old with a BMI of {bmis[i]} and an insurance cost of {insurance_costs[i]}.\")"
   ]
  },
  {
   "cell_type": "markdown",
   "metadata": {},
   "source": [
    "***"
   ]
  },
  {
   "cell_type": "markdown",
   "metadata": {
    "id": "SHZyrJ5Nok1d"
   },
   "source": [
    "## Python Lists: Medical Insurance Estimation Project\n",
    "\n",
    "In this project, you will examine how factors such as age, sex, BMI, number of children, and smoking status contribute to medical insurance costs.\n",
    "\n",
    "You will apply your new knowledge of Python Lists to store insurance cost data in a list as well as compare estimated insurance costs to actual insurance costs."
   ]
  },
  {
   "cell_type": "code",
   "execution_count": 15,
   "metadata": {
    "colab": {
     "base_uri": "https://localhost:8080/"
    },
    "executionInfo": {
     "elapsed": 177,
     "status": "ok",
     "timestamp": 1669159853718,
     "user": {
      "displayName": "Rizelle Capanzana",
      "userId": "13918624418820900908"
     },
     "user_tz": 480
    },
    "id": "f6XP36seo2v7",
    "outputId": "38c6b167-0436-44d0-c9c1-6d87fc80a067"
   },
   "outputs": [
    {
     "name": "stdout",
     "output_type": "stream",
     "text": [
      "Maria's Estimated Insurance Cost: 4222.0 dollars.\n",
      "Rohan's Estimated Insurance Cost: 5442.0 dollars.\n",
      "Valentina's Estimated Insurance Cost: 36368.0 dollars.\n"
     ]
    }
   ],
   "source": [
    "# Create a lists\n",
    "# Function to estimate insurance cost:\n",
    "def estimate_insurance_cost(name, age, sex, bmi, num_of_children, smoker):\n",
    "    estimated_cost = 250*age - 128*sex + 370*bmi + 425*num_of_children + 24000*smoker - 12500\n",
    "    print(name + \"'s Estimated Insurance Cost: \" + str(estimated_cost) + \" dollars.\")\n",
    "    return estimated_cost\n",
    "\n",
    "# Estimate Maria's insurance cost\n",
    "maria_insurance_cost = estimate_insurance_cost(name = \"Maria\", age = 31, sex = 0, bmi = 23.1, num_of_children = 1, smoker = 0)\n",
    "\n",
    "# Estimate Rohan's insurance cost\n",
    "rohan_insurance_cost = estimate_insurance_cost(name = \"Rohan\", age = 25, sex = 1, bmi = 28.5, num_of_children = 3, smoker = 0)\n",
    "\n",
    "# Estimate Valentina's insurance cost\n",
    "valentina_insurance_cost = estimate_insurance_cost(name = \"Valentina\", age = 53, sex = 0, bmi = 31.4, num_of_children = 0, smoker = 1)\n",
    "\n",
    "# Lists for names and insurance_costs\n",
    "names = ['Maria','Rohan','Valentina']\n",
    "insurance_costs = [4150.0,5320.0,35210.0]"
   ]
  },
  {
   "cell_type": "code",
   "execution_count": 16,
   "metadata": {
    "colab": {
     "base_uri": "https://localhost:8080/"
    },
    "executionInfo": {
     "elapsed": 238,
     "status": "ok",
     "timestamp": 1669160201329,
     "user": {
      "displayName": "Rizelle Capanzana",
      "userId": "13918624418820900908"
     },
     "user_tz": 480
    },
    "id": "nzglLyQPrVmi",
    "outputId": "f3c7475e-f30d-424a-d6a9-937250115d89"
   },
   "outputs": [
    {
     "name": "stdout",
     "output_type": "stream",
     "text": [
      "Here is the actual insurance cost data: [('Maria', 4150.0), ('Rohan', 5320.0), ('Valentina', 35210.0)]\n"
     ]
    }
   ],
   "source": [
    "# Combine lists\n",
    "insurance_data = list(zip(names,insurance_costs)) # need to use list function outside zip function to return a list\n",
    "print(f\"Here is the actual insurance cost data: {insurance_data}\")"
   ]
  },
  {
   "cell_type": "code",
   "execution_count": 17,
   "metadata": {
    "colab": {
     "base_uri": "https://localhost:8080/"
    },
    "executionInfo": {
     "elapsed": 432,
     "status": "ok",
     "timestamp": 1669160691217,
     "user": {
      "displayName": "Rizelle Capanzana",
      "userId": "13918624418820900908"
     },
     "user_tz": 480
    },
    "id": "bTMTMyySsFiz",
    "outputId": "5ede82d3-91f9-49a4-ffdf-0695e377af7b"
   },
   "outputs": [
    {
     "name": "stdout",
     "output_type": "stream",
     "text": [
      "Here is the estimated insurance cost data: [('Maria', 4222.0), ('Rohan', 5442.0), ('Valentina', 36368.0)]\n"
     ]
    }
   ],
   "source": [
    "# Appending to a list.\n",
    "# Append the separate lists of the estimated insurance costs\n",
    "estimated_insurance_data = []\n",
    "estimated_insurance_data.append(('Maria',maria_insurance_cost))\n",
    "estimated_insurance_data.append(('Rohan',rohan_insurance_cost))\n",
    "estimated_insurance_data.append(('Valentina',valentina_insurance_cost))\n",
    "print(f\"Here is the estimated insurance cost data: {estimated_insurance_data}\")"
   ]
  },
  {
   "cell_type": "markdown",
   "metadata": {
    "id": "an75xucms7ew"
   },
   "source": [
    "It should be much more clear from the output what each of the two lists represents, helping you better understand the data you're working with.\n",
    "\n",
    "You may notice that there are differences between the actual insurance costs and estimated insurance costs. This means that our estimate_insurance_cost() function does not calculate insurance costs with 100% accuracy.\n",
    "\n",
    "Compare the estimated insurance data to the actual insurance data. Do the estimated insurance costs seem to be overestimated or underestimated?"
   ]
  },
  {
   "cell_type": "code",
   "execution_count": 18,
   "metadata": {
    "colab": {
     "base_uri": "https://localhost:8080/"
    },
    "executionInfo": {
     "elapsed": 202,
     "status": "ok",
     "timestamp": 1669160644707,
     "user": {
      "displayName": "Rizelle Capanzana",
      "userId": "13918624418820900908"
     },
     "user_tz": 480
    },
    "id": "jhj2KiUOugaP",
    "outputId": "391e3c9c-6115-48aa-86de-fd80e8e86226"
   },
   "outputs": [
    {
     "data": {
      "text/plain": [
       "[('Maria', 4150.0), ('Rohan', 5320.0), ('Valentina', 35210.0)]"
      ]
     },
     "execution_count": 18,
     "metadata": {},
     "output_type": "execute_result"
    }
   ],
   "source": [
    "insurance_data"
   ]
  },
  {
   "cell_type": "code",
   "execution_count": 19,
   "metadata": {
    "colab": {
     "base_uri": "https://localhost:8080/"
    },
    "executionInfo": {
     "elapsed": 530,
     "status": "ok",
     "timestamp": 1669162585882,
     "user": {
      "displayName": "Rizelle Capanzana",
      "userId": "13918624418820900908"
     },
     "user_tz": 480
    },
    "id": "02HUJ7L6tDN4",
    "outputId": "54977cd4-0cc1-4c2a-8be3-7e8bc2afaa17"
   },
   "outputs": [
    {
     "name": "stdout",
     "output_type": "stream",
     "text": [
      "Here is the difference between actual_cost and estimated_cost: [-72.0, -122.0, -1158.0]\n",
      "The estimated insurance data is overestimated by -72.0.\n",
      "The estimated insurance data is overestimated by -122.0.\n",
      "The estimated insurance data is overestimated by -1158.0.\n"
     ]
    }
   ],
   "source": [
    "# Create a new list for actual cost and estimated cost from the current lists \n",
    "# of insurance_data and estimated_insurance_data\n",
    "actual_insurance_cost = []\n",
    "for data in insurance_data:\n",
    "  actual_insurance_cost.append(data[1])\n",
    "\n",
    "estimated_insurance_cost = []\n",
    "for data in estimated_insurance_data:\n",
    "  estimated_insurance_cost.append(data[1])\n",
    "\n",
    "# Can subtract the two lists\n",
    "difference = [actual_cost - estimated_cost for (actual_cost,estimated_cost) in zip(actual_insurance_cost,estimated_insurance_cost)]\n",
    "print(f\"Here is the difference between actual_cost and estimated_cost: {difference}\")\n",
    "for value in difference:\n",
    "  if value < 0:\n",
    "    print(f\"The estimated insurance data is overestimated by {value}.\")\n",
    "  elif value > 0:\n",
    "    print(f\"The estimated insurance data is underestimated by {value}.\")\n",
    "  else:\n",
    "    print(\"The estimated insurance data matches insurance cost.\")"
   ]
  },
  {
   "cell_type": "markdown",
   "metadata": {},
   "source": [
    "***"
   ]
  },
  {
   "cell_type": "markdown",
   "metadata": {
    "id": "exRqtyjr2WI_"
   },
   "source": [
    "## Working with Python Lists: Medical Insurance Costs Project\n",
    "\n",
    "You are a doctor sorting through medical insurance cost data for some patients.\n",
    "\n",
    "Using your knowledge of Python lists, you will store medical data and see what valuable insights you can gain from that data."
   ]
  },
  {
   "cell_type": "code",
   "execution_count": 20,
   "metadata": {
    "colab": {
     "base_uri": "https://localhost:8080/"
    },
    "executionInfo": {
     "elapsed": 153,
     "status": "ok",
     "timestamp": 1669163087712,
     "user": {
      "displayName": "Rizelle Capanzana",
      "userId": "13918624418820900908"
     },
     "user_tz": 480
    },
    "id": "CmilakiE2cmu",
    "outputId": "c854e992-ee51-4953-8ecb-c2c44265ac61"
   },
   "outputs": [
    {
     "name": "stdout",
     "output_type": "stream",
     "text": [
      "['Mohamed', 'Sara', 'Xia', 'Paul', 'Valentina', 'Jide', 'Aaron', 'Emily', 'Nikita', 'Paul', 'Priscilla']\n",
      "[13262.0, 4816.0, 6839.0, 5054.0, 14724.0, 5360.0, 7640.0, 6072.0, 2750.0, 12064.0, 8320.0]\n",
      "[(13262.0, 'Mohamed'), (4816.0, 'Sara'), (6839.0, 'Xia'), (5054.0, 'Paul'), (14724.0, 'Valentina'), (5360.0, 'Jide'), (7640.0, 'Aaron'), (6072.0, 'Emily'), (2750.0, 'Nikita'), (12064.0, 'Paul'), (8320.0, 'Priscilla')]\n",
      "There are 11 medical records\n",
      "Here is the first medical record: (13262.0, 'Mohamed')\n",
      "Here are the medical records sorted by insurance cost: [(2750.0, 'Nikita'), (4816.0, 'Sara'), (5054.0, 'Paul'), (5360.0, 'Jide'), (6072.0, 'Emily'), (6839.0, 'Xia'), (7640.0, 'Aaron'), (8320.0, 'Priscilla'), (12064.0, 'Paul'), (13262.0, 'Mohamed'), (14724.0, 'Valentina')]\n"
     ]
    }
   ],
   "source": [
    "# Exploring list data\n",
    "names = [\"Mohamed\", \"Sara\", \"Xia\", \"Paul\", \"Valentina\", \"Jide\", \"Aaron\", \"Emily\", \"Nikita\", \"Paul\"]\n",
    "insurance_costs = [13262.0, 4816.0, 6839.0, 5054.0, 14724.0, 5360.0, 7640.0, 6072.0, 2750.0, 12064.0]\n",
    "\n",
    "names.append(\"Priscilla\")\n",
    "insurance_costs.append(8320.0)\n",
    "\n",
    "print(names)\n",
    "print(insurance_costs)\n",
    "\n",
    "# combine the two separate lists into a single list\n",
    "medical_records = list(zip(insurance_costs,names))\n",
    "print(medical_records)\n",
    "\n",
    "# count how many records we have\n",
    "num_medical_records = len(medical_records)\n",
    "print(f\"There are {num_medical_records} medical records\")\n",
    "\n",
    "# selecting list elements\n",
    "# select the first record\n",
    "first_medical_record = medical_records[0]\n",
    "print(f\"Here is the first medical record: {first_medical_record}\")\n",
    "\n",
    "# sort the lists \n",
    "# list the individuals with the lowest insurance costs first on the list\n",
    "sorted_mr = sorted(medical_records,key = lambda x:x[0], reverse = False)\n",
    "print(f\"Here are the medical records sorted by insurance cost: {sorted_mr}\")\n",
    "\n",
    "# another method to sort\n",
    "#medical_records.sort()\n",
    "#print(f\"Here are the medical records sorted by insurance cost: {medical_records}\")\n",
    "\n",
    "#sorted_mr = medical_records.sort() Does not work because .sort() does not return the sorted list and instead sorts the list in place. \n",
    "#in other words, .sort() returns same list vs. sorted() returns new list"
   ]
  },
  {
   "cell_type": "code",
   "execution_count": 21,
   "metadata": {
    "colab": {
     "base_uri": "https://localhost:8080/"
    },
    "executionInfo": {
     "elapsed": 262,
     "status": "ok",
     "timestamp": 1669163428062,
     "user": {
      "displayName": "Rizelle Capanzana",
      "userId": "13918624418820900908"
     },
     "user_tz": 480
    },
    "id": "Qhbqfw0436Df",
    "outputId": "4f276453-902d-410a-bf09-5f1558864169"
   },
   "outputs": [
    {
     "name": "stdout",
     "output_type": "stream",
     "text": [
      "Here are the three cheapest insurance costs in our medical records: [(13262.0, 'Mohamed'), (4816.0, 'Sara'), (6839.0, 'Xia')]\n",
      "The medical records for the middle five records are as follows: [(5054.0, 'Paul'), (14724.0, 'Valentina'), (5360.0, 'Jide'), (7640.0, 'Aaron'), (6072.0, 'Emily')]\n",
      "There are 2 individuals with the name Paul in our medical records.\n",
      "The medical records are as follows in alphabetical order: [('Aaron', 7640.0), ('Emily', 6072.0), ('Jide', 5360.0), ('Mohamed', 13262.0), ('Nikita', 2750.0), ('Paul', 5054.0), ('Paul', 12064.0), ('Priscilla', 8320.0), ('Sara', 4816.0), ('Valentina', 14724.0), ('Xia', 6839.0)]\n"
     ]
    }
   ],
   "source": [
    "# slicing lists and selecting\n",
    "# find the cheapest three, recall python uses indexing (start value,end value+1]\n",
    "cheapest_three = medical_records[:3]\n",
    "print(f\"Here are the three cheapest insurance costs in our medical records: {cheapest_three}\")\n",
    "\n",
    "# select index 3 and ending at index 7\n",
    "middle_five_records = medical_records[3:8]\n",
    "print(f\"The medical records for the middle five records are as follows: {middle_five_records}\")\n",
    "\n",
    "# counting elements in a list\n",
    "occurrences_paul = names.count('Paul')\n",
    "print(f\"There are {occurrences_paul} individuals with the name Paul in our medical records.\")\n",
    "\n",
    "# sort medical records alphabetically\n",
    "# notice had to create a new list using zip before sorting\n",
    "medical_records = list(zip(names,insurance_costs))\n",
    "medical_records.sort()\n",
    "print(f\"The medical records are as follows in alphabetical order: {medical_records}\")"
   ]
  },
  {
   "cell_type": "markdown",
   "metadata": {},
   "source": [
    "***"
   ]
  },
  {
   "cell_type": "markdown",
   "metadata": {
    "id": "4REMRA9v5PNv"
   },
   "source": [
    "## Python Dictionaries: Medical Insurance Project\n",
    "\n",
    "You have been asked to create a program that organizes and updates medical records efficiently.\n",
    "\n",
    "In this project, you will use your new knowledge of Python dictionaries to create a database of medical records for patients.\n",
    "\n",
    "### Python Collections (Arrays) \n",
    "There are four collection data types in the Python programming language:\n",
    "\n",
    "* **List** is a collection which is ordered and changeable. Allows duplicate members. Create empty list []\n",
    "\n",
    "* **Tuple** is a collection which is ordered and unchangeable. Allows duplicate members.\n",
    "\n",
    "* **Set** is a collection which is unordered, unchangeable*, and unindexed. No duplicate members.\n",
    "\n",
    "* **Dictionary** is a collection which is ordered** and changeable. No duplicate members. Create empty dictionary {}"
   ]
  },
  {
   "cell_type": "code",
   "execution_count": 22,
   "metadata": {
    "colab": {
     "base_uri": "https://localhost:8080/"
    },
    "executionInfo": {
     "elapsed": 178,
     "status": "ok",
     "timestamp": 1669165042144,
     "user": {
      "displayName": "Rizelle Capanzana",
      "userId": "13918624418820900908"
     },
     "user_tz": 480
    },
    "id": "kRaBppIn55NT",
    "outputId": "87332e81-55da-412f-c318-14a07e3786ce"
   },
   "outputs": [
    {
     "name": "stdout",
     "output_type": "stream",
     "text": [
      "{'Marina': 6607.0, 'Vinay': 3225.0, 'Connie': 8886.0, 'Isaac': 16444.0, 'Valentina': 6420.0}\n"
     ]
    }
   ],
   "source": [
    "# Storing patient names and costs\n",
    "# create an empty dictionary\n",
    "medical_costs = {}\n",
    "\n",
    "# populate dictionary with key-value pairs\n",
    "medical_costs['Marina'] = 6607.0\n",
    "medical_costs['Vinay'] = 3225.0\n",
    "\n",
    "# using one line of code to update with more data\n",
    "medical_costs.update({\"Connie\": 8886.0, \"Isaac\": 16444.0, \"Valentina\": 6420.0})\n",
    "\n",
    "print(medical_costs)"
   ]
  },
  {
   "cell_type": "code",
   "execution_count": 23,
   "metadata": {
    "colab": {
     "base_uri": "https://localhost:8080/"
    },
    "executionInfo": {
     "elapsed": 170,
     "status": "ok",
     "timestamp": 1669165076392,
     "user": {
      "displayName": "Rizelle Capanzana",
      "userId": "13918624418820900908"
     },
     "user_tz": 480
    },
    "id": "1L0myV8F_WKN",
    "outputId": "7b459457-4859-4745-d4a8-15b21f7687d7"
   },
   "outputs": [
    {
     "name": "stdout",
     "output_type": "stream",
     "text": [
      "{'Marina': 6607.0, 'Vinay': 3325.0, 'Connie': 8886.0, 'Isaac': 16444.0, 'Valentina': 6420.0}\n"
     ]
    }
   ],
   "source": [
    "# found the Vinay's record is incorrect so update it\n",
    "medical_costs[\"Vinay\"] = 3325.0\n",
    "print(medical_costs)"
   ]
  },
  {
   "cell_type": "code",
   "execution_count": 24,
   "metadata": {
    "colab": {
     "base_uri": "https://localhost:8080/"
    },
    "executionInfo": {
     "elapsed": 173,
     "status": "ok",
     "timestamp": 1669165329285,
     "user": {
      "displayName": "Rizelle Capanzana",
      "userId": "13918624418820900908"
     },
     "user_tz": 480
    },
    "id": "euTXEmXe_mxO",
    "outputId": "d4f815a3-3725-42cf-ec8f-2ea6d590e21b"
   },
   "outputs": [
    {
     "name": "stdout",
     "output_type": "stream",
     "text": [
      "The Total Cost: 6420.0\n",
      "Average Insurance Cost: 1284.0\n"
     ]
    }
   ],
   "source": [
    "# calculate the average medical cost of each patient\n",
    "# create varible total_cost and set it to 0. Then iterate through the values in \n",
    "# `medical_costs` and add each value to the `total_cost` variable.\n",
    "total_cost = 0\n",
    "for cost in medical_costs.values():\n",
    "  total_cost =+ cost\n",
    "  \n",
    "print(f\"The Total Cost: {total_cost}\")\n",
    "\n",
    "average_cost = total_cost/len(medical_costs)\n",
    "print(f\"Average Insurance Cost: {average_cost}\")"
   ]
  },
  {
   "cell_type": "markdown",
   "metadata": {
    "id": "ZWnWB9VKAgQt"
   },
   "source": [
    "### List Comprehenstion to Dictionary\n",
    "You have been asked to create a second dictionary that maps patient names to their ages.\n",
    "First, create two lists called names and ages with the following data:\n",
    "names | ages --- | --- Marina | 27 Vinay | 24 Connie | 43 Isaac | 35 Valentina | 52"
   ]
  },
  {
   "cell_type": "code",
   "execution_count": 25,
   "metadata": {
    "colab": {
     "base_uri": "https://localhost:8080/"
    },
    "executionInfo": {
     "elapsed": 169,
     "status": "ok",
     "timestamp": 1669165846225,
     "user": {
      "displayName": "Rizelle Capanzana",
      "userId": "13918624418820900908"
     },
     "user_tz": 480
    },
    "id": "oAUTcEFqAvJL",
    "outputId": "550c9cb7-af08-4953-a026-bd8237e4d2f6"
   },
   "outputs": [
    {
     "name": "stdout",
     "output_type": "stream",
     "text": [
      "{'Marina': 27, 'Vinay': 24, 'Connie': 43, 'Isaac': 35, 'Valentina': 52}\n",
      "Marina's age is 27.\n",
      "Marina's age is 27.\n",
      "Vinay's age is 24.\n",
      "Connie's age is 43.\n",
      "Isaac's age is 35.\n",
      "Valentina's age is 52.\n"
     ]
    }
   ],
   "source": [
    "names = ['Marina','Vinay','Connie','Isaac','Valentina']\n",
    "ages = [27,24,43,35,52]\n",
    "zipped_ages = list(zip(names,ages))\n",
    "\n",
    "# Create a dictionary called names_to_ages by using a list comprehension that iterates \n",
    "# through zipped_ages and turns each pair into a key : value item.\n",
    "names_to_ages = {key: value for key, value in zipped_ages}\n",
    "print(names_to_ages)\n",
    "\n",
    "# to get values, use .get()\n",
    "# get Marina's age and store it to marina_age. Use None as a default value if the key doesn't exist.\n",
    "marina_age = names_to_ages.get(\"Marina\", None)\n",
    "print(f\"Marina's age is {marina_age}.\")\n",
    "\n",
    "# get each name and print it out\n",
    "for i in names_to_ages:\n",
    "  age = names_to_ages.get(i,None)\n",
    "  print(f\"{i}'s age is {age}.\")\n"
   ]
  },
  {
   "cell_type": "markdown",
   "metadata": {
    "id": "n8QIFAbMCshQ"
   },
   "source": [
    "### Using a Dictionary to Create a Medical Database\n",
    "\n",
    "Let's create a third dictionary to represent a database of medical records that contains information such as a patient's name, age, sex, gender, BMI, number of children, smoker status, and insurance cost."
   ]
  },
  {
   "cell_type": "code",
   "execution_count": 26,
   "metadata": {
    "colab": {
     "base_uri": "https://localhost:8080/"
    },
    "executionInfo": {
     "elapsed": 361,
     "status": "ok",
     "timestamp": 1669168370747,
     "user": {
      "displayName": "Rizelle Capanzana",
      "userId": "13918624418820900908"
     },
     "user_tz": 480
    },
    "id": "5hTQJVXbC3H6",
    "outputId": "eeb721c5-9e76-4dad-9cae-1a83952858e6"
   },
   "outputs": [
    {
     "name": "stdout",
     "output_type": "stream",
     "text": [
      "The medical records are the following: {'Marina': {'Age': 27, 'Sex': 'Female', 'BMI': 31.1, 'Children': 2, 'Smoker': 'Non-smoker', 'Insurance_cost': 6607.0}, 'Vinay': {'Age': 24, 'Sex': 'Male', 'BMI': 26.9, 'Children': 0, 'Smoker': 'Non-smoker', 'Insurance_cost': 3225.0}, 'Connie': {'Age': 43, 'Sex': 'Female', 'BMI': 25.3, 'Children': 3, 'Smoker': 'Non-smoker', 'Insurance_cost': 8886.0}, 'Isaac': {'Age': 35, 'Sex': 'Male', 'BMI': 20.6, 'Children': 4, 'Smoker': 'Smoker', 'Insurance_cost': 16444.0}, 'Valentina': {'Age': 52, 'Sex': 'Female', 'BMI': 18.7, 'Children': 1, 'Smoker': 'Non-smoker', 'Insurance_cost': 6420.0}}\n"
     ]
    }
   ],
   "source": [
    "medical_records = {}\n",
    "# add data into dictionary\n",
    "medical_records[\"Marina\"] = {\"Age\": 27, \"Sex\": \"Female\", \"BMI\": 31.1, \"Children\": 2, \"Smoker\": \"Non-smoker\", \"Insurance_cost\": 6607.0}\n",
    "medical_records[\"Vinay\"] = {\"Age\": 24, \"Sex\": \"Male\", \"BMI\": 26.9, \"Children\": 0, \"Smoker\": \"Non-smoker\", \"Insurance_cost\": 3225.0}\n",
    "medical_records[\"Connie\"] = {\"Age\": 43, \"Sex\": \"Female\", \"BMI\": 25.3, \"Children\": 3, \"Smoker\": \"Non-smoker\", \"Insurance_cost\": 8886.0}\n",
    "medical_records[\"Isaac\"] = {\"Age\": 35, \"Sex\": \"Male\", \"BMI\": 20.6, \"Children\": 4, \"Smoker\": \"Smoker\", \"Insurance_cost\": 16444.0}\n",
    "medical_records[\"Valentina\"] = {\"Age\": 52, \"Sex\": \"Female\", \"BMI\": 18.7, \"Children\": 1, \"Smoker\": \"Non-smoker\", \"Insurance_cost\": 6420.0}\n",
    "\n",
    "print(f\"The medical records are the following: {medical_records}\")\n"
   ]
  },
  {
   "cell_type": "code",
   "execution_count": 27,
   "metadata": {
    "colab": {
     "base_uri": "https://localhost:8080/"
    },
    "executionInfo": {
     "elapsed": 169,
     "status": "ok",
     "timestamp": 1669168576476,
     "user": {
      "displayName": "Rizelle Capanzana",
      "userId": "13918624418820900908"
     },
     "user_tz": 480
    },
    "id": "oocfRKgkMOmp",
    "outputId": "74efbaa0-efac-419e-850e-dce6ef2a8847"
   },
   "outputs": [
    {
     "name": "stdout",
     "output_type": "stream",
     "text": [
      "Connie's insurance cost is 8886.0 dollars.\n"
     ]
    }
   ],
   "source": [
    "# The medical_records dictionary acts like a database of medical records. \n",
    "# Let's access a specific piece of data in medical_records.\n",
    "#print(\"Connie's insurance cost is \" + str(medical_records[\"Connie\"][\"Insurance_cost\"]) + \" dollars.\")\n",
    "print(f\"Connie's insurance cost is {medical_records['Connie']['Insurance_cost']} dollars.\")"
   ]
  },
  {
   "cell_type": "code",
   "execution_count": 28,
   "metadata": {
    "colab": {
     "base_uri": "https://localhost:8080/"
    },
    "executionInfo": {
     "elapsed": 156,
     "status": "ok",
     "timestamp": 1669168645809,
     "user": {
      "displayName": "Rizelle Capanzana",
      "userId": "13918624418820900908"
     },
     "user_tz": 480
    },
    "id": "rEKIHtHfM78x",
    "outputId": "8405bfa6-82f1-4ad4-c8b8-d11d10c81e3b"
   },
   "outputs": [
    {
     "name": "stdout",
     "output_type": "stream",
     "text": [
      "{'Marina': {'Age': 27, 'Sex': 'Female', 'BMI': 31.1, 'Children': 2, 'Smoker': 'Non-smoker', 'Insurance_cost': 6607.0}, 'Connie': {'Age': 43, 'Sex': 'Female', 'BMI': 25.3, 'Children': 3, 'Smoker': 'Non-smoker', 'Insurance_cost': 8886.0}, 'Isaac': {'Age': 35, 'Sex': 'Male', 'BMI': 20.6, 'Children': 4, 'Smoker': 'Smoker', 'Insurance_cost': 16444.0}, 'Valentina': {'Age': 52, 'Sex': 'Female', 'BMI': 18.7, 'Children': 1, 'Smoker': 'Non-smoker', 'Insurance_cost': 6420.0}}\n"
     ]
    }
   ],
   "source": [
    "# Remove Vanay's record because he moved away\n",
    "medical_records.pop(\"Vinay\")\n",
    "\n",
    "# Check that record was removed\n",
    "print(medical_records)"
   ]
  },
  {
   "cell_type": "code",
   "execution_count": 29,
   "metadata": {
    "colab": {
     "base_uri": "https://localhost:8080/"
    },
    "executionInfo": {
     "elapsed": 173,
     "status": "ok",
     "timestamp": 1669169297960,
     "user": {
      "displayName": "Rizelle Capanzana",
      "userId": "13918624418820900908"
     },
     "user_tz": 480
    },
    "id": "WgfqbJJJPihm",
    "outputId": "92f830f2-7b13-49e3-e104-fe829933dfde"
   },
   "outputs": [
    {
     "name": "stdout",
     "output_type": "stream",
     "text": [
      "Marina is a 27 year old Female Non-smoker with a BMI of 31.1 and insurance cost of 6607.0\n",
      "Connie is a 43 year old Female Non-smoker with a BMI of 25.3 and insurance cost of 8886.0\n",
      "Isaac is a 35 year old Male Smoker with a BMI of 20.6 and insurance cost of 16444.0\n",
      "Valentina is a 52 year old Female Non-smoker with a BMI of 18.7 and insurance cost of 6420.0\n"
     ]
    }
   ],
   "source": [
    "for name, record in medical_records.items():\n",
    "    print(name + \" is a \" + str(record[\"Age\"]) + \\\n",
    "          \" year old \" + record[\"Sex\"] + \" \" + record[\"Smoker\"] \\\n",
    "         + \" with a BMI of \" + str(record[\"BMI\"]) + \\\n",
    "         \" and insurance cost of \" + str(record[\"Insurance_cost\"]))"
   ]
  },
  {
   "cell_type": "code",
   "execution_count": 30,
   "metadata": {
    "colab": {
     "base_uri": "https://localhost:8080/"
    },
    "executionInfo": {
     "elapsed": 207,
     "status": "ok",
     "timestamp": 1669169275428,
     "user": {
      "displayName": "Rizelle Capanzana",
      "userId": "13918624418820900908"
     },
     "user_tz": 480
    },
    "id": "EqfKB4a1M8DQ",
    "outputId": "c9ac5ee3-b373-44a2-e593-a16a32d5b532"
   },
   "outputs": [
    {
     "name": "stdout",
     "output_type": "stream",
     "text": [
      "Marina is a 27 year old Female Non-smoker with a BMI of 31.1 and insurance cost of 6607.0.\n",
      "Connie is a 43 year old Female Non-smoker with a BMI of 25.3 and insurance cost of 8886.0.\n",
      "Isaac is a 35 year old Male Smoker with a BMI of 20.6 and insurance cost of 16444.0.\n",
      "Valentina is a 52 year old Female Non-smoker with a BMI of 18.7 and insurance cost of 6420.0.\n"
     ]
    }
   ],
   "source": [
    "# Use a for loop to iterate through the items of medical_records. For each key-value pair, print out a string\n",
    "for name, record in medical_records.items():\n",
    "    print(f\"{name} is a {record['Age']} year old {record['Sex']} {record['Smoker']} with a BMI of {record['BMI']} and insurance cost of {record['Insurance_cost']}.\")"
   ]
  },
  {
   "cell_type": "code",
   "execution_count": 31,
   "metadata": {
    "colab": {
     "base_uri": "https://localhost:8080/"
    },
    "executionInfo": {
     "elapsed": 160,
     "status": "ok",
     "timestamp": 1669169414354,
     "user": {
      "displayName": "Rizelle Capanzana",
      "userId": "13918624418820900908"
     },
     "user_tz": 480
    },
    "id": "I6aRMyQKPrxk",
    "outputId": "42238874-c0c8-47a5-9ab1-d104974f3449"
   },
   "outputs": [
    {
     "data": {
      "text/plain": [
       "{'Marina': {'Age': 27,\n",
       "  'Sex': 'Female',\n",
       "  'BMI': 31.1,\n",
       "  'Children': 2,\n",
       "  'Smoker': 'Non-smoker',\n",
       "  'Insurance_cost': 6607.0},\n",
       " 'Connie': {'Age': 43,\n",
       "  'Sex': 'Female',\n",
       "  'BMI': 25.3,\n",
       "  'Children': 3,\n",
       "  'Smoker': 'Non-smoker',\n",
       "  'Insurance_cost': 8886.0},\n",
       " 'Isaac': {'Age': 35,\n",
       "  'Sex': 'Male',\n",
       "  'BMI': 20.6,\n",
       "  'Children': 4,\n",
       "  'Smoker': 'Smoker',\n",
       "  'Insurance_cost': 16444.0},\n",
       " 'Valentina': {'Age': 52,\n",
       "  'Sex': 'Female',\n",
       "  'BMI': 18.7,\n",
       "  'Children': 1,\n",
       "  'Smoker': 'Non-smoker',\n",
       "  'Insurance_cost': 6420.0},\n",
       " 'Vinay': {'Age': 25,\n",
       "  'Sex': 'Female',\n",
       "  'BMI': 23,\n",
       "  'Children': 2,\n",
       "  'Smoker': 0,\n",
       "  'Insurance_cost': 555}}"
      ]
     },
     "execution_count": 31,
     "metadata": {},
     "output_type": "execute_result"
    }
   ],
   "source": [
    "# Create a function called update_medical_records() that takes in the name of an individual \n",
    "# as well as their medical data, and then updates the medical_records dictionary accordingly.\n",
    "def update_medical_records(name, age, sex, bmi, children, smoker, insurance_cost):\n",
    "  medical_records[name] = {\"Age\": age, \"Sex\": sex, \"BMI\": bmi, \"Children\": children, \"Smoker\": smoker, \"Insurance_cost\": insurance_cost}\n",
    "\n",
    "update_medical_records('Vinay', 25, 'Female', 23, 2, 0, 555)\n",
    "\n",
    "medical_records"
   ]
  },
  {
   "cell_type": "code",
   "execution_count": 32,
   "metadata": {
    "colab": {
     "base_uri": "https://localhost:8080/"
    },
    "executionInfo": {
     "elapsed": 194,
     "status": "ok",
     "timestamp": 1669169601672,
     "user": {
      "displayName": "Rizelle Capanzana",
      "userId": "13918624418820900908"
     },
     "user_tz": 480
    },
    "id": "glohetQdQluh",
    "outputId": "c257b99b-070b-4fa3-e152-be4e0be0e348"
   },
   "outputs": [
    {
     "data": {
      "text/plain": [
       "{'Marina': {'Age': 27,\n",
       "  'Sex': 'Female',\n",
       "  'BMI': 31.1,\n",
       "  'Children': 2,\n",
       "  'Smoker': 'Non-smoker',\n",
       "  'Insurance_cost': 6607.0},\n",
       " 'Connie': {'Age': 43,\n",
       "  'Sex': 'Female',\n",
       "  'BMI': 25.3,\n",
       "  'Children': 3,\n",
       "  'Smoker': 'Non-smoker',\n",
       "  'Insurance_cost': 8886.0},\n",
       " 'Isaac': {'Age': 35,\n",
       "  'Sex': 'Male',\n",
       "  'BMI': 20.6,\n",
       "  'Children': 4,\n",
       "  'Smoker': 'Smoker',\n",
       "  'Insurance_cost': 16444.0},\n",
       " 'Valentina': {'Age': 52,\n",
       "  'Sex': 'Female',\n",
       "  'BMI': 18.7,\n",
       "  'Children': 1,\n",
       "  'Smoker': 'Non-smoker',\n",
       "  'Insurance_cost': 6420.0},\n",
       " 'Vinay': {'Age': 23,\n",
       "  'Sex': 'Male',\n",
       "  'BMI': 33,\n",
       "  'Children': 3,\n",
       "  'Smoker': 'smoker',\n",
       "  'Insurance_cost': 34423},\n",
       " 'Hande': {'Age': 29,\n",
       "  'Sex': 'Male',\n",
       "  'BMI': 22,\n",
       "  'Children': 4,\n",
       "  'Smoker': 'smoker',\n",
       "  'Insurance_cost': 34556}}"
      ]
     },
     "execution_count": 32,
     "metadata": {},
     "output_type": "execute_result"
    }
   ],
   "source": [
    "def update_medical_records(dictionary):\n",
    "  medical_records.update(dictionary)\n",
    "\n",
    "dict_update = {}\n",
    "dict_update[\"Vinay\"] = {\"Age\": 23, \"Sex\": \"Male\", \"BMI\": 33, \"Children\": 3, \"Smoker\": \"smoker\", \"Insurance_cost\": 34423}\n",
    "dict_update[\"Hande\"] = {\"Age\": 29, \"Sex\": \"Male\", \"BMI\": 22, \"Children\": 4, \"Smoker\": \"smoker\", \"Insurance_cost\": 34556}\n",
    "update_medical_records(dict_update)\n",
    "\n",
    "medical_records"
   ]
  },
  {
   "cell_type": "markdown",
   "metadata": {},
   "source": [
    "***"
   ]
  },
  {
   "cell_type": "markdown",
   "metadata": {
    "id": "vVLzfTWGROwJ"
   },
   "source": [
    "## Python Loops: Medical Insurance Estimates vs. Costs Project\n",
    "\n",
    "You are interested in analyzing medical insurance cost data efficiently without writing repetitive code.\n",
    "\n",
    "In this project, you will use your new knowledge of Python loops to iterate through and analyze medical insurance cost data.\n",
    "\n",
    "### Creating a For loop"
   ]
  },
  {
   "cell_type": "code",
   "execution_count": 33,
   "metadata": {
    "colab": {
     "base_uri": "https://localhost:8080/"
    },
    "executionInfo": {
     "elapsed": 218,
     "status": "ok",
     "timestamp": 1669170111782,
     "user": {
      "displayName": "Rizelle Capanzana",
      "userId": "13918624418820900908"
     },
     "user_tz": 480
    },
    "id": "LpEHRi6ORrc1",
    "outputId": "b75e444b-188c-4894-a488-990fa5247c42"
   },
   "outputs": [
    {
     "name": "stdout",
     "output_type": "stream",
     "text": [
      "30800.0\n",
      "The for loop worked.\n",
      "Average Insurance Cost: 4400.0 dollars.\n"
     ]
    }
   ],
   "source": [
    "names = [\"Judith\", \"Abel\", \"Tyson\", \"Martha\", \"Beverley\", \"David\", \"Anabel\"]\n",
    "estimated_insurance_costs = [1000.0, 2000.0, 3000.0, 4000.0, 5000.0, 6000.0, 7000.0]\n",
    "actual_insurance_costs = [1100.0, 2200.0, 3300.0, 4400.0, 5500.0, 6600.0, 7700.0]\n",
    "total_cost = 0\n",
    "\n",
    "# Use a for loop to iterate through actual_insurance_costs and add each insurance cost to the variable total_cost\n",
    "for insurance_cost in actual_insurance_costs:\n",
    "    total_cost += insurance_cost\n",
    "print(total_cost)\n",
    "\n",
    "# Check if the loop worked\n",
    "total_cost_check = sum(actual_insurance_costs)\n",
    "if total_cost_check == total_cost:\n",
    "  print(\"The for loop worked.\")\n",
    "else:\n",
    "  print(\"The for loop did not work.\")\n",
    "\n",
    "average_cost = total_cost/len(actual_insurance_costs)\n",
    "print(f'Average Insurance Cost: {average_cost} dollars.')"
   ]
  },
  {
   "cell_type": "markdown",
   "metadata": {
    "id": "Pgz6bwLbSrtc"
   },
   "source": [
    "### Using Range in Loops\n",
    "\n",
    "Write a for loop with variable i that goes from 0 to len(names).\n",
    "\n",
    "Inside of the for loop, do the following:\n",
    "* Create a variable name, which stores names[i].\n",
    "* Create a variable insurance_cost, which stores actual_insurance_costs[i].\n",
    "* Print out the insurance cost for each individual"
   ]
  },
  {
   "cell_type": "code",
   "execution_count": 34,
   "metadata": {
    "colab": {
     "base_uri": "https://localhost:8080/"
    },
    "executionInfo": {
     "elapsed": 332,
     "status": "ok",
     "timestamp": 1669170335116,
     "user": {
      "displayName": "Rizelle Capanzana",
      "userId": "13918624418820900908"
     },
     "user_tz": 480
    },
    "id": "cFY5bw2NTFta",
    "outputId": "b3bfdb1e-1d70-41b9-ecee-a110e1a4e596"
   },
   "outputs": [
    {
     "name": "stdout",
     "output_type": "stream",
     "text": [
      "The insurance cost for Judith is 1100.0 dollars.\n",
      "The insurance cost for Abel is 2200.0 dollars.\n",
      "The insurance cost for Tyson is 3300.0 dollars.\n",
      "The insurance cost for Martha is 4400.0 dollars.\n",
      "The insurance cost for Beverley is 5500.0 dollars.\n",
      "The insurance cost for David is 6600.0 dollars.\n",
      "The insurance cost for Anabel is 7700.0 dollars.\n"
     ]
    }
   ],
   "source": [
    "for i in range(len(names)):\n",
    "  name = names[i]\n",
    "  insurance_cost = actual_insurance_costs[i]\n",
    "  print (f'The insurance cost for {name} is {insurance_cost} dollars.')\n"
   ]
  },
  {
   "cell_type": "markdown",
   "metadata": {
    "id": "7ngoqRRdU46I"
   },
   "source": [
    "### Conditions inside a Loop\n",
    "\n",
    "For each individual in names, we want to determine whether their insurance cost is above or below average.\n",
    "\n",
    "Inside of the for loop, use if, elif, else statements after the print statement to check whether the insurance cost is above, below, or equal to the average. Print out messages for each case.\n",
    "\n",
    "Observe the output. You should see messages indicating the insurance cost for each of the seven individuals and where their insurance cost stands relative to the average."
   ]
  },
  {
   "cell_type": "code",
   "execution_count": 35,
   "metadata": {
    "colab": {
     "base_uri": "https://localhost:8080/"
    },
    "executionInfo": {
     "elapsed": 162,
     "status": "ok",
     "timestamp": 1669170820571,
     "user": {
      "displayName": "Rizelle Capanzana",
      "userId": "13918624418820900908"
     },
     "user_tz": 480
    },
    "id": "RhHgEUuMVQ6T",
    "outputId": "1cc36ae7-7c7a-46af-e815-ed4ebc8bd35e"
   },
   "outputs": [
    {
     "name": "stdout",
     "output_type": "stream",
     "text": [
      "The insurance cost for Judith is 1100.0 dollars.\n",
      "The insurance cost for Judith is below the average.\n",
      "The insurance cost for Abel is 2200.0 dollars.\n",
      "The insurance cost for Abel is below the average.\n",
      "The insurance cost for Tyson is 3300.0 dollars.\n",
      "The insurance cost for Tyson is below the average.\n",
      "The insurance cost for Martha is 4400.0 dollars.\n",
      "The insurance cost for Martha is equal to the average.\n",
      "The insurance cost for Beverley is 5500.0 dollars.\n",
      "The insurance cost for Beverley is above the average.\n",
      "The insurance cost for David is 6600.0 dollars.\n",
      "The insurance cost for David is above the average.\n",
      "The insurance cost for Anabel is 7700.0 dollars.\n",
      "The insurance cost for Anabel is above the average.\n"
     ]
    }
   ],
   "source": [
    "for i in range(len(names)):\n",
    "  name = names[i]\n",
    "  insurance_cost = actual_insurance_costs[i]\n",
    "  print (f'The insurance cost for {name} is {insurance_cost} dollars.')\n",
    "  if insurance_cost > average_cost:\n",
    "    print(f'The insurance cost for {name} is above the average.')\n",
    "  elif insurance_cost < average_cost:\n",
    "    print(f'The insurance cost for {name} is below the average.')\n",
    "  else : \n",
    "    print(f'The insurance cost for {name} is equal to the average.')"
   ]
  },
  {
   "cell_type": "markdown",
   "metadata": {
    "id": "-gF2FkLPVgaR"
   },
   "source": [
    "### Creating a List Comprehension\n",
    "\n",
    "If you look closely at actual_insurance_costs and estimated_insurance_costs, you will notice that each of the actual insurance costs is 10% higher than the estimated insurance costs.\n",
    "\n",
    "Using a list comprehension, create a new list called updated_estimated_costs, which has each element in estimated_insurance_costs multiplied by 11/10."
   ]
  },
  {
   "cell_type": "code",
   "execution_count": 36,
   "metadata": {
    "colab": {
     "base_uri": "https://localhost:8080/"
    },
    "executionInfo": {
     "elapsed": 228,
     "status": "ok",
     "timestamp": 1669170921580,
     "user": {
      "displayName": "Rizelle Capanzana",
      "userId": "13918624418820900908"
     },
     "user_tz": 480
    },
    "id": "qBVco8V1Vnl5",
    "outputId": "199cdad0-b16b-49b7-fa9d-c4ba727dfc99"
   },
   "outputs": [
    {
     "name": "stdout",
     "output_type": "stream",
     "text": [
      "The estimated_insurance_costs: [1000.0, 2000.0, 3000.0, 4000.0, 5000.0, 6000.0, 7000.0]\n",
      "The updated_estimated_costs: [1100.0, 2200.0, 3300.0, 4400.0, 5500.0, 6600.0, 7700.0]\n",
      "The actual_insurance_costs: [1100.0, 2200.0, 3300.0, 4400.0, 5500.0, 6600.0, 7700.0]\n"
     ]
    }
   ],
   "source": [
    "updated_estimated_costs = [estimated_cost * 11/10 for estimated_cost in estimated_insurance_costs]\n",
    "\n",
    "print(f'The estimated_insurance_costs: {estimated_insurance_costs}')\n",
    "print(f'The updated_estimated_costs: {updated_estimated_costs}')\n",
    "print(f'The actual_insurance_costs: {actual_insurance_costs}')"
   ]
  },
  {
   "cell_type": "markdown",
   "metadata": {
    "id": "5SKkahT2V7vP"
   },
   "source": [
    "### Extra\n",
    "\n",
    "* Convert the first for loop in the code to a while loop.\n",
    "* Modify the second for loop so that it also calculates how far above or below the average estimated insurance cost is."
   ]
  },
  {
   "cell_type": "code",
   "execution_count": 37,
   "metadata": {
    "colab": {
     "base_uri": "https://localhost:8080/"
    },
    "executionInfo": {
     "elapsed": 184,
     "status": "ok",
     "timestamp": 1669171025994,
     "user": {
      "displayName": "Rizelle Capanzana",
      "userId": "13918624418820900908"
     },
     "user_tz": 480
    },
    "id": "2Vc1vIQzWG1g",
    "outputId": "0a9e2a8f-cce7-4c2e-fccc-a720bcfc8370"
   },
   "outputs": [
    {
     "name": "stdout",
     "output_type": "stream",
     "text": [
      "30800.0\n"
     ]
    }
   ],
   "source": [
    "# The while loop can execute a set of statements as long as a condition is true\n",
    "# Convert the first for loop in the code to a while loop\n",
    "# First step create an iteration variable and initiaize it in the starting variable: insurance_cost = 0\n",
    "# Second step transform the ending value of the range into the loop condition: while insurance_cost in actual_insurance_costs:\n",
    "# Third step advance the loop incrementing the iteration variable: total_cost += 1\n",
    "\n",
    "insurance_cost = 0\n",
    "while insurance_cost in actual_insurance_costs:\n",
    "  total_cost += 1\n",
    "\n",
    "print(total_cost)"
   ]
  },
  {
   "cell_type": "code",
   "execution_count": 38,
   "metadata": {
    "colab": {
     "base_uri": "https://localhost:8080/"
    },
    "executionInfo": {
     "elapsed": 150,
     "status": "ok",
     "timestamp": 1669171132607,
     "user": {
      "displayName": "Rizelle Capanzana",
      "userId": "13918624418820900908"
     },
     "user_tz": 480
    },
    "id": "XrcubgW6WRMs",
    "outputId": "384f26cd-7d91-40b5-a83e-ab3bb8d3eca8"
   },
   "outputs": [
    {
     "name": "stdout",
     "output_type": "stream",
     "text": [
      "The difference insurance cost for Judith is -3300.0 dollars.\n",
      "The difference insurance cost for Abel is -2200.0 dollars.\n",
      "The difference insurance cost for Tyson is -1100.0 dollars.\n",
      "The difference insurance cost for Martha is 0.0 dollars.\n",
      "The difference insurance cost for Beverley is 1100.0 dollars.\n",
      "The difference insurance cost for David is 2200.0 dollars.\n",
      "The difference insurance cost for Anabel is 3300.0 dollars.\n"
     ]
    }
   ],
   "source": [
    "# Modify the second for loop so that it also calculates how far above or below the average estimated insurance cost is.\n",
    "for i in range(len(names)):\n",
    "  name = names[i]\n",
    "  insurance_cost = actual_insurance_costs[i]\n",
    "  difference = insurance_cost - average_cost\n",
    "  print (f'The difference insurance cost for {name} is {difference} dollars.')"
   ]
  },
  {
   "cell_type": "markdown",
   "metadata": {
    "id": "37igwS5WWXD3"
   },
   "source": [
    "You notice you have positive and negative values telling you the direction of the difference. But it is redundant to have the negative sign present so clean up the code more."
   ]
  },
  {
   "cell_type": "code",
   "execution_count": 39,
   "metadata": {
    "colab": {
     "base_uri": "https://localhost:8080/"
    },
    "executionInfo": {
     "elapsed": 159,
     "status": "ok",
     "timestamp": 1669172237521,
     "user": {
      "displayName": "Rizelle Capanzana",
      "userId": "13918624418820900908"
     },
     "user_tz": 480
    },
    "id": "LHIc8WkfWqVS",
    "outputId": "2af226b7-b215-4fd8-cade-0f38ce2c1519"
   },
   "outputs": [
    {
     "name": "stdout",
     "output_type": "stream",
     "text": [
      "Judith's insurance cost of 1100.0 is 3300.0 below the average cost.\n",
      "Abel's insurance cost of 2200.0 is 2200.0 below the average cost.\n",
      "Tyson's insurance cost of 3300.0 is 1100.0 below the average cost.\n",
      "Martha's insurance cost of 4400.0 is equal to the average cost.\n",
      "Beverley's insurance cost of 5500.0 is 1100.0 above the average cost.\n",
      "David's insurance cost of 6600.0 is 2200.0 above the average cost.\n",
      "Anabel's insurance cost of 7700.0 is 3300.0 above the average cost.\n"
     ]
    }
   ],
   "source": [
    "for i in range(len(names)):\n",
    "  name = names[i]\n",
    "  insurance_cost = actual_insurance_costs[i]\n",
    "  abs_difference = abs(insurance_cost - average_cost)\n",
    "  if insurance_cost > average_cost:\n",
    "    print(f\"{name}'s insurance cost of {insurance_cost} is {abs_difference} above the average cost.\")\n",
    "  elif insurance_cost < average_cost:\n",
    "    print(f\"{name}'s insurance cost of {insurance_cost} is {abs_difference} below the average cost.\")\n",
    "  else : \n",
    "    print(f\"{name}'s insurance cost of {insurance_cost} is equal to the average cost.\")"
   ]
  },
  {
   "cell_type": "markdown",
   "metadata": {},
   "source": [
    "***"
   ]
  },
  {
   "cell_type": "markdown",
   "metadata": {
    "id": "s_l77bXpa-Af"
   },
   "source": [
    "## Python Classes: Medical Insurance Project\n",
    "\n",
    "You have been asked to develop a system that makes it easier to organize patient data. You will create a class that does the following:\n",
    "* Takes in patient parameters regarding their personal information\n",
    "* Contains methods that allow users to update their information\n",
    "* Gives patients insight into their potential medical fees."
   ]
  },
  {
   "cell_type": "markdown",
   "metadata": {
    "id": "zOVYqsKpbYl-"
   },
   "source": [
    "### Building our Constructor\n",
    "\n",
    "If you look at the code block below, you will see that we have started a class called Patient. It currently has an __init__ method with two class variables: self.name and self.age.\n",
    "\n",
    "Let's start by adding in some more patient parameters:\n",
    "* sex: patient's biological identification, 0 for male and 1 for female\n",
    "* bmi: patient BMI\n",
    "* num_of_children: number of children patient has\n",
    "* smoker: patient smoking status, 0 for a non-smoker and 1 for a smoker\n",
    "\n",
    "Add these into the __init__ method so that we can use them as we create our class methods."
   ]
  },
  {
   "cell_type": "code",
   "execution_count": 40,
   "metadata": {
    "colab": {
     "base_uri": "https://localhost:8080/"
    },
    "executionInfo": {
     "elapsed": 168,
     "status": "ok",
     "timestamp": 1669172513021,
     "user": {
      "displayName": "Rizelle Capanzana",
      "userId": "13918624418820900908"
     },
     "user_tz": 480
    },
    "id": "InQaQFPKbvpo",
    "outputId": "5645da9d-1dab-4a0f-f5a3-91ed4427c7a3"
   },
   "outputs": [
    {
     "name": "stdout",
     "output_type": "stream",
     "text": [
      "Print out the name of the patient: John Doe\n"
     ]
    }
   ],
   "source": [
    "class Patient:\n",
    "    def __init__(self, name, age, sex, bmi, num_of_children, smoker):\n",
    "        self.name = name\n",
    "        self.age = age\n",
    "        # add more parameters here\n",
    "        self.sex = sex # 0 for male, 1 for female\n",
    "        self.bmi = bmi\n",
    "        self.num_of_children = num_of_children\n",
    "        self.smoker = smoker # 0 for non-smoker, 1 for smoker\n",
    "\n",
    "patient1 = Patient(\"John Doe\", 25, 1, 22.2, 0, 0)\n",
    "print(f'Print out the name of the patient: {patient1.name}')"
   ]
  },
  {
   "cell_type": "markdown",
   "metadata": {
    "id": "foosOxnrb36y"
   },
   "source": [
    "### Adding Functionality with Methods\n"
   ]
  },
  {
   "cell_type": "code",
   "execution_count": 41,
   "metadata": {
    "executionInfo": {
     "elapsed": 275,
     "status": "ok",
     "timestamp": 1669173815647,
     "user": {
      "displayName": "Rizelle Capanzana",
      "userId": "13918624418820900908"
     },
     "user_tz": 480
    },
    "id": "yMGt08pGcOgO"
   },
   "outputs": [],
   "source": [
    "class Patient:\n",
    "    def __init__(self, name, age, sex, bmi, num_of_children, smoker):\n",
    "        self.name = name\n",
    "        self.age = age\n",
    "        self.sex = sex\n",
    "        self.bmi = bmi\n",
    "        self.num_of_children = num_of_children\n",
    "        self.smoker = smoker\n",
    "    \n",
    "    # method 1: estimated_insurance_cost(), which takes our instance's parameters \n",
    "    # (representing our patient's information) and returns their expected yearly medical fees\n",
    "    def estimated_insurance_cost(self):\n",
    "        # ensures that patient data is uploaded using numerical values\n",
    "        try:\n",
    "          estimated_cost = 250*self.age - 128 * self.sex + 370 * self.bmi + 425 * self.num_of_children + 24000 * self.smoker - 12500\n",
    "        except TypeError:\n",
    "          print(\"Only integers are allowed.\")\n",
    "        print(f\"{self.name}'s estimated insurance costs is {estimated_cost} dollars.\")\n",
    "    \n",
    "    # method 2: update the age and recalculates the estimated insurance cost\n",
    "    def update_age(self, new_age):\n",
    "        self.age = new_age\n",
    "        print(f\"{self.name} is now {self.age} years old.\")\n",
    "        self.estimated_insurance_cost()\n",
    "    \n",
    "    # method 3: update the bmi and recalculates the estimated insurance cost\n",
    "    def update_bmi(self, new_bmi):\n",
    "        self.bmi = new_bmi\n",
    "        print(f\"{self.name}'s new bmi is {self.bmi}.\")\n",
    "        self.estimated_insurance_cost()\n",
    "    \n",
    "    # method 4: update the number of children and recalculates the estimated insurance cost\n",
    "    def update_num_of_children(self, new_num_children):\n",
    "        self.num_of_children = new_num_children\n",
    "        # use control flow program to be grammatically correct child vs children\n",
    "        if self.num_of_children == 1:\n",
    "          print(f'{self.name} has {self.num_of_children} child.')\n",
    "        else:\n",
    "          print(f'{self.name} has {self.num_of_children} children.')\n",
    "        self.estimated_insurance_cost()\n",
    "    \n",
    "    # method 5: update smoking status and recalculates the estimated insurance cost\n",
    "    def update_smoking_status(self, new_smoker):\n",
    "        self.smoker = new_smoker\n",
    "        if self.num_smoker == 1:\n",
    "          print(f'{self.name} is now a smoker.')\n",
    "        else:\n",
    "          print(f'{self.name} is no longer a smoker.')\n",
    "        self.estimated_insurance_cost()\n",
    "    \n",
    "    # method 6: uses a dictionary to store a patient's information in one convenient variable. \n",
    "    # We can use our parameters as the keys and their specific data as the values.\n",
    "    def patient_profile(self):\n",
    "        patient_information = {}\n",
    "        patient_information[\"Name\"] = self.name\n",
    "        patient_information[\"Age\"] = self.age\n",
    "        patient_information[\"Sex\"] = self.sex\n",
    "        patient_information[\"BMI\"] = self.bmi\n",
    "        patient_information[\"Number of Children\"] = self.num_of_children\n",
    "        patient_information[\"Smoker\"] = self.smoker\n",
    "        \n",
    "        # Remember that in patient_profile() we used a return statement rather than a print statement. \n",
    "        # In order to see our dictionary outputted, we must wrap a print statement around our method call.\n",
    "        return print(f\"Patient's information: {patient_information}\")"
   ]
  },
  {
   "cell_type": "markdown",
   "metadata": {
    "id": "1uwFNP_Kg0X3"
   },
   "source": [
    "**Test** some scenarios for the class\n",
    "\n",
    "if not type(patient1.name) is str:\n",
    "raise TypeError(\"Only strings are allowed\")\n",
    "\n",
    "if not type(patient1.age) is int:\n",
    "raise TypeError(\"Only integers are allowed\")\n",
    "\n",
    "if not type(patient1.sex) is int:\n",
    "raise TypeError(\"Only integers are allowed\")\n",
    "\n",
    "if not type(patient1.bmi) is float:\n",
    "raise TypeError(\"Only integers are allowed\")\n",
    "\n",
    "if not type(patient1.num_of_children) is int:\n",
    "raise TypeError(\"Only integers are allowed\")\n",
    "\n",
    "if not type(patient1.smoker) is int:\n",
    "raise TypeError(\"Only integers are allowed\")\n",
    "\n",
    "Update the class so that users can upload lists of patient data rather than just individual numbers."
   ]
  },
  {
   "cell_type": "code",
   "execution_count": 42,
   "metadata": {
    "executionInfo": {
     "elapsed": 218,
     "status": "ok",
     "timestamp": 1669173874609,
     "user": {
      "displayName": "Rizelle Capanzana",
      "userId": "13918624418820900908"
     },
     "user_tz": 480
    },
    "id": "omnR-0DDf4am"
   },
   "outputs": [],
   "source": [
    "patient1 = Patient(\"John Doe\", 25, 1, 22.2, 0, 0)"
   ]
  },
  {
   "cell_type": "code",
   "execution_count": 43,
   "metadata": {
    "colab": {
     "base_uri": "https://localhost:8080/",
     "height": 460
    },
    "executionInfo": {
     "elapsed": 172,
     "status": "error",
     "timestamp": 1669173925834,
     "user": {
      "displayName": "Rizelle Capanzana",
      "userId": "13918624418820900908"
     },
     "user_tz": 480
    },
    "id": "6I_hTQW5hFx6",
    "outputId": "a14c7e7f-4d25-4251-d112-da92181d8c0c"
   },
   "outputs": [
    {
     "name": "stdout",
     "output_type": "stream",
     "text": [
      "John Doe is now 26 years old.\n",
      "Only integers are allowed.\n"
     ]
    },
    {
     "ename": "UnboundLocalError",
     "evalue": "cannot access local variable 'estimated_cost' where it is not associated with a value",
     "output_type": "error",
     "traceback": [
      "\u001b[0;31m---------------------------------------------------------------------------\u001b[0m",
      "\u001b[0;31mUnboundLocalError\u001b[0m                         Traceback (most recent call last)",
      "Cell \u001b[0;32mIn[43], line 1\u001b[0m\n\u001b[0;32m----> 1\u001b[0m \u001b[43mpatient1\u001b[49m\u001b[38;5;241;43m.\u001b[39;49m\u001b[43mupdate_age\u001b[49m\u001b[43m(\u001b[49m\u001b[38;5;124;43m'\u001b[39;49m\u001b[38;5;124;43m26\u001b[39;49m\u001b[38;5;124;43m'\u001b[39;49m\u001b[43m)\u001b[49m\n",
      "Cell \u001b[0;32mIn[41], line 24\u001b[0m, in \u001b[0;36mPatient.update_age\u001b[0;34m(self, new_age)\u001b[0m\n\u001b[1;32m     22\u001b[0m \u001b[38;5;28mself\u001b[39m\u001b[38;5;241m.\u001b[39mage \u001b[38;5;241m=\u001b[39m new_age\n\u001b[1;32m     23\u001b[0m \u001b[38;5;28mprint\u001b[39m(\u001b[38;5;124mf\u001b[39m\u001b[38;5;124m\"\u001b[39m\u001b[38;5;132;01m{\u001b[39;00m\u001b[38;5;28mself\u001b[39m\u001b[38;5;241m.\u001b[39mname\u001b[38;5;132;01m}\u001b[39;00m\u001b[38;5;124m is now \u001b[39m\u001b[38;5;132;01m{\u001b[39;00m\u001b[38;5;28mself\u001b[39m\u001b[38;5;241m.\u001b[39mage\u001b[38;5;132;01m}\u001b[39;00m\u001b[38;5;124m years old.\u001b[39m\u001b[38;5;124m\"\u001b[39m)\n\u001b[0;32m---> 24\u001b[0m \u001b[38;5;28;43mself\u001b[39;49m\u001b[38;5;241;43m.\u001b[39;49m\u001b[43mestimated_insurance_cost\u001b[49m\u001b[43m(\u001b[49m\u001b[43m)\u001b[49m\n",
      "Cell \u001b[0;32mIn[41], line 18\u001b[0m, in \u001b[0;36mPatient.estimated_insurance_cost\u001b[0;34m(self)\u001b[0m\n\u001b[1;32m     16\u001b[0m \u001b[38;5;28;01mexcept\u001b[39;00m \u001b[38;5;167;01mTypeError\u001b[39;00m:\n\u001b[1;32m     17\u001b[0m   \u001b[38;5;28mprint\u001b[39m(\u001b[38;5;124m\"\u001b[39m\u001b[38;5;124mOnly integers are allowed.\u001b[39m\u001b[38;5;124m\"\u001b[39m)\n\u001b[0;32m---> 18\u001b[0m \u001b[38;5;28mprint\u001b[39m(\u001b[38;5;124mf\u001b[39m\u001b[38;5;124m\"\u001b[39m\u001b[38;5;132;01m{\u001b[39;00m\u001b[38;5;28mself\u001b[39m\u001b[38;5;241m.\u001b[39mname\u001b[38;5;132;01m}\u001b[39;00m\u001b[38;5;124m'\u001b[39m\u001b[38;5;124ms estimated insurance costs is \u001b[39m\u001b[38;5;132;01m{\u001b[39;00m\u001b[43mestimated_cost\u001b[49m\u001b[38;5;132;01m}\u001b[39;00m\u001b[38;5;124m dollars.\u001b[39m\u001b[38;5;124m\"\u001b[39m)\n",
      "\u001b[0;31mUnboundLocalError\u001b[0m: cannot access local variable 'estimated_cost' where it is not associated with a value"
     ]
    }
   ],
   "source": [
    "patient1.update_age('26')"
   ]
  },
  {
   "cell_type": "code",
   "execution_count": 44,
   "metadata": {
    "id": "mSVplBkjhKC9"
   },
   "outputs": [
    {
     "name": "stdout",
     "output_type": "stream",
     "text": [
      "Patient's information: {'Name': 'John Doe', 'Age': '26', 'Sex': 1, 'BMI': 22.2, 'Number of Children': 0, 'Smoker': 0}\n"
     ]
    }
   ],
   "source": [
    "patient1.patient_profile()"
   ]
  },
  {
   "cell_type": "markdown",
   "metadata": {},
   "source": [
    "***"
   ]
  },
  {
   "cell_type": "markdown",
   "metadata": {
    "id": "1c5eLxKViIrT"
   },
   "source": [
    "## Python Control Flow: Medical Insurance Project\n",
    "\n",
    "In this project, you will examine how factors such as age, sex, BMI, number of children, and smoking status contribute to medical insurance costs.\n",
    "\n",
    "You will apply your knowledge of Python control flow to write code that gives people advice on how to lower their medical insurance costs."
   ]
  },
  {
   "cell_type": "markdown",
   "metadata": {
    "id": "FVaaq-uWjOmH"
   },
   "source": [
    "In general, insurance costs are higher for smokers as well as people with a higher BMI. We can use the data from the variables smoker and bmi to provide advice on how to lower insurance costs.\n",
    "\n",
    "According to the WHO (World Health Organization), here are the nutritional statuses for various BMI ranges:\n",
    "* BMI > 30: obese\n",
    "* BMI >= 25 and BMI <= 30: overweight\n",
    "* BMI >= 18.5 and BMI < 25: normal weight\n",
    "* BMI < 18.5: underweight"
   ]
  },
  {
   "cell_type": "code",
   "execution_count": 45,
   "metadata": {
    "colab": {
     "base_uri": "https://localhost:8080/"
    },
    "executionInfo": {
     "elapsed": 188,
     "status": "ok",
     "timestamp": 1669174802837,
     "user": {
      "displayName": "Rizelle Capanzana",
      "userId": "13918624418820900908"
     },
     "user_tz": 480
    },
    "id": "j6PrBF-hiSL2",
    "outputId": "3a1bb1fb-1840-4616-8d09-9bf1f8d43ac4"
   },
   "outputs": [
    {
     "name": "stdout",
     "output_type": "stream",
     "text": [
      "Keanu's estimated ensurance cost: 29591.0 dollars.\n",
      "To lower your cost, you should consider quitting smoking.\n",
      "Your BMI is in the overweight range. To lower your cost, you should lower your BMI.\n"
     ]
    }
   ],
   "source": [
    "# Function analyze_smoker\n",
    "def analyze_smoker(smoker_status):\n",
    "    if smoker_status == 1:\n",
    "        print(\"To lower your cost, you should consider quitting smoking.\")\n",
    "    else:\n",
    "        print(\"Smoking is not an issue for you.\")\n",
    "\n",
    "# Function analyze_bmi\n",
    "def analyze_bmi(bmi_value):\n",
    "    if bmi_value > 30:\n",
    "        print(\"Your BMI is in the obese range. To lower your cost, you should significantly lower your BMI.\")\n",
    "    elif bmi_value >= 25 and bmi_value <= 30:\n",
    "        print(\"Your BMI is in the overweight range. To lower your cost, you should lower your BMI.\")\n",
    "    elif bmi_value >= 18.5 and bmi_value < 25:\n",
    "        print(\"Your BMI is in a healthy range.\")\n",
    "    else:\n",
    "        print(\"Your BMI is in the underweight range. Increasing your BMI will not help lower your cost, but it will improve your health.\")\n",
    "\n",
    "# Function to estimate insurance cost:\n",
    "def estimate_insurance_cost(name, age, sex, bmi, num_of_children, smoker):\n",
    "    estimated_cost = 250*age - 128*sex + 370*bmi + 425*num_of_children + 24000*smoker - 12500\n",
    "    print(f\"{name}'s estimated ensurance cost: {estimated_cost} dollars.\")\n",
    "    # make function call to `analyze_smoker()` here\n",
    "    analyze_smoker(smoker)\n",
    "    # make function call to `analyze_bmi()` here\n",
    "    analyze_bmi(bmi)\n",
    "    return estimated_cost\n",
    "\n",
    "# Estimate Keanu's insurance cost\n",
    "keanu_insurance_cost = estimate_insurance_cost(name = 'Keanu', age = 29, sex = 1, bmi = 26.2, num_of_children = 3, smoker = 1)"
   ]
  }
 ],
 "metadata": {
  "colab": {
   "provenance": [
    {
     "file_id": "1mj7pRRjgnsjj9iq8qMZFbb_p-4PFj4PP",
     "timestamp": 1669154006084
    }
   ]
  },
  "kernelspec": {
   "display_name": "Python 3 (ipykernel)",
   "language": "python",
   "name": "python3"
  },
  "language_info": {
   "codemirror_mode": {
    "name": "ipython",
    "version": 3
   },
   "file_extension": ".py",
   "mimetype": "text/x-python",
   "name": "python",
   "nbconvert_exporter": "python",
   "pygments_lexer": "ipython3",
   "version": "3.11.1"
  }
 },
 "nbformat": 4,
 "nbformat_minor": 4
}
