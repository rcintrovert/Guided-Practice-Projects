{
 "cells": [
  {
   "cell_type": "markdown",
   "id": "f5048698",
   "metadata": {
    "id": "f5048698"
   },
   "source": [
    "# Summarizing Automobile Evaluation Data"
   ]
  },
  {
   "cell_type": "markdown",
   "id": "6e3d2eca",
   "metadata": {
    "id": "6e3d2eca"
   },
   "source": [
    "In the following project you'll use what you've learned about summarizing categorical data to analyze a sample from a popular open source dataset. This dataset contains information on the cost and physical attributes of several thousand cars. Originally, this dataset was used to train a classification model that assigned an acceptability score/category to cars based on these attributes.\n",
    "\n",
    "The car evaluation dataset has been sourced from the UCI Machine Learning Repository and has been slightly modified for this project. Specifically, one additional field `manufacturer_country` has been simulated for illustrative purposes. You can read more about the details, features, and original uses of this dataset in research on the [UCI data description page](https://archive.ics.uci.edu/ml/datasets/car+evaluation)."
   ]
  },
  {
   "cell_type": "markdown",
   "id": "5a7c3519",
   "metadata": {
    "id": "5a7c3519"
   },
   "source": [
    "## Summarizing Manufacturing Country"
   ]
  },
  {
   "cell_type": "markdown",
   "id": "cf23386f",
   "metadata": {
    "id": "cf23386f"
   },
   "source": [
    "1. `manufacturer_country` is a _nominal categorical variable_ that indicates the country of the manufacturer of each car reviewed. Create a table of frequencies of all the cars reviewed by `manufacturer_country`. What is the modal category? Which country appears 4th most frequently? Print out your results."
   ]
  },
  {
   "cell_type": "code",
   "execution_count": 1,
   "id": "37db0534",
   "metadata": {
    "colab": {
     "base_uri": "https://localhost:8080/",
     "height": 277
    },
    "executionInfo": {
     "elapsed": 609,
     "status": "error",
     "timestamp": 1669827112337,
     "user": {
      "displayName": "Rizelle Capanzana",
      "userId": "13918624418820900908"
     },
     "user_tz": 480
    },
    "id": "37db0534",
    "outputId": "a474933f-026e-478c-e43b-7f0f990c16a0"
   },
   "outputs": [
    {
     "name": "stdout",
     "output_type": "stream",
     "text": [
      "  buying_cost maintenance_cost doors capacity luggage safety acceptability  \\\n",
      "0       vhigh              low     4        4   small    med         unacc   \n",
      "1       vhigh              med     3        4   small   high           acc   \n",
      "2         med             high     3        2     med   high         unacc   \n",
      "3         low              med     4     more     big    low         unacc   \n",
      "4         low             high     2     more     med   high           acc   \n",
      "\n",
      "  manufacturer_country  \n",
      "0                China  \n",
      "1               France  \n",
      "2        United States  \n",
      "3        United States  \n",
      "4          South Korea  \n"
     ]
    }
   ],
   "source": [
    "import pandas as pd\n",
    "import numpy as np\n",
    "\n",
    "car_eval = pd.read_csv('car_eval_dataset.csv')\n",
    "print(car_eval.head())"
   ]
  },
  {
   "cell_type": "code",
   "execution_count": 2,
   "id": "1cbd189c-ce06-409c-af32-e6e7db24b72e",
   "metadata": {},
   "outputs": [
    {
     "name": "stdout",
     "output_type": "stream",
     "text": [
      "Japan            228\n",
      "Germany          218\n",
      "South Korea      159\n",
      "United States    138\n",
      "Italy             97\n",
      "France            87\n",
      "China             73\n",
      "Name: manufacturer_country, dtype: int64\n"
     ]
    }
   ],
   "source": [
    "# create a table of frequenciee\n",
    "freq_table = car_eval.manufacturer_country.value_counts()\n",
    "print(freq_table)"
   ]
  },
  {
   "cell_type": "code",
   "execution_count": 3,
   "id": "04114544-b2dd-4598-af64-7b2a5b74f3c4",
   "metadata": {},
   "outputs": [
    {
     "name": "stdout",
     "output_type": "stream",
     "text": [
      "The country that appears 4th most frequently is the United States.\n"
     ]
    }
   ],
   "source": [
    "# which country appears 4th most frequently\n",
    "print(f'The country that appears 4th most frequently is the United States.')"
   ]
  },
  {
   "cell_type": "markdown",
   "id": "ee1e5244",
   "metadata": {
    "id": "ee1e5244"
   },
   "source": [
    "2. Calculate a table of proportions for countries that appear in `manufacturer_country` in the dataset. What percentage of cars were manufactured in Japan?"
   ]
  },
  {
   "cell_type": "code",
   "execution_count": 4,
   "id": "9182f21b",
   "metadata": {
    "id": "9182f21b"
   },
   "outputs": [
    {
     "name": "stdout",
     "output_type": "stream",
     "text": [
      "Japan            0.228\n",
      "Germany          0.218\n",
      "South Korea      0.159\n",
      "United States    0.138\n",
      "Italy            0.097\n",
      "France           0.087\n",
      "China            0.073\n",
      "Name: manufacturer_country, dtype: float64\n"
     ]
    }
   ],
   "source": [
    "# note table of frequencies takes the count of observations and\n",
    "# table of proportions takes the proportion each value represents\n",
    "# in the total\n",
    "prop_table = car_eval.manufacturer_country.value_counts(normalize=True)\n",
    "print(prop_table)"
   ]
  },
  {
   "cell_type": "code",
   "execution_count": 5,
   "id": "19e32ce8-8200-438b-a286-d66639715d08",
   "metadata": {},
   "outputs": [
    {
     "name": "stdout",
     "output_type": "stream",
     "text": [
      "Japan manufactured 0.228 of the cars.\n"
     ]
    }
   ],
   "source": [
    "# what percentage of cars were manufactured in Japan?\n",
    "jpn_per = prop_table.iloc[0]\n",
    "print(f'Japan manufactured {jpn_per} of the cars.')"
   ]
  },
  {
   "cell_type": "markdown",
   "id": "5b05bb2b",
   "metadata": {
    "id": "5b05bb2b"
   },
   "source": [
    "## Summarizing Buying Costs"
   ]
  },
  {
   "cell_type": "markdown",
   "id": "3ceb7a05",
   "metadata": {
    "id": "3ceb7a05"
   },
   "source": [
    "3. `buying_cost` is a categorical variable which describes the cost of buying any car in the dataset. Print out a list of the possible values for this variable."
   ]
  },
  {
   "cell_type": "code",
   "execution_count": 6,
   "id": "89d6819b",
   "metadata": {
    "id": "89d6819b"
   },
   "outputs": [
    {
     "name": "stdout",
     "output_type": "stream",
     "text": [
      "['vhigh' 'med' 'low' 'high']\n"
     ]
    }
   ],
   "source": [
    "# print out a list of the possible values for buying_cost\n",
    "print(car_eval.buying_cost.unique())"
   ]
  },
  {
   "cell_type": "markdown",
   "id": "f7c4aa76",
   "metadata": {
    "id": "f7c4aa76"
   },
   "source": [
    "4. `buying_cost` is an _ordinal categorical variable_, which means we can create an order associated with the values in the data and perform numeric operations on the variable. Create a new list, `buying_cost_categories`, that contains the unique values in `buying_cost`, ordered from lowest to highest."
   ]
  },
  {
   "cell_type": "code",
   "execution_count": 7,
   "id": "3e56b2d0",
   "metadata": {
    "id": "3e56b2d0"
   },
   "outputs": [
    {
     "name": "stdout",
     "output_type": "stream",
     "text": [
      "['low', 'med', 'high', 'vhigh']\n"
     ]
    }
   ],
   "source": [
    "buying_cost_categories = ['low', 'med', 'high', 'vhigh']\n",
    "print(buying_cost_categories)"
   ]
  },
  {
   "cell_type": "markdown",
   "id": "fed08c10",
   "metadata": {
    "id": "fed08c10"
   },
   "source": [
    "5. Convert `buying_cost` to type `'category'` using the list you created in the previous exercise."
   ]
  },
  {
   "cell_type": "code",
   "execution_count": 8,
   "id": "eb5a13de",
   "metadata": {
    "id": "eb5a13de"
   },
   "outputs": [
    {
     "name": "stdout",
     "output_type": "stream",
     "text": [
      "0      vhigh\n",
      "1      vhigh\n",
      "2        med\n",
      "3        low\n",
      "4        low\n",
      "       ...  \n",
      "995      low\n",
      "996      low\n",
      "997    vhigh\n",
      "998      low\n",
      "999      low\n",
      "Name: buying_cost, Length: 1000, dtype: category\n",
      "Categories (4, object): ['low' < 'med' < 'high' < 'vhigh']\n"
     ]
    }
   ],
   "source": [
    "# convert to type 'category'. This would allow us to perform numeric\n",
    "# operations on categorical data\n",
    "car_eval[\"buying_cost\"] = pd.Categorical(\n",
    "    car_eval[\"buying_cost\"], \n",
    "    buying_cost_categories,\n",
    "    ordered = True\n",
    ")\n",
    "\n",
    "# check that the column has type category\n",
    "print(car_eval.buying_cost)"
   ]
  },
  {
   "cell_type": "markdown",
   "id": "1674fff1",
   "metadata": {
    "id": "1674fff1"
   },
   "source": [
    "6. Calculate the median category of the `buying_cost` variable and print the result."
   ]
  },
  {
   "cell_type": "code",
   "execution_count": 9,
   "id": "d402fb98",
   "metadata": {
    "id": "d402fb98"
   },
   "outputs": [
    {
     "name": "stdout",
     "output_type": "stream",
     "text": [
      "The median category of the buying_cost is 1.0 which corresponds to med category.\n"
     ]
    }
   ],
   "source": [
    "# np.median() in conjunction with .cat.codes attribute to get numerical\n",
    "# values of the categories\n",
    "median_category_num = np.median(car_eval['buying_cost'].cat.codes)\n",
    "median_category = buying_cost_categories[int(median_category_num)]\n",
    "print(f'The median category of the buying_cost is {median_category_num} which corresponds to {median_category} category.')"
   ]
  },
  {
   "cell_type": "markdown",
   "id": "1b62d1ae",
   "metadata": {
    "id": "1b62d1ae"
   },
   "source": [
    "## Summarizing Luggage Capacity"
   ]
  },
  {
   "cell_type": "markdown",
   "id": "b599f083",
   "metadata": {
    "id": "b599f083"
   },
   "source": [
    "7. `luggage` is a categorical variable in the car evaluations dataset that records the luggage capacity for each reviewed car. Calculate a table of proportions for this variable and print the result."
   ]
  },
  {
   "cell_type": "code",
   "execution_count": 10,
   "id": "e19d3bf8",
   "metadata": {
    "id": "e19d3bf8"
   },
   "outputs": [
    {
     "name": "stdout",
     "output_type": "stream",
     "text": [
      "small    0.339\n",
      "med      0.333\n",
      "big      0.328\n",
      "Name: luggage, dtype: float64\n"
     ]
    }
   ],
   "source": [
    "prop_lug_table = car_eval.luggage.value_counts(normalize=True)\n",
    "print(prop_lug_table)"
   ]
  },
  {
   "cell_type": "markdown",
   "id": "2b6fe817",
   "metadata": {
    "id": "2b6fe817"
   },
   "source": [
    "8. Are there any missing values in this column? Replicate the table of proportions from the previous exercise, but do not drop any missing values from the count. Print the result."
   ]
  },
  {
   "cell_type": "code",
   "execution_count": 11,
   "id": "dc8bf3c6",
   "metadata": {
    "id": "dc8bf3c6"
   },
   "outputs": [
    {
     "name": "stdout",
     "output_type": "stream",
     "text": [
      "small    0.339\n",
      "med      0.333\n",
      "big      0.328\n",
      "Name: luggage, dtype: float64\n"
     ]
    }
   ],
   "source": [
    "print(car_eval.luggage.value_counts(dropna=False, normalize=True))"
   ]
  },
  {
   "cell_type": "markdown",
   "id": "cd100f12-1cde-43be-af64-272083edbb0a",
   "metadata": {},
   "source": [
    "Since both table of proportions are the same, this suggests that there were no missing values."
   ]
  },
  {
   "cell_type": "markdown",
   "id": "a23eb89b",
   "metadata": {
    "id": "a23eb89b"
   },
   "source": [
    "9. Without passing `normalize = True` to `.value_counts()`, can you replicate the result you got in the previous exercises?"
   ]
  },
  {
   "cell_type": "code",
   "execution_count": 12,
   "id": "0f793fa5",
   "metadata": {
    "id": "0f793fa5"
   },
   "outputs": [
    {
     "name": "stdout",
     "output_type": "stream",
     "text": [
      "small    0.339\n",
      "med      0.333\n",
      "big      0.328\n",
      "Name: luggage, dtype: float64\n"
     ]
    }
   ],
   "source": [
    "# replicate the result of previous exercise\n",
    "print(car_eval.luggage.value_counts()/len(car_eval.luggage))"
   ]
  },
  {
   "cell_type": "code",
   "execution_count": 13,
   "id": "b6eba527-394f-48f8-9c91-38e03924ed86",
   "metadata": {},
   "outputs": [
    {
     "name": "stdout",
     "output_type": "stream",
     "text": [
      "small    0.339\n",
      "med      0.333\n",
      "big      0.328\n",
      "Name: luggage, dtype: float64\n"
     ]
    }
   ],
   "source": [
    "# above method only works if no null values\n",
    "# if there are nulls use .count() which excludes the nulls\n",
    "print(car_eval.luggage.value_counts()/car_eval.luggage.count())"
   ]
  },
  {
   "cell_type": "markdown",
   "id": "6fd9eeff",
   "metadata": {
    "id": "6fd9eeff"
   },
   "source": [
    "## Summarizing Passenger Capacity"
   ]
  },
  {
   "cell_type": "markdown",
   "id": "276efc2d",
   "metadata": {
    "id": "276efc2d"
   },
   "source": [
    "10. `doors` is a categorical variable in the car evaluations dataset that records the count of doors for each reviewed car. Find the count of cars that have 5 or more doors. You can identify cars with 5+ doors by looking for cars that have a value of `'5more'` in the `doors` column. Print your result."
   ]
  },
  {
   "cell_type": "code",
   "execution_count": 14,
   "id": "5cbb524a",
   "metadata": {
    "id": "5cbb524a"
   },
   "outputs": [
    {
     "name": "stdout",
     "output_type": "stream",
     "text": [
      "The amount of cars that have 5 or more doors is 246.\n"
     ]
    }
   ],
   "source": [
    "frequency = (car_eval.doors == '5more').sum()\n",
    "print(f'The amount of cars that have 5 or more doors is {frequency}.')"
   ]
  },
  {
   "cell_type": "markdown",
   "id": "d5fbe9de",
   "metadata": {
    "id": "d5fbe9de"
   },
   "source": [
    "11. Find the proportion of cars that have 5+ doors and print the result."
   ]
  },
  {
   "cell_type": "code",
   "execution_count": 15,
   "id": "7c56f800",
   "metadata": {
    "id": "7c56f800"
   },
   "outputs": [
    {
     "name": "stdout",
     "output_type": "stream",
     "text": [
      "The proportion of cars that have more than 5 or more doors is 0.246.\n"
     ]
    }
   ],
   "source": [
    "proportion = (car_eval.doors == '5more').mean()\n",
    "print(f'The proportion of cars that have more than 5 or more doors is {proportion}.')"
   ]
  }
 ],
 "metadata": {
  "colab": {
   "provenance": []
  },
  "kernelspec": {
   "display_name": "Python 3 (ipykernel)",
   "language": "python",
   "name": "python3"
  },
  "language_info": {
   "codemirror_mode": {
    "name": "ipython",
    "version": 3
   },
   "file_extension": ".py",
   "mimetype": "text/x-python",
   "name": "python",
   "nbconvert_exporter": "python",
   "pygments_lexer": "ipython3",
   "version": "3.11.1"
  }
 },
 "nbformat": 4,
 "nbformat_minor": 5
}
