{
 "cells": [
  {
   "cell_type": "code",
   "execution_count": 1,
   "id": "d28f3321-3ba4-4f56-867a-4ca00e3a4321",
   "metadata": {},
   "outputs": [],
   "source": [
    "# Load necessary libraries\n",
    "import numpy as np # linear algebra\n",
    "import pandas as pd # data processing, CSV file I/O (e.g. pd.read_csv)"
   ]
  },
  {
   "cell_type": "code",
   "execution_count": 2,
   "id": "82032c81-a91b-4f78-9ef8-8f467ace1cb9",
   "metadata": {},
   "outputs": [],
   "source": [
    "visits = pd.read_csv('visits.csv',\n",
    "                     parse_dates=[1])\n",
    "cart = pd.read_csv('cart.csv',\n",
    "                   parse_dates=[1])\n",
    "                   \n",
    "checkout = pd.read_csv('checkout.csv',\n",
    "                       parse_dates=[1])\n",
    "purchase = pd.read_csv('purchase.csv',\n",
    "                       parse_dates=[1])"
   ]
  },
  {
   "cell_type": "markdown",
   "id": "6fb5f427-4172-4fc4-9e6b-b7452b4a691f",
   "metadata": {},
   "source": [
    "Step 1: Inspect the DataFrames using print and head"
   ]
  },
  {
   "cell_type": "code",
   "execution_count": 3,
   "id": "675d5d0e-d526-4c03-84d9-2812be860ca3",
   "metadata": {},
   "outputs": [
    {
     "name": "stdout",
     "output_type": "stream",
     "text": [
      "                                user_id          visit_time\n",
      "0  943647ef-3682-4750-a2e1-918ba6f16188 2017-04-07 15:14:00\n",
      "1  0c3a3dd0-fb64-4eac-bf84-ba069ce409f2 2017-01-26 14:24:00\n",
      "2  6e0b2d60-4027-4d9a-babd-0e7d40859fb1 2017-08-20 08:23:00\n",
      "3  6879527e-c5a6-4d14-b2da-50b85212b0ab 2017-11-04 18:15:00\n",
      "4  a84327ff-5daa-4ba1-b789-d5b4caf81e96 2017-02-27 11:25:00\n",
      "                                user_id           cart_time\n",
      "0  2be90e7c-9cca-44e0-bcc5-124b945ff168 2017-11-07 20:45:00\n",
      "1  4397f73f-1da3-4ab3-91af-762792e25973 2017-05-27 01:35:00\n",
      "2  a9db3d4b-0a0a-4398-a55a-ebb2c7adf663 2017-03-04 10:38:00\n",
      "3  b594862a-36c5-47d5-b818-6e9512b939b3 2017-09-27 08:22:00\n",
      "4  a68a16e2-94f0-4ce8-8ce3-784af0bbb974 2017-07-26 15:48:00\n",
      "                                user_id       checkout_time\n",
      "0  d33bdc47-4afa-45bc-b4e4-dbe948e34c0d 2017-06-25 09:29:00\n",
      "1  4ac186f0-9954-4fea-8a27-c081e428e34e 2017-04-07 20:11:00\n",
      "2  3c9c78a7-124a-4b77-8d2e-e1926e011e7d 2017-07-13 11:38:00\n",
      "3  89fe330a-8966-4756-8f7c-3bdbcd47279a 2017-04-20 16:15:00\n",
      "4  3ccdaf69-2d30-40de-b083-51372881aedd 2017-01-08 20:52:00\n",
      "                                user_id       purchase_time\n",
      "0  4b44ace4-2721-47a0-b24b-15fbfa2abf85 2017-05-11 04:25:00\n",
      "1  02e684ae-a448-408f-a9ff-dcb4a5c99aac 2017-09-05 08:45:00\n",
      "2  4b4bc391-749e-4b90-ab8f-4f6e3c84d6dc 2017-11-20 20:49:00\n",
      "3  a5dbb25f-3c36-4103-9030-9f7c6241cd8d 2017-01-22 15:18:00\n",
      "4  46a3186d-7f5a-4ab9-87af-84d05bfd4867 2017-06-11 11:32:00\n"
     ]
    }
   ],
   "source": [
    "print(visits.head(5))\n",
    "print(cart.head(5))\n",
    "print(checkout.head(5))\n",
    "print(purchase.head(5))"
   ]
  },
  {
   "cell_type": "markdown",
   "id": "ca38aff5-fbe2-415a-89e7-7aafb600e1c8",
   "metadata": {},
   "source": [
    "Step 2: Left merging visits and cart"
   ]
  },
  {
   "cell_type": "code",
   "execution_count": 4,
   "id": "895a3360-36a1-4fca-a837-dabe1b09a2b1",
   "metadata": {},
   "outputs": [
    {
     "data": {
      "text/html": [
       "<div>\n",
       "<style scoped>\n",
       "    .dataframe tbody tr th:only-of-type {\n",
       "        vertical-align: middle;\n",
       "    }\n",
       "\n",
       "    .dataframe tbody tr th {\n",
       "        vertical-align: top;\n",
       "    }\n",
       "\n",
       "    .dataframe thead th {\n",
       "        text-align: right;\n",
       "    }\n",
       "</style>\n",
       "<table border=\"1\" class=\"dataframe\">\n",
       "  <thead>\n",
       "    <tr style=\"text-align: right;\">\n",
       "      <th></th>\n",
       "      <th>user_id</th>\n",
       "      <th>visit_time</th>\n",
       "      <th>cart_time</th>\n",
       "    </tr>\n",
       "  </thead>\n",
       "  <tbody>\n",
       "    <tr>\n",
       "      <th>0</th>\n",
       "      <td>943647ef-3682-4750-a2e1-918ba6f16188</td>\n",
       "      <td>2017-04-07 15:14:00</td>\n",
       "      <td>NaT</td>\n",
       "    </tr>\n",
       "    <tr>\n",
       "      <th>1</th>\n",
       "      <td>0c3a3dd0-fb64-4eac-bf84-ba069ce409f2</td>\n",
       "      <td>2017-01-26 14:24:00</td>\n",
       "      <td>2017-01-26 14:44:00</td>\n",
       "    </tr>\n",
       "    <tr>\n",
       "      <th>2</th>\n",
       "      <td>6e0b2d60-4027-4d9a-babd-0e7d40859fb1</td>\n",
       "      <td>2017-08-20 08:23:00</td>\n",
       "      <td>2017-08-20 08:31:00</td>\n",
       "    </tr>\n",
       "    <tr>\n",
       "      <th>3</th>\n",
       "      <td>6879527e-c5a6-4d14-b2da-50b85212b0ab</td>\n",
       "      <td>2017-11-04 18:15:00</td>\n",
       "      <td>NaT</td>\n",
       "    </tr>\n",
       "    <tr>\n",
       "      <th>4</th>\n",
       "      <td>a84327ff-5daa-4ba1-b789-d5b4caf81e96</td>\n",
       "      <td>2017-02-27 11:25:00</td>\n",
       "      <td>NaT</td>\n",
       "    </tr>\n",
       "  </tbody>\n",
       "</table>\n",
       "</div>"
      ],
      "text/plain": [
       "                                user_id          visit_time  \\\n",
       "0  943647ef-3682-4750-a2e1-918ba6f16188 2017-04-07 15:14:00   \n",
       "1  0c3a3dd0-fb64-4eac-bf84-ba069ce409f2 2017-01-26 14:24:00   \n",
       "2  6e0b2d60-4027-4d9a-babd-0e7d40859fb1 2017-08-20 08:23:00   \n",
       "3  6879527e-c5a6-4d14-b2da-50b85212b0ab 2017-11-04 18:15:00   \n",
       "4  a84327ff-5daa-4ba1-b789-d5b4caf81e96 2017-02-27 11:25:00   \n",
       "\n",
       "            cart_time  \n",
       "0                 NaT  \n",
       "1 2017-01-26 14:44:00  \n",
       "2 2017-08-20 08:31:00  \n",
       "3                 NaT  \n",
       "4                 NaT  "
      ]
     },
     "execution_count": 4,
     "metadata": {},
     "output_type": "execute_result"
    }
   ],
   "source": [
    "visits_cart = visits.merge(cart,how = 'left')\n",
    "visits_cart.head()"
   ]
  },
  {
   "cell_type": "markdown",
   "id": "dad14f4b-aba5-4658-a73f-a20760eb87d6",
   "metadata": {},
   "source": [
    "Step 3: How long is visits_cart?"
   ]
  },
  {
   "cell_type": "code",
   "execution_count": 5,
   "id": "f270fa27-0c42-4418-8d1a-76c4ad163f20",
   "metadata": {},
   "outputs": [
    {
     "name": "stdout",
     "output_type": "stream",
     "text": [
      "The visits_cart dataframe has 2000 entries.\n"
     ]
    }
   ],
   "source": [
    "total_visits_cart = len(visits_cart)\n",
    "print(f'The visits_cart dataframe has {total_visits_cart} entries.')"
   ]
  },
  {
   "cell_type": "markdown",
   "id": "6b8f0f31-7e48-460b-8c5a-da6d642646c8",
   "metadata": {},
   "source": [
    "Step 4: How many timestamps are null for cart_time?"
   ]
  },
  {
   "cell_type": "code",
   "execution_count": 6,
   "id": "ee88902b-3785-4ec8-be6d-be9405c2d8da",
   "metadata": {},
   "outputs": [
    {
     "name": "stdout",
     "output_type": "stream",
     "text": [
      "There are 1652 null entries in cart_time.This means that 1652 of the 2000 people who visited the site never made it to the cart.\n"
     ]
    }
   ],
   "source": [
    "null_cart_time = len(visits_cart[visits_cart.cart_time.isnull()])\n",
    "print(f'There are {null_cart_time} null entries in cart_time.'\n",
    "      f'This means that {null_cart_time} of the {total_visits_cart} people who visited the site never made it to the cart.')"
   ]
  },
  {
   "cell_type": "markdown",
   "id": "0eebbc32-d1a1-467a-b86a-728911f795f0",
   "metadata": {},
   "source": [
    "Step 5: What percentage only visited?"
   ]
  },
  {
   "cell_type": "code",
   "execution_count": 7,
   "id": "c629db84-5f42-4570-8973-62bea7774f0d",
   "metadata": {},
   "outputs": [
    {
     "name": "stdout",
     "output_type": "stream",
     "text": [
      "82.6% of the visitors of the site never made it to the cart.\n"
     ]
    }
   ],
   "source": [
    "visited_not_cart = (float(null_cart_time) / float(total_visits_cart))*100\n",
    "\n",
    "print(f'{visited_not_cart}% of the visitors of the site never made it to the cart.')"
   ]
  },
  {
   "cell_type": "markdown",
   "id": "5685f544-9e4f-4e50-801b-da0b246c27dc",
   "metadata": {},
   "source": [
    "Step 6: What percentage placed a t-shirt in their cart but did not checkout?"
   ]
  },
  {
   "cell_type": "code",
   "execution_count": 8,
   "id": "21810db5-36c7-49f7-8fb4-230609ed4237",
   "metadata": {},
   "outputs": [
    {
     "name": "stdout",
     "output_type": "stream",
     "text": [
      "35.06% of the visitors of the site placed a t-shirt in their cart but did not checkout.\n"
     ]
    }
   ],
   "source": [
    "cart_checkout = cart.merge(checkout, how = 'left')\n",
    "total_cart_checkout = len(cart_checkout)\n",
    "null_checkout_time = len(cart_checkout[cart_checkout.checkout_time.isnull()])\n",
    "cart_not_checkout = round(float(null_checkout_time) / float(total_cart_checkout),4)*100\n",
    "print(f'{cart_not_checkout}% of the visitors of the site placed a t-shirt in their cart but did not checkout.')"
   ]
  },
  {
   "cell_type": "markdown",
   "id": "c06a0ed6-1164-4948-9685-ca9b879e96bd",
   "metadata": {},
   "source": [
    "Step 7: Merge it all together"
   ]
  },
  {
   "cell_type": "code",
   "execution_count": 9,
   "id": "7b27d707-c041-448f-ad50-72fc5505ba78",
   "metadata": {},
   "outputs": [
    {
     "name": "stdout",
     "output_type": "stream",
     "text": [
      "                                user_id          visit_time  \\\n",
      "0  943647ef-3682-4750-a2e1-918ba6f16188 2017-04-07 15:14:00   \n",
      "1  0c3a3dd0-fb64-4eac-bf84-ba069ce409f2 2017-01-26 14:24:00   \n",
      "2  6e0b2d60-4027-4d9a-babd-0e7d40859fb1 2017-08-20 08:23:00   \n",
      "3  6879527e-c5a6-4d14-b2da-50b85212b0ab 2017-11-04 18:15:00   \n",
      "4  a84327ff-5daa-4ba1-b789-d5b4caf81e96 2017-02-27 11:25:00   \n",
      "\n",
      "            cart_time       checkout_time       purchase_time  \n",
      "0                 NaT                 NaT                 NaT  \n",
      "1 2017-01-26 14:44:00 2017-01-26 14:54:00 2017-01-26 15:08:00  \n",
      "2 2017-08-20 08:31:00                 NaT                 NaT  \n",
      "3                 NaT                 NaT                 NaT  \n",
      "4                 NaT                 NaT                 NaT  \n"
     ]
    }
   ],
   "source": [
    "df = visits_cart.merge(cart_checkout, how = 'left')\\\n",
    "     .merge(purchase, how = 'left')\n",
    "print(df.head(5))"
   ]
  },
  {
   "cell_type": "markdown",
   "id": "fcbcce58-feed-4490-8a47-2d2c2be7f923",
   "metadata": {},
   "source": [
    "Step 8: % of users who got to checkout but did not purchase"
   ]
  },
  {
   "cell_type": "code",
   "execution_count": 10,
   "id": "35807c90-3b98-4632-b57f-4acab71a3b91",
   "metadata": {},
   "outputs": [
    {
     "name": "stdout",
     "output_type": "stream",
     "text": [
      "24.55% of users made it to checkout but did not purchase.\n"
     ]
    }
   ],
   "source": [
    "reached_checkout = df[~df.checkout_time.isnull()]\n",
    "checkout_not_purchase = df[(df.purchase_time.isnull()) & (~df.checkout_time.isnull())]\n",
    "checkout_not_purchase_percent = round(float(len(checkout_not_purchase)) / float(len(reached_checkout)),4)*100\n",
    "print(f'{checkout_not_purchase_percent}% of users made it to checkout but did not purchase.')"
   ]
  },
  {
   "cell_type": "markdown",
   "id": "3de94f70-86c4-45d4-9fd3-e4d6efce9cec",
   "metadata": {},
   "source": [
    "Step 9: check each part of the funnel, let's print all 3 of them again"
   ]
  },
  {
   "cell_type": "code",
   "execution_count": 11,
   "id": "a071cb68-6fdc-41d5-9d04-84af0ec875d8",
   "metadata": {},
   "outputs": [
    {
     "name": "stdout",
     "output_type": "stream",
     "text": [
      "82.6% of the visitors of the site never made it to the cart.\n",
      "35.06% of the visitors of the site placed a t-shirt in their cart but did not checkout.\n",
      "24.55% of users made it to checkout but did not purchase.\n"
     ]
    }
   ],
   "source": [
    "print(f'{visited_not_cart}% of the visitors of the site never made it to the cart.')\n",
    "print(f'{cart_not_checkout}% of the visitors of the site placed a t-shirt in their cart but did not checkout.')\n",
    "print(f'{checkout_not_purchase_percent}% of users made it to checkout but did not purchase.')"
   ]
  },
  {
   "cell_type": "markdown",
   "id": "b7f8b8e2-4591-407b-af26-2cb57d2c028f",
   "metadata": {},
   "source": [
    "The weakest part of the funnel is clearly getting a person who visited the site to add a t-shirt to their cart. Once they've added a t-shirt to their cart it is fairly likely they end up purchasing it. A suggestion could be to make the add-to-cart button more prominent on the front page.\n",
    "\n",
    "Step 10: adding new column"
   ]
  },
  {
   "cell_type": "code",
   "execution_count": 12,
   "id": "46988271-4ccf-4f62-8c47-2fcb23650121",
   "metadata": {},
   "outputs": [],
   "source": [
    "df['time_to_purchase'] = \\\n",
    "    df.purchase_time - df.visit_time"
   ]
  },
  {
   "cell_type": "markdown",
   "id": "323776e0-8885-43c4-b37c-1591893cf21a",
   "metadata": {},
   "source": [
    "Step 11: examine the results"
   ]
  },
  {
   "cell_type": "code",
   "execution_count": 13,
   "id": "88f5dd67-3508-4293-98c5-791ca0164764",
   "metadata": {},
   "outputs": [
    {
     "name": "stdout",
     "output_type": "stream",
     "text": [
      "0                  NaT\n",
      "1      0 days 00:44:00\n",
      "2                  NaT\n",
      "3                  NaT\n",
      "4                  NaT\n",
      "             ...      \n",
      "2103               NaT\n",
      "2104               NaT\n",
      "2105               NaT\n",
      "2106               NaT\n",
      "2107               NaT\n",
      "Name: time_to_purchase, Length: 2108, dtype: timedelta64[ns]\n"
     ]
    }
   ],
   "source": [
    "print(df.time_to_purchase)"
   ]
  },
  {
   "cell_type": "markdown",
   "id": "bd6a85cf-478a-45c5-92fd-1fa9542576aa",
   "metadata": {},
   "source": [
    "Step 12: average time to purchase\n"
   ]
  },
  {
   "cell_type": "code",
   "execution_count": 14,
   "id": "36909792-1dcf-4679-a477-39e7cda0a423",
   "metadata": {},
   "outputs": [
    {
     "name": "stdout",
     "output_type": "stream",
     "text": [
      "The average time to purchase is 0 days 00:43:12.380952380.\n"
     ]
    }
   ],
   "source": [
    "mean_time_purchase = df.time_to_purchase.mean()\n",
    "print(f'The average time to purchase is {mean_time_purchase}.')"
   ]
  },
  {
   "cell_type": "code",
   "execution_count": null,
   "id": "0dd96500-8a2f-45af-bdd8-0a1950df12b2",
   "metadata": {},
   "outputs": [],
   "source": []
  }
 ],
 "metadata": {
  "kernelspec": {
   "display_name": "Python 3 (ipykernel)",
   "language": "python",
   "name": "python3"
  },
  "language_info": {
   "codemirror_mode": {
    "name": "ipython",
    "version": 3
   },
   "file_extension": ".py",
   "mimetype": "text/x-python",
   "name": "python",
   "nbconvert_exporter": "python",
   "pygments_lexer": "ipython3",
   "version": "3.11.1"
  }
 },
 "nbformat": 4,
 "nbformat_minor": 5
}
