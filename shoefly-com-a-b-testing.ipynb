{
 "cells": [
  {
   "cell_type": "markdown",
   "id": "3419d252",
   "metadata": {
    "papermill": {
     "duration": 0.007023,
     "end_time": "2022-12-14T23:13:41.376475",
     "exception": false,
     "start_time": "2022-12-14T23:13:41.369452",
     "status": "completed"
    },
    "tags": []
   },
   "source": [
    "# Testing for Shoefly.com\n",
    "***"
   ]
  },
  {
   "cell_type": "markdown",
   "id": "fee2ef6a",
   "metadata": {
    "papermill": {
     "duration": 0.005304,
     "end_time": "2022-12-14T23:13:41.387623",
     "exception": false,
     "start_time": "2022-12-14T23:13:41.382319",
     "status": "completed"
    },
    "tags": []
   },
   "source": [
    "# Introduction\n",
    "\n",
    "This is a project from CodeAcademy to practice A/B testing. The fictional company analyzed is an online shoe store called ShoeFly.com. Currently, the company has two different versions of an ad. They have placed the ads in emails as well as in banner ads on Facebook, Twitter, and Google. They want to know how the two ads are performing on each of the different platforms on each day of the week. Help them analyze the data using aggregate measures. \n",
    "\n",
    "## Project Goals\n",
    "* Analyze the data from an A/B test with Python\n",
    "* Some questions that will be answered are the following:\n",
    "\n",
    "    1. How many views came from each utm_source?\n",
    "    1. Was there a difference in click rates for each source?\n",
    "    1. Were approximately the same number of people shown both ads?\n",
    "    1. Product manager for the A/B test thinks that the clicks might have changed by day of the week.\n",
    "    1. Do you recommend that your company use Ad A or Ad B?"
   ]
  },
  {
   "cell_type": "markdown",
   "id": "394925fd",
   "metadata": {
    "papermill": {
     "duration": 0.005186,
     "end_time": "2022-12-14T23:13:41.398513",
     "exception": false,
     "start_time": "2022-12-14T23:13:41.393327",
     "status": "completed"
    },
    "tags": []
   },
   "source": [
    "# Data\n",
    "\n",
    "Shoefly has provided the data as a csv file, *ad_clicks*, with the following attributes:\n",
    "* *user_id* - the user_id of the customer\n",
    "* *utm_source* - the locationn where the ad was placed\n",
    "* *day* - what day of the week the ad was viewed by the customer\n",
    "* *ad_click_timestamp* - a timestamp for when the ad was clicked and note that NaN values if the ad was not clicked\n",
    "* *experimental_group* - which ad, A or B, the customer was shown"
   ]
  },
  {
   "cell_type": "markdown",
   "id": "4aef43ea",
   "metadata": {
    "papermill": {
     "duration": 0.005266,
     "end_time": "2022-12-14T23:13:41.409321",
     "exception": false,
     "start_time": "2022-12-14T23:13:41.404055",
     "status": "completed"
    },
    "tags": []
   },
   "source": [
    "### Load data"
   ]
  },
  {
   "cell_type": "code",
   "execution_count": 1,
   "id": "36d66870",
   "metadata": {
    "execution": {
     "iopub.execute_input": "2022-12-14T23:13:41.422548Z",
     "iopub.status.busy": "2022-12-14T23:13:41.422061Z",
     "iopub.status.idle": "2022-12-14T23:13:42.355009Z",
     "shell.execute_reply": "2022-12-14T23:13:42.353666Z"
    },
    "papermill": {
     "duration": 0.943825,
     "end_time": "2022-12-14T23:13:42.358632",
     "exception": false,
     "start_time": "2022-12-14T23:13:41.414807",
     "status": "completed"
    },
    "tags": []
   },
   "outputs": [],
   "source": [
    "# Load necessary libraries\n",
    "import numpy as np # linear algebra\n",
    "import pandas as pd # data processing, CSV file I/O (e.g. pd.read_csv)\n",
    "import matplotlib.pyplot as plt # for calculations\n",
    "import seaborn as sns # for creating visualizations\n",
    "\n",
    "%matplotlib inline"
   ]
  },
  {
   "cell_type": "code",
   "execution_count": 2,
   "id": "cb2a8f46",
   "metadata": {
    "execution": {
     "iopub.execute_input": "2022-12-14T23:13:42.372325Z",
     "iopub.status.busy": "2022-12-14T23:13:42.371935Z",
     "iopub.status.idle": "2022-12-14T23:13:42.395178Z",
     "shell.execute_reply": "2022-12-14T23:13:42.394089Z"
    },
    "papermill": {
     "duration": 0.033432,
     "end_time": "2022-12-14T23:13:42.398284",
     "exception": false,
     "start_time": "2022-12-14T23:13:42.364852",
     "status": "completed"
    },
    "tags": []
   },
   "outputs": [],
   "source": [
    "# Fill in the line below: Specify the path of the CSV file to read\n",
    "my_filepath = \"../input/ad-clicks/ad_clicks.csv\"\n",
    "\n",
    "# Fill in the line below: Read the file into a variable\n",
    "ad_clicks = pd.read_csv(my_filepath)"
   ]
  },
  {
   "cell_type": "code",
   "execution_count": 3,
   "id": "f710847d",
   "metadata": {
    "execution": {
     "iopub.execute_input": "2022-12-14T23:13:42.412778Z",
     "iopub.status.busy": "2022-12-14T23:13:42.411467Z",
     "iopub.status.idle": "2022-12-14T23:13:42.432486Z",
     "shell.execute_reply": "2022-12-14T23:13:42.431533Z"
    },
    "papermill": {
     "duration": 0.030572,
     "end_time": "2022-12-14T23:13:42.434915",
     "exception": false,
     "start_time": "2022-12-14T23:13:42.404343",
     "status": "completed"
    },
    "tags": []
   },
   "outputs": [
    {
     "data": {
      "text/html": [
       "<div>\n",
       "<style scoped>\n",
       "    .dataframe tbody tr th:only-of-type {\n",
       "        vertical-align: middle;\n",
       "    }\n",
       "\n",
       "    .dataframe tbody tr th {\n",
       "        vertical-align: top;\n",
       "    }\n",
       "\n",
       "    .dataframe thead th {\n",
       "        text-align: right;\n",
       "    }\n",
       "</style>\n",
       "<table border=\"1\" class=\"dataframe\">\n",
       "  <thead>\n",
       "    <tr style=\"text-align: right;\">\n",
       "      <th></th>\n",
       "      <th>user_id</th>\n",
       "      <th>utm_source</th>\n",
       "      <th>day</th>\n",
       "      <th>ad_click_timestamp</th>\n",
       "      <th>experimental_group</th>\n",
       "    </tr>\n",
       "  </thead>\n",
       "  <tbody>\n",
       "    <tr>\n",
       "      <th>0</th>\n",
       "      <td>008b7c6c-7272-471e-b90e-930d548bd8d7</td>\n",
       "      <td>google</td>\n",
       "      <td>6 - Saturday</td>\n",
       "      <td>7:18</td>\n",
       "      <td>A</td>\n",
       "    </tr>\n",
       "    <tr>\n",
       "      <th>1</th>\n",
       "      <td>009abb94-5e14-4b6c-bb1c-4f4df7aa7557</td>\n",
       "      <td>facebook</td>\n",
       "      <td>7 - Sunday</td>\n",
       "      <td>NaN</td>\n",
       "      <td>B</td>\n",
       "    </tr>\n",
       "    <tr>\n",
       "      <th>2</th>\n",
       "      <td>00f5d532-ed58-4570-b6d2-768df5f41aed</td>\n",
       "      <td>twitter</td>\n",
       "      <td>2 - Tuesday</td>\n",
       "      <td>NaN</td>\n",
       "      <td>A</td>\n",
       "    </tr>\n",
       "    <tr>\n",
       "      <th>3</th>\n",
       "      <td>011adc64-0f44-4fd9-a0bb-f1506d2ad439</td>\n",
       "      <td>google</td>\n",
       "      <td>2 - Tuesday</td>\n",
       "      <td>NaN</td>\n",
       "      <td>B</td>\n",
       "    </tr>\n",
       "    <tr>\n",
       "      <th>4</th>\n",
       "      <td>012137e6-7ae7-4649-af68-205b4702169c</td>\n",
       "      <td>facebook</td>\n",
       "      <td>7 - Sunday</td>\n",
       "      <td>NaN</td>\n",
       "      <td>B</td>\n",
       "    </tr>\n",
       "  </tbody>\n",
       "</table>\n",
       "</div>"
      ],
      "text/plain": [
       "                                user_id utm_source           day  \\\n",
       "0  008b7c6c-7272-471e-b90e-930d548bd8d7     google  6 - Saturday   \n",
       "1  009abb94-5e14-4b6c-bb1c-4f4df7aa7557   facebook    7 - Sunday   \n",
       "2  00f5d532-ed58-4570-b6d2-768df5f41aed    twitter   2 - Tuesday   \n",
       "3  011adc64-0f44-4fd9-a0bb-f1506d2ad439     google   2 - Tuesday   \n",
       "4  012137e6-7ae7-4649-af68-205b4702169c   facebook    7 - Sunday   \n",
       "\n",
       "  ad_click_timestamp experimental_group  \n",
       "0               7:18                  A  \n",
       "1                NaN                  B  \n",
       "2                NaN                  A  \n",
       "3                NaN                  B  \n",
       "4                NaN                  B  "
      ]
     },
     "execution_count": 3,
     "metadata": {},
     "output_type": "execute_result"
    }
   ],
   "source": [
    "# To preview the dataframe to see what data we are working with\n",
    "ad_clicks.head()"
   ]
  },
  {
   "cell_type": "markdown",
   "id": "eb703381",
   "metadata": {
    "papermill": {
     "duration": 0.005626,
     "end_time": "2022-12-14T23:13:42.446534",
     "exception": false,
     "start_time": "2022-12-14T23:13:42.440908",
     "status": "completed"
    },
    "tags": []
   },
   "source": [
    "# Process Data\n"
   ]
  },
  {
   "cell_type": "code",
   "execution_count": 4,
   "id": "78a34585",
   "metadata": {
    "execution": {
     "iopub.execute_input": "2022-12-14T23:13:42.462260Z",
     "iopub.status.busy": "2022-12-14T23:13:42.461472Z",
     "iopub.status.idle": "2022-12-14T23:13:42.480537Z",
     "shell.execute_reply": "2022-12-14T23:13:42.479480Z"
    },
    "papermill": {
     "duration": 0.029163,
     "end_time": "2022-12-14T23:13:42.483380",
     "exception": false,
     "start_time": "2022-12-14T23:13:42.454217",
     "status": "completed"
    },
    "tags": []
   },
   "outputs": [
    {
     "data": {
      "text/html": [
       "<div>\n",
       "<style scoped>\n",
       "    .dataframe tbody tr th:only-of-type {\n",
       "        vertical-align: middle;\n",
       "    }\n",
       "\n",
       "    .dataframe tbody tr th {\n",
       "        vertical-align: top;\n",
       "    }\n",
       "\n",
       "    .dataframe thead th {\n",
       "        text-align: right;\n",
       "    }\n",
       "</style>\n",
       "<table border=\"1\" class=\"dataframe\">\n",
       "  <thead>\n",
       "    <tr style=\"text-align: right;\">\n",
       "      <th></th>\n",
       "      <th>experimental_group</th>\n",
       "      <th>user_id</th>\n",
       "    </tr>\n",
       "  </thead>\n",
       "  <tbody>\n",
       "    <tr>\n",
       "      <th>0</th>\n",
       "      <td>A</td>\n",
       "      <td>827</td>\n",
       "    </tr>\n",
       "    <tr>\n",
       "      <th>1</th>\n",
       "      <td>B</td>\n",
       "      <td>827</td>\n",
       "    </tr>\n",
       "  </tbody>\n",
       "</table>\n",
       "</div>"
      ],
      "text/plain": [
       "  experimental_group  user_id\n",
       "0                  A      827\n",
       "1                  B      827"
      ]
     },
     "execution_count": 4,
     "metadata": {},
     "output_type": "execute_result"
    }
   ],
   "source": [
    "# Check that we have approximetely the same amount of participants in each \n",
    "# experimental group\n",
    "\n",
    "ad_clicks.groupby('experimental_group')\\\n",
    "    .user_id.count()\\\n",
    "    .reset_index()"
   ]
  },
  {
   "cell_type": "code",
   "execution_count": 5,
   "id": "f4622596",
   "metadata": {
    "execution": {
     "iopub.execute_input": "2022-12-14T23:13:42.498661Z",
     "iopub.status.busy": "2022-12-14T23:13:42.497685Z",
     "iopub.status.idle": "2022-12-14T23:13:42.512244Z",
     "shell.execute_reply": "2022-12-14T23:13:42.510982Z"
    },
    "papermill": {
     "duration": 0.025096,
     "end_time": "2022-12-14T23:13:42.514874",
     "exception": false,
     "start_time": "2022-12-14T23:13:42.489778",
     "status": "completed"
    },
    "tags": []
   },
   "outputs": [
    {
     "data": {
      "text/html": [
       "<div>\n",
       "<style scoped>\n",
       "    .dataframe tbody tr th:only-of-type {\n",
       "        vertical-align: middle;\n",
       "    }\n",
       "\n",
       "    .dataframe tbody tr th {\n",
       "        vertical-align: top;\n",
       "    }\n",
       "\n",
       "    .dataframe thead th {\n",
       "        text-align: right;\n",
       "    }\n",
       "</style>\n",
       "<table border=\"1\" class=\"dataframe\">\n",
       "  <thead>\n",
       "    <tr style=\"text-align: right;\">\n",
       "      <th></th>\n",
       "      <th>utm_source</th>\n",
       "      <th>user_id</th>\n",
       "    </tr>\n",
       "  </thead>\n",
       "  <tbody>\n",
       "    <tr>\n",
       "      <th>0</th>\n",
       "      <td>email</td>\n",
       "      <td>255</td>\n",
       "    </tr>\n",
       "    <tr>\n",
       "      <th>1</th>\n",
       "      <td>facebook</td>\n",
       "      <td>504</td>\n",
       "    </tr>\n",
       "    <tr>\n",
       "      <th>2</th>\n",
       "      <td>google</td>\n",
       "      <td>680</td>\n",
       "    </tr>\n",
       "    <tr>\n",
       "      <th>3</th>\n",
       "      <td>twitter</td>\n",
       "      <td>215</td>\n",
       "    </tr>\n",
       "  </tbody>\n",
       "</table>\n",
       "</div>"
      ],
      "text/plain": [
       "  utm_source  user_id\n",
       "0      email      255\n",
       "1   facebook      504\n",
       "2     google      680\n",
       "3    twitter      215"
      ]
     },
     "execution_count": 5,
     "metadata": {},
     "output_type": "execute_result"
    }
   ],
   "source": [
    "# How many views (ie, rows of the table) came from each utm_source?\n",
    "# Can use any of the columns because using the count() to find value of rows of the table. \n",
    "# Recall that added .reset_index() to return result from a series to a dataframe.\n",
    "\n",
    "ad_clicks.groupby('utm_source')\\\n",
    "    .user_id.count()\\\n",
    "    .reset_index()"
   ]
  },
  {
   "cell_type": "code",
   "execution_count": 6,
   "id": "5326f571",
   "metadata": {
    "execution": {
     "iopub.execute_input": "2022-12-14T23:13:42.529651Z",
     "iopub.status.busy": "2022-12-14T23:13:42.529176Z",
     "iopub.status.idle": "2022-12-14T23:13:42.553801Z",
     "shell.execute_reply": "2022-12-14T23:13:42.552457Z"
    },
    "papermill": {
     "duration": 0.035221,
     "end_time": "2022-12-14T23:13:42.556427",
     "exception": false,
     "start_time": "2022-12-14T23:13:42.521206",
     "status": "completed"
    },
    "tags": []
   },
   "outputs": [
    {
     "data": {
      "text/html": [
       "<div>\n",
       "<style scoped>\n",
       "    .dataframe tbody tr th:only-of-type {\n",
       "        vertical-align: middle;\n",
       "    }\n",
       "\n",
       "    .dataframe tbody tr th {\n",
       "        vertical-align: top;\n",
       "    }\n",
       "\n",
       "    .dataframe thead th {\n",
       "        text-align: right;\n",
       "    }\n",
       "</style>\n",
       "<table border=\"1\" class=\"dataframe\">\n",
       "  <thead>\n",
       "    <tr style=\"text-align: right;\">\n",
       "      <th></th>\n",
       "      <th>utm_source</th>\n",
       "      <th>is_click</th>\n",
       "      <th>user_id</th>\n",
       "    </tr>\n",
       "  </thead>\n",
       "  <tbody>\n",
       "    <tr>\n",
       "      <th>0</th>\n",
       "      <td>email</td>\n",
       "      <td>False</td>\n",
       "      <td>175</td>\n",
       "    </tr>\n",
       "    <tr>\n",
       "      <th>1</th>\n",
       "      <td>email</td>\n",
       "      <td>True</td>\n",
       "      <td>80</td>\n",
       "    </tr>\n",
       "    <tr>\n",
       "      <th>2</th>\n",
       "      <td>facebook</td>\n",
       "      <td>False</td>\n",
       "      <td>324</td>\n",
       "    </tr>\n",
       "    <tr>\n",
       "      <th>3</th>\n",
       "      <td>facebook</td>\n",
       "      <td>True</td>\n",
       "      <td>180</td>\n",
       "    </tr>\n",
       "    <tr>\n",
       "      <th>4</th>\n",
       "      <td>google</td>\n",
       "      <td>False</td>\n",
       "      <td>441</td>\n",
       "    </tr>\n",
       "    <tr>\n",
       "      <th>5</th>\n",
       "      <td>google</td>\n",
       "      <td>True</td>\n",
       "      <td>239</td>\n",
       "    </tr>\n",
       "    <tr>\n",
       "      <th>6</th>\n",
       "      <td>twitter</td>\n",
       "      <td>False</td>\n",
       "      <td>149</td>\n",
       "    </tr>\n",
       "    <tr>\n",
       "      <th>7</th>\n",
       "      <td>twitter</td>\n",
       "      <td>True</td>\n",
       "      <td>66</td>\n",
       "    </tr>\n",
       "  </tbody>\n",
       "</table>\n",
       "</div>"
      ],
      "text/plain": [
       "  utm_source  is_click  user_id\n",
       "0      email     False      175\n",
       "1      email      True       80\n",
       "2   facebook     False      324\n",
       "3   facebook      True      180\n",
       "4     google     False      441\n",
       "5     google      True      239\n",
       "6    twitter     False      149\n",
       "7    twitter      True       66"
      ]
     },
     "execution_count": 6,
     "metadata": {},
     "output_type": "execute_result"
    }
   ],
   "source": [
    "# Filter the data to remove NaN values since those mean the user never clicked the ads \n",
    "# and add a new column is_click. ~ is a NOT operator to invert the results of .isnull() \n",
    "# since .isnull() will return True for NaN and we want it to return False\n",
    "\n",
    "ad_clicks['is_click'] = ~ad_clicks\\\n",
    "   .ad_click_timestamp.isnull()\n",
    "\n",
    "# We want to know the percent of people who clicked on ads from each utm_source.\n",
    "# Start by grouping by utm_source and is_click and counting the number of user_id‘s in each of those groups. \n",
    "# Save your answer to the variable clicks_by_source.\n",
    "clicks_by_source = ad_clicks\\\n",
    "   .groupby(['utm_source',\n",
    "             'is_click'])\\\n",
    "   .user_id.count()\\\n",
    "   .reset_index()\n",
    "\n",
    "clicks_by_source"
   ]
  },
  {
   "cell_type": "markdown",
   "id": "e5e3703c",
   "metadata": {
    "papermill": {
     "duration": 0.006214,
     "end_time": "2022-12-14T23:13:42.569478",
     "exception": false,
     "start_time": "2022-12-14T23:13:42.563264",
     "status": "completed"
    },
    "tags": []
   },
   "source": [
    "# Analysis"
   ]
  },
  {
   "cell_type": "code",
   "execution_count": 7,
   "id": "4251b10f",
   "metadata": {
    "execution": {
     "iopub.execute_input": "2022-12-14T23:13:42.584652Z",
     "iopub.status.busy": "2022-12-14T23:13:42.584231Z",
     "iopub.status.idle": "2022-12-14T23:13:42.606171Z",
     "shell.execute_reply": "2022-12-14T23:13:42.605070Z"
    },
    "papermill": {
     "duration": 0.032571,
     "end_time": "2022-12-14T23:13:42.608516",
     "exception": false,
     "start_time": "2022-12-14T23:13:42.575945",
     "status": "completed"
    },
    "tags": []
   },
   "outputs": [
    {
     "data": {
      "text/html": [
       "<div>\n",
       "<style scoped>\n",
       "    .dataframe tbody tr th:only-of-type {\n",
       "        vertical-align: middle;\n",
       "    }\n",
       "\n",
       "    .dataframe tbody tr th {\n",
       "        vertical-align: top;\n",
       "    }\n",
       "\n",
       "    .dataframe thead th {\n",
       "        text-align: right;\n",
       "    }\n",
       "</style>\n",
       "<table border=\"1\" class=\"dataframe\">\n",
       "  <thead>\n",
       "    <tr style=\"text-align: right;\">\n",
       "      <th>is_click</th>\n",
       "      <th>utm_source</th>\n",
       "      <th>False</th>\n",
       "      <th>True</th>\n",
       "      <th>percent_clicked</th>\n",
       "    </tr>\n",
       "  </thead>\n",
       "  <tbody>\n",
       "    <tr>\n",
       "      <th>0</th>\n",
       "      <td>email</td>\n",
       "      <td>175</td>\n",
       "      <td>80</td>\n",
       "      <td>31.37</td>\n",
       "    </tr>\n",
       "    <tr>\n",
       "      <th>1</th>\n",
       "      <td>facebook</td>\n",
       "      <td>324</td>\n",
       "      <td>180</td>\n",
       "      <td>35.71</td>\n",
       "    </tr>\n",
       "    <tr>\n",
       "      <th>2</th>\n",
       "      <td>google</td>\n",
       "      <td>441</td>\n",
       "      <td>239</td>\n",
       "      <td>35.15</td>\n",
       "    </tr>\n",
       "    <tr>\n",
       "      <th>3</th>\n",
       "      <td>twitter</td>\n",
       "      <td>149</td>\n",
       "      <td>66</td>\n",
       "      <td>30.70</td>\n",
       "    </tr>\n",
       "  </tbody>\n",
       "</table>\n",
       "</div>"
      ],
      "text/plain": [
       "is_click utm_source  False  True  percent_clicked\n",
       "0             email    175    80            31.37\n",
       "1          facebook    324   180            35.71\n",
       "2            google    441   239            35.15\n",
       "3           twitter    149    66            30.70"
      ]
     },
     "execution_count": 7,
     "metadata": {},
     "output_type": "execute_result"
    }
   ],
   "source": [
    "# Pivot the data so that columns are is_click (True or False), the index is utm_source, \n",
    "# and the values are user_id\n",
    "\n",
    "clicks_pivot = clicks_by_source\\\n",
    "   .pivot(index='utm_source',\n",
    "          columns='is_click',\n",
    "          values='user_id')\\\n",
    "   .reset_index()\n",
    "\n",
    "# Was there a difference in click rates for each source? Find the percent clicked and add \n",
    "# a new columm in the clicks_pivot table\n",
    "\n",
    "clicks_pivot['percent_clicked'] = \\\n",
    "   round(clicks_pivot[True] / \\\n",
    "   (clicks_pivot[True] + \n",
    "    clicks_pivot[False])\\\n",
    "    *100,2)\n",
    "    \n",
    "clicks_pivot"
   ]
  },
  {
   "cell_type": "code",
   "execution_count": 8,
   "id": "0c9e1fc9",
   "metadata": {
    "execution": {
     "iopub.execute_input": "2022-12-14T23:13:42.623036Z",
     "iopub.status.busy": "2022-12-14T23:13:42.622580Z",
     "iopub.status.idle": "2022-12-14T23:13:42.822925Z",
     "shell.execute_reply": "2022-12-14T23:13:42.821608Z"
    },
    "papermill": {
     "duration": 0.211261,
     "end_time": "2022-12-14T23:13:42.826038",
     "exception": false,
     "start_time": "2022-12-14T23:13:42.614777",
     "status": "completed"
    },
    "tags": []
   },
   "outputs": [
    {
     "data": {
      "image/png": "[encoded data removed]",
      "text/plain": [
       "<Figure size 432x288 with 1 Axes>"
      ]
     },
     "metadata": {
      "needs_background": "light"
     },
     "output_type": "display_data"
    }
   ],
   "source": [
    "# Visualize the results\n",
    "\n",
    "# Dataset\n",
    "utm_source = range(len(clicks_pivot))\n",
    "clicks_percent = clicks_pivot['percent_clicked'].values\n",
    "\n",
    "# Plot\n",
    "ax = plt.subplot()\n",
    "cbs = plt.bar(utm_source,clicks_percent,color=['gray','blue','red','cyan'])\n",
    "ax.set_title('Click Rates Percentage for each Source')\n",
    "ax.set_xlabel('Ad Placement Source')\n",
    "ax.set_ylabel('Click Rates Percentage')\n",
    "ax.set_xticks(utm_source,labels = ['Email', 'Facebook','Google','Twitter'])\n",
    "plt.ylim(0, 40)\n",
    "\n",
    "# Label the graph with the percentages\n",
    "for p in cbs:\n",
    "   height = p.get_height()\n",
    "   ax.annotate('{}'.format(height),\n",
    "      xy=(p.get_x() + p.get_width() / 2, height),\n",
    "      xytext=(0, 3), # 3 points vertical offset\n",
    "      textcoords=\"offset points\",\n",
    "      ha='center', va='bottom')\n",
    "\n",
    "plt.show()\n"
   ]
  },
  {
   "cell_type": "markdown",
   "id": "ce273dae",
   "metadata": {
    "papermill": {
     "duration": 0.006718,
     "end_time": "2022-12-14T23:13:42.840085",
     "exception": false,
     "start_time": "2022-12-14T23:13:42.833367",
     "status": "completed"
    },
    "tags": []
   },
   "source": [
    "\n",
    "We found that there was a difference in click rates for each source. Facebook ads had the highest percentage at 35.71% closely followed by Google ads at 35.15%. The lowest performing ads clicked were from Twitter."
   ]
  },
  {
   "cell_type": "code",
   "execution_count": 9,
   "id": "d47d3368",
   "metadata": {
    "execution": {
     "iopub.execute_input": "2022-12-14T23:13:42.857168Z",
     "iopub.status.busy": "2022-12-14T23:13:42.856704Z",
     "iopub.status.idle": "2022-12-14T23:13:42.881222Z",
     "shell.execute_reply": "2022-12-14T23:13:42.879955Z"
    },
    "papermill": {
     "duration": 0.036601,
     "end_time": "2022-12-14T23:13:42.883871",
     "exception": false,
     "start_time": "2022-12-14T23:13:42.847270",
     "status": "completed"
    },
    "tags": []
   },
   "outputs": [
    {
     "data": {
      "text/html": [
       "<div>\n",
       "<style scoped>\n",
       "    .dataframe tbody tr th:only-of-type {\n",
       "        vertical-align: middle;\n",
       "    }\n",
       "\n",
       "    .dataframe tbody tr th {\n",
       "        vertical-align: top;\n",
       "    }\n",
       "\n",
       "    .dataframe thead th {\n",
       "        text-align: right;\n",
       "    }\n",
       "</style>\n",
       "<table border=\"1\" class=\"dataframe\">\n",
       "  <thead>\n",
       "    <tr style=\"text-align: right;\">\n",
       "      <th>is_click</th>\n",
       "      <th>experimental_group</th>\n",
       "      <th>False</th>\n",
       "      <th>True</th>\n",
       "      <th>percent_clicked</th>\n",
       "    </tr>\n",
       "  </thead>\n",
       "  <tbody>\n",
       "    <tr>\n",
       "      <th>0</th>\n",
       "      <td>A</td>\n",
       "      <td>517</td>\n",
       "      <td>310</td>\n",
       "      <td>37.48</td>\n",
       "    </tr>\n",
       "    <tr>\n",
       "      <th>1</th>\n",
       "      <td>B</td>\n",
       "      <td>572</td>\n",
       "      <td>255</td>\n",
       "      <td>30.83</td>\n",
       "    </tr>\n",
       "  </tbody>\n",
       "</table>\n",
       "</div>"
      ],
      "text/plain": [
       "is_click experimental_group  False  True  percent_clicked\n",
       "0                         A    517   310            37.48\n",
       "1                         B    572   255            30.83"
      ]
     },
     "execution_count": 9,
     "metadata": {},
     "output_type": "execute_result"
    }
   ],
   "source": [
    "# Analyzing an A/B test. Column experimental_group tells us whether the user was shown Ad A or Ad B. \n",
    "# Using the column is_click, check to see if a greater percentage of users clicked on Ad A or Ad B. \n",
    "\n",
    "clicks_exp_pivot = ad_clicks\\\n",
    "   .groupby(['experimental_group',\n",
    "             'is_click'])\\\n",
    "   .user_id.count()\\\n",
    "   .reset_index()\\\n",
    "   .pivot(\n",
    "     index='experimental_group',\n",
    "     columns='is_click',\n",
    "     values='user_id')\\\n",
    "   .reset_index()\\\n",
    "\n",
    "clicks_exp_pivot['percent_clicked'] = \\\n",
    "   round(clicks_exp_pivot[True] / \\\n",
    "   (clicks_exp_pivot[True] + \n",
    "    clicks_exp_pivot[False])\\\n",
    "    *100,2)\n",
    "    \n",
    "clicks_exp_pivot"
   ]
  },
  {
   "cell_type": "code",
   "execution_count": 10,
   "id": "af02557a",
   "metadata": {
    "execution": {
     "iopub.execute_input": "2022-12-14T23:13:42.901339Z",
     "iopub.status.busy": "2022-12-14T23:13:42.900843Z",
     "iopub.status.idle": "2022-12-14T23:13:43.052123Z",
     "shell.execute_reply": "2022-12-14T23:13:43.050519Z"
    },
    "papermill": {
     "duration": 0.163489,
     "end_time": "2022-12-14T23:13:43.054924",
     "exception": false,
     "start_time": "2022-12-14T23:13:42.891435",
     "status": "completed"
    },
    "tags": []
   },
   "outputs": [
    {
     "data": {
      "image/png": "[encoded data removed]",
      "text/plain": [
       "<Figure size 432x288 with 1 Axes>"
      ]
     },
     "metadata": {
      "needs_background": "light"
     },
     "output_type": "display_data"
    }
   ],
   "source": [
    "# Dataset\n",
    "exp = range(len(clicks_exp_pivot))\n",
    "p_clicked = clicks_exp_pivot['percent_clicked'].values\n",
    "\n",
    "# Plot\n",
    "ax = plt.subplot()\n",
    "cbs = plt.bar(exp,p_clicked,color=['tab:orange','tab:cyan'])\n",
    "ax.set_title('Click Rates Percentage for Ad A and Ad B')\n",
    "ax.set_xlabel('Ad Type')\n",
    "ax.set_ylabel('Click Rates Percentage')\n",
    "ax.set_xticks(exp,labels = ['A', 'B'])\n",
    "plt.ylim(0, 45)\n",
    "\n",
    "# Label the graph with the percentages\n",
    "for p in cbs:\n",
    "   height = p.get_height()\n",
    "   ax.annotate('{}'.format(height),\n",
    "      xy=(p.get_x() + p.get_width() / 2, height),\n",
    "      xytext=(0, 3), # 3 points vertical offset\n",
    "      textcoords=\"offset points\",\n",
    "      ha='center', va='bottom')\n",
    "\n",
    "plt.show()"
   ]
  },
  {
   "cell_type": "markdown",
   "id": "22e6e4cb",
   "metadata": {
    "papermill": {
     "duration": 0.008154,
     "end_time": "2022-12-14T23:13:43.072345",
     "exception": false,
     "start_time": "2022-12-14T23:13:43.064191",
     "status": "completed"
    },
    "tags": []
   },
   "source": [
    "A user who was given Ad A was more likely to click the ad at 37.48% than a user who was given Ad B. "
   ]
  },
  {
   "cell_type": "code",
   "execution_count": 11,
   "id": "57daf4d5",
   "metadata": {
    "execution": {
     "iopub.execute_input": "2022-12-14T23:13:43.091165Z",
     "iopub.status.busy": "2022-12-14T23:13:43.090005Z",
     "iopub.status.idle": "2022-12-14T23:13:43.115149Z",
     "shell.execute_reply": "2022-12-14T23:13:43.113931Z"
    },
    "papermill": {
     "duration": 0.038216,
     "end_time": "2022-12-14T23:13:43.118447",
     "exception": false,
     "start_time": "2022-12-14T23:13:43.080231",
     "status": "completed"
    },
    "tags": []
   },
   "outputs": [
    {
     "data": {
      "text/html": [
       "<div>\n",
       "<style scoped>\n",
       "    .dataframe tbody tr th:only-of-type {\n",
       "        vertical-align: middle;\n",
       "    }\n",
       "\n",
       "    .dataframe tbody tr th {\n",
       "        vertical-align: top;\n",
       "    }\n",
       "\n",
       "    .dataframe thead th {\n",
       "        text-align: right;\n",
       "    }\n",
       "</style>\n",
       "<table border=\"1\" class=\"dataframe\">\n",
       "  <thead>\n",
       "    <tr style=\"text-align: right;\">\n",
       "      <th>is_click</th>\n",
       "      <th>day</th>\n",
       "      <th>False</th>\n",
       "      <th>True</th>\n",
       "      <th>percent_clicked</th>\n",
       "    </tr>\n",
       "  </thead>\n",
       "  <tbody>\n",
       "    <tr>\n",
       "      <th>0</th>\n",
       "      <td>1 - Monday</td>\n",
       "      <td>70</td>\n",
       "      <td>43</td>\n",
       "      <td>38.05</td>\n",
       "    </tr>\n",
       "    <tr>\n",
       "      <th>1</th>\n",
       "      <td>2 - Tuesday</td>\n",
       "      <td>76</td>\n",
       "      <td>43</td>\n",
       "      <td>36.13</td>\n",
       "    </tr>\n",
       "    <tr>\n",
       "      <th>2</th>\n",
       "      <td>3 - Wednesday</td>\n",
       "      <td>86</td>\n",
       "      <td>38</td>\n",
       "      <td>30.65</td>\n",
       "    </tr>\n",
       "    <tr>\n",
       "      <th>3</th>\n",
       "      <td>4 - Thursday</td>\n",
       "      <td>69</td>\n",
       "      <td>47</td>\n",
       "      <td>40.52</td>\n",
       "    </tr>\n",
       "    <tr>\n",
       "      <th>4</th>\n",
       "      <td>5 - Friday</td>\n",
       "      <td>77</td>\n",
       "      <td>51</td>\n",
       "      <td>39.84</td>\n",
       "    </tr>\n",
       "    <tr>\n",
       "      <th>5</th>\n",
       "      <td>6 - Saturday</td>\n",
       "      <td>73</td>\n",
       "      <td>45</td>\n",
       "      <td>38.14</td>\n",
       "    </tr>\n",
       "    <tr>\n",
       "      <th>6</th>\n",
       "      <td>7 - Sunday</td>\n",
       "      <td>66</td>\n",
       "      <td>43</td>\n",
       "      <td>39.45</td>\n",
       "    </tr>\n",
       "  </tbody>\n",
       "</table>\n",
       "</div>"
      ],
      "text/plain": [
       "is_click            day  False  True  percent_clicked\n",
       "0            1 - Monday     70    43            38.05\n",
       "1           2 - Tuesday     76    43            36.13\n",
       "2         3 - Wednesday     86    38            30.65\n",
       "3          4 - Thursday     69    47            40.52\n",
       "4            5 - Friday     77    51            39.84\n",
       "5          6 - Saturday     73    45            38.14\n",
       "6            7 - Sunday     66    43            39.45"
      ]
     },
     "execution_count": 11,
     "metadata": {},
     "output_type": "execute_result"
    }
   ],
   "source": [
    "# Also check to see if clicks might have changed by day of the week. Do you recommend that \n",
    "# your company use Ad A or Ad B?\n",
    "\n",
    "# Creating DataFrame for a_clicks.\n",
    "a_clicks = ad_clicks[\n",
    "   ad_clicks.experimental_group == 'A']\n",
    "\n",
    "a_clicks_pivot = a_clicks\\\n",
    "  .groupby(['is_click','day'])\\\n",
    "  .user_id.count()\\\n",
    "  .reset_index()\\\n",
    "  .pivot(\n",
    "     index = 'day',\n",
    "     columns = 'is_click',\n",
    "     values = 'user_id'\n",
    "   )\\\n",
    "   .reset_index()\n",
    "\n",
    "a_clicks_pivot['percent_clicked'] = \\\n",
    "   round(a_clicks_pivot[True] / \\\n",
    "   (a_clicks_pivot[True] + \n",
    "    a_clicks_pivot[False])\\\n",
    "    *100,2)\n",
    "\n",
    "a_clicks_pivot"
   ]
  },
  {
   "cell_type": "code",
   "execution_count": 12,
   "id": "871ad780",
   "metadata": {
    "execution": {
     "iopub.execute_input": "2022-12-14T23:13:43.138536Z",
     "iopub.status.busy": "2022-12-14T23:13:43.137395Z",
     "iopub.status.idle": "2022-12-14T23:13:43.158392Z",
     "shell.execute_reply": "2022-12-14T23:13:43.157546Z"
    },
    "papermill": {
     "duration": 0.033425,
     "end_time": "2022-12-14T23:13:43.160849",
     "exception": false,
     "start_time": "2022-12-14T23:13:43.127424",
     "status": "completed"
    },
    "tags": []
   },
   "outputs": [
    {
     "data": {
      "text/html": [
       "<div>\n",
       "<style scoped>\n",
       "    .dataframe tbody tr th:only-of-type {\n",
       "        vertical-align: middle;\n",
       "    }\n",
       "\n",
       "    .dataframe tbody tr th {\n",
       "        vertical-align: top;\n",
       "    }\n",
       "\n",
       "    .dataframe thead th {\n",
       "        text-align: right;\n",
       "    }\n",
       "</style>\n",
       "<table border=\"1\" class=\"dataframe\">\n",
       "  <thead>\n",
       "    <tr style=\"text-align: right;\">\n",
       "      <th>is_click</th>\n",
       "      <th>day</th>\n",
       "      <th>False</th>\n",
       "      <th>True</th>\n",
       "      <th>percent_clicked</th>\n",
       "    </tr>\n",
       "  </thead>\n",
       "  <tbody>\n",
       "    <tr>\n",
       "      <th>0</th>\n",
       "      <td>1 - Monday</td>\n",
       "      <td>81</td>\n",
       "      <td>32</td>\n",
       "      <td>28.32</td>\n",
       "    </tr>\n",
       "    <tr>\n",
       "      <th>1</th>\n",
       "      <td>2 - Tuesday</td>\n",
       "      <td>74</td>\n",
       "      <td>45</td>\n",
       "      <td>37.82</td>\n",
       "    </tr>\n",
       "    <tr>\n",
       "      <th>2</th>\n",
       "      <td>3 - Wednesday</td>\n",
       "      <td>89</td>\n",
       "      <td>35</td>\n",
       "      <td>28.23</td>\n",
       "    </tr>\n",
       "    <tr>\n",
       "      <th>3</th>\n",
       "      <td>4 - Thursday</td>\n",
       "      <td>87</td>\n",
       "      <td>29</td>\n",
       "      <td>25.00</td>\n",
       "    </tr>\n",
       "    <tr>\n",
       "      <th>4</th>\n",
       "      <td>5 - Friday</td>\n",
       "      <td>90</td>\n",
       "      <td>38</td>\n",
       "      <td>29.69</td>\n",
       "    </tr>\n",
       "    <tr>\n",
       "      <th>5</th>\n",
       "      <td>6 - Saturday</td>\n",
       "      <td>76</td>\n",
       "      <td>42</td>\n",
       "      <td>35.59</td>\n",
       "    </tr>\n",
       "    <tr>\n",
       "      <th>6</th>\n",
       "      <td>7 - Sunday</td>\n",
       "      <td>75</td>\n",
       "      <td>34</td>\n",
       "      <td>31.19</td>\n",
       "    </tr>\n",
       "  </tbody>\n",
       "</table>\n",
       "</div>"
      ],
      "text/plain": [
       "is_click            day  False  True  percent_clicked\n",
       "0            1 - Monday     81    32            28.32\n",
       "1           2 - Tuesday     74    45            37.82\n",
       "2         3 - Wednesday     89    35            28.23\n",
       "3          4 - Thursday     87    29            25.00\n",
       "4            5 - Friday     90    38            29.69\n",
       "5          6 - Saturday     76    42            35.59\n",
       "6            7 - Sunday     75    34            31.19"
      ]
     },
     "execution_count": 12,
     "metadata": {},
     "output_type": "execute_result"
    }
   ],
   "source": [
    "# Creating DataFrame for b_clicks.\n",
    "b_clicks = ad_clicks[\n",
    "   ad_clicks.experimental_group == 'B']\n",
    "\n",
    "b_clicks_pivot = b_clicks\\\n",
    "  .groupby(['is_click','day'])\\\n",
    "  .user_id.count()\\\n",
    "  .reset_index()\\\n",
    "  .pivot(\n",
    "     index = 'day',\n",
    "     columns = 'is_click',\n",
    "     values = 'user_id'\n",
    "   )\\\n",
    "   .reset_index()\n",
    "\n",
    "b_clicks_pivot['percent_clicked'] = \\\n",
    "   round(b_clicks_pivot[True] / \\\n",
    "   (b_clicks_pivot[True] + \n",
    "    b_clicks_pivot[False])\\\n",
    "    *100,2)\n",
    "\n",
    "b_clicks_pivot"
   ]
  },
  {
   "cell_type": "code",
   "execution_count": 13,
   "id": "484a0f20",
   "metadata": {
    "execution": {
     "iopub.execute_input": "2022-12-14T23:13:43.180767Z",
     "iopub.status.busy": "2022-12-14T23:13:43.180165Z",
     "iopub.status.idle": "2022-12-14T23:13:43.376963Z",
     "shell.execute_reply": "2022-12-14T23:13:43.376159Z"
    },
    "papermill": {
     "duration": 0.20926,
     "end_time": "2022-12-14T23:13:43.379497",
     "exception": false,
     "start_time": "2022-12-14T23:13:43.170237",
     "status": "completed"
    },
    "tags": []
   },
   "outputs": [
    {
     "data": {
      "image/png": "[encoded data removed]",
      "text/plain": [
       "<Figure size 432x288 with 1 Axes>"
      ]
     },
     "metadata": {
      "needs_background": "light"
     },
     "output_type": "display_data"
    }
   ],
   "source": [
    "# Dateset\n",
    "a_is_click = range(len(a_clicks_pivot))\n",
    "a_pclick = a_clicks_pivot['percent_clicked'].values\n",
    "b_is_click = range(len(b_clicks_pivot))\n",
    "b_pclick = b_clicks_pivot['percent_clicked'].values\n",
    "\n",
    "# Plot\n",
    "ax = plt.subplot()\n",
    "plt.plot(a_is_click,a_pclick,label='Ad A')\n",
    "plt.plot(b_is_click,b_pclick,label='Ad B')\n",
    "ax.set_title('Click Rates Percentage for Ad A and Ad B')\n",
    "ax.set_xlabel('Day of the Week for the Ad')\n",
    "ax.set_ylabel('Click Rates Percentage')\n",
    "ax.set_xticks(a_is_click,labels = ['Mon', 'Tues', 'Wed', 'Thurs', 'Fri', 'Sat', 'Sun'])\n",
    "plt.ylim(0, 45)\n",
    "plt.legend(loc=\"lower right\")\n",
    "plt.show()"
   ]
  },
  {
   "cell_type": "markdown",
   "id": "36148581",
   "metadata": {
    "papermill": {
     "duration": 0.008884,
     "end_time": "2022-12-14T23:13:43.397723",
     "exception": false,
     "start_time": "2022-12-14T23:13:43.388839",
     "status": "completed"
    },
    "tags": []
   },
   "source": [
    "During the days of the week, the performance of Ad A outpaced that of Ad B. Ad B, in particular, only performed better than Ad A on Tuesday."
   ]
  },
  {
   "cell_type": "markdown",
   "id": "05ce9ec0",
   "metadata": {
    "papermill": {
     "duration": 0.008269,
     "end_time": "2022-12-14T23:13:43.415053",
     "exception": false,
     "start_time": "2022-12-14T23:13:43.406784",
     "status": "completed"
    },
    "tags": []
   },
   "source": [
    "# Conclusion\n",
    "\n",
    "To ensure that the sample is fair, we learned that the company conducted the A/B test with the same amount of participants for the two different ads. Furthtermore, we learned the amount of views per source and the percentage of those that clicked the ad. We found that there was a difference in click rates for each source with Facebook ads having 35.71% clicked rate closely followed by Google ads at 35.15%. This could be explained with the possiblity that these two platforms have a higher number of active users as the amount of users that viewed the ads from these two platforms acounted for 71.58% of the sampled data. We also analyzed if the day of the week affected the click rate to answer the product manager's hypothesis. To summarize the results, we learned that Ad A performed better than Ad B regardless of the day of the week the ad was shown. Therefore, I would recommend that the company run Ad A instead of Ad B and allocate more resources into running the ad on Facebook and Google than the other platforms to maximize user traffic into ShoeFly.com."
   ]
  }
 ],
 "metadata": {
  "kernelspec": {
   "display_name": "Python 3",
   "language": "python",
   "name": "python3"
  },
  "language_info": {
   "codemirror_mode": {
    "name": "ipython",
    "version": 3
   },
   "file_extension": ".py",
   "mimetype": "text/x-python",
   "name": "python",
   "nbconvert_exporter": "python",
   "pygments_lexer": "ipython3",
   "version": "3.7.12"
  },
  "papermill": {
   "default_parameters": {},
   "duration": 11.153367,
   "end_time": "2022-12-14T23:13:44.247110",
   "environment_variables": {},
   "exception": null,
   "input_path": "__notebook__.ipynb",
   "output_path": "__notebook__.ipynb",
   "parameters": {},
   "start_time": "2022-12-14T23:13:33.093743",
   "version": "2.3.4"
  }
 },
 "nbformat": 4,
 "nbformat_minor": 5
}
