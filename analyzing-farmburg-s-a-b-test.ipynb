{
 "cells": [
  {
   "cell_type": "markdown",
   "id": "6659b00b",
   "metadata": {
    "papermill": {
     "duration": 0.006377,
     "end_time": "2022-12-14T23:49:53.051134",
     "exception": false,
     "start_time": "2022-12-14T23:49:53.044757",
     "status": "completed"
    },
    "tags": []
   },
   "source": [
    "# Analyzing Farmburg’s A/B test\n",
    "***"
   ]
  },
  {
   "cell_type": "markdown",
   "id": "d9d68401",
   "metadata": {
    "papermill": {
     "duration": 0.004776,
     "end_time": "2022-12-14T23:49:53.061675",
     "exception": false,
     "start_time": "2022-12-14T23:49:53.056899",
     "status": "completed"
    },
    "tags": []
   },
   "source": [
    "Brian ran an A/B test with three different groups: A, B, and C. He has provided us with a CSV file of his results named *clicks.csv*. It has the following columns:\n",
    "\n",
    "* *user_id* - a unique id for each visitor to the FarmBurg site\n",
    "* *group* - either 'A', 'B', or 'C' depending on which group the visitor was assigned to\n",
    "* *is_purchase* - either 'Yes' if the visitor made a purchase or 'No' if they did not."
   ]
  },
  {
   "cell_type": "code",
   "execution_count": 1,
   "id": "557b8313",
   "metadata": {
    "execution": {
     "iopub.execute_input": "2022-12-14T23:49:53.077431Z",
     "iopub.status.busy": "2022-12-14T23:49:53.076075Z",
     "iopub.status.idle": "2022-12-14T23:49:53.087312Z",
     "shell.execute_reply": "2022-12-14T23:49:53.086145Z"
    },
    "papermill": {
     "duration": 0.02335,
     "end_time": "2022-12-14T23:49:53.090175",
     "exception": false,
     "start_time": "2022-12-14T23:49:53.066825",
     "status": "completed"
    },
    "tags": []
   },
   "outputs": [],
   "source": [
    "# Load necessary libraries\n",
    "import numpy as np # linear algebra\n",
    "import pandas as pd # data processing, CSV file I/O (e.g. pd.read_csv)"
   ]
  },
  {
   "cell_type": "code",
   "execution_count": 2,
   "id": "50265bfc",
   "metadata": {
    "execution": {
     "iopub.execute_input": "2022-12-14T23:49:53.101955Z",
     "iopub.status.busy": "2022-12-14T23:49:53.101458Z",
     "iopub.status.idle": "2022-12-14T23:49:53.152893Z",
     "shell.execute_reply": "2022-12-14T23:49:53.151781Z"
    },
    "papermill": {
     "duration": 0.061482,
     "end_time": "2022-12-14T23:49:53.156600",
     "exception": false,
     "start_time": "2022-12-14T23:49:53.095118",
     "status": "completed"
    },
    "tags": []
   },
   "outputs": [
    {
     "data": {
      "text/html": [
       "<div>\n",
       "<style scoped>\n",
       "    .dataframe tbody tr th:only-of-type {\n",
       "        vertical-align: middle;\n",
       "    }\n",
       "\n",
       "    .dataframe tbody tr th {\n",
       "        vertical-align: top;\n",
       "    }\n",
       "\n",
       "    .dataframe thead th {\n",
       "        text-align: right;\n",
       "    }\n",
       "</style>\n",
       "<table border=\"1\" class=\"dataframe\">\n",
       "  <thead>\n",
       "    <tr style=\"text-align: right;\">\n",
       "      <th></th>\n",
       "      <th>user_id</th>\n",
       "      <th>group</th>\n",
       "      <th>is_purchase</th>\n",
       "    </tr>\n",
       "  </thead>\n",
       "  <tbody>\n",
       "    <tr>\n",
       "      <th>0</th>\n",
       "      <td>8e27bf9a</td>\n",
       "      <td>A</td>\n",
       "      <td>No</td>\n",
       "    </tr>\n",
       "    <tr>\n",
       "      <th>1</th>\n",
       "      <td>eb89e6f0</td>\n",
       "      <td>A</td>\n",
       "      <td>No</td>\n",
       "    </tr>\n",
       "    <tr>\n",
       "      <th>2</th>\n",
       "      <td>7119106a</td>\n",
       "      <td>A</td>\n",
       "      <td>No</td>\n",
       "    </tr>\n",
       "    <tr>\n",
       "      <th>3</th>\n",
       "      <td>e53781ff</td>\n",
       "      <td>A</td>\n",
       "      <td>No</td>\n",
       "    </tr>\n",
       "    <tr>\n",
       "      <th>4</th>\n",
       "      <td>02d48cf1</td>\n",
       "      <td>A</td>\n",
       "      <td>Yes</td>\n",
       "    </tr>\n",
       "  </tbody>\n",
       "</table>\n",
       "</div>"
      ],
      "text/plain": [
       "    user_id group is_purchase\n",
       "0  8e27bf9a     A          No\n",
       "1  eb89e6f0     A          No\n",
       "2  7119106a     A          No\n",
       "3  e53781ff     A          No\n",
       "4  02d48cf1     A         Yes"
      ]
     },
     "execution_count": 2,
     "metadata": {},
     "output_type": "execute_result"
    }
   ],
   "source": [
    "# Read the file into a variable \n",
    "abdata = pd.read_csv(\"../input/clicks/clicks.csv\")\n",
    "\n",
    "# To preview the dataframe to see what data we are working with\n",
    "abdata.head()"
   ]
  },
  {
   "cell_type": "markdown",
   "id": "cd9b1ea2",
   "metadata": {
    "papermill": {
     "duration": 0.004977,
     "end_time": "2022-12-14T23:49:53.169342",
     "exception": false,
     "start_time": "2022-12-14T23:49:53.164365",
     "status": "completed"
    },
    "tags": []
   },
   "source": [
    "Note that we have two categorical variables: group and is_purchase. We are interested in whether visitors are more likely to make a purchase if they are in any one group compared to the others. Because we want to know if there is an association between two categorical variables, we’ll start by using a Chi-Square test to address our question.\n",
    "\n",
    "In order to run a Chi-Square test, we first need to create a contingency table of the variables group and is_purchase. Use pd.crosstab() to create this table and name the result Xtab, then print it out. Which group appears to have the highest number of purchases? \n",
    "\n",
    "We learned that Group A with 316 purchases has the highest number of purchases."
   ]
  },
  {
   "cell_type": "code",
   "execution_count": 3,
   "id": "40cb0a8d",
   "metadata": {
    "execution": {
     "iopub.execute_input": "2022-12-14T23:49:53.181455Z",
     "iopub.status.busy": "2022-12-14T23:49:53.180977Z",
     "iopub.status.idle": "2022-12-14T23:49:53.222906Z",
     "shell.execute_reply": "2022-12-14T23:49:53.221773Z"
    },
    "papermill": {
     "duration": 0.051067,
     "end_time": "2022-12-14T23:49:53.225552",
     "exception": false,
     "start_time": "2022-12-14T23:49:53.174485",
     "status": "completed"
    },
    "tags": []
   },
   "outputs": [
    {
     "data": {
      "text/html": [
       "<div>\n",
       "<style scoped>\n",
       "    .dataframe tbody tr th:only-of-type {\n",
       "        vertical-align: middle;\n",
       "    }\n",
       "\n",
       "    .dataframe tbody tr th {\n",
       "        vertical-align: top;\n",
       "    }\n",
       "\n",
       "    .dataframe thead th {\n",
       "        text-align: right;\n",
       "    }\n",
       "</style>\n",
       "<table border=\"1\" class=\"dataframe\">\n",
       "  <thead>\n",
       "    <tr style=\"text-align: right;\">\n",
       "      <th>is_purchase</th>\n",
       "      <th>No</th>\n",
       "      <th>Yes</th>\n",
       "    </tr>\n",
       "    <tr>\n",
       "      <th>group</th>\n",
       "      <th></th>\n",
       "      <th></th>\n",
       "    </tr>\n",
       "  </thead>\n",
       "  <tbody>\n",
       "    <tr>\n",
       "      <th>A</th>\n",
       "      <td>1350</td>\n",
       "      <td>316</td>\n",
       "    </tr>\n",
       "    <tr>\n",
       "      <th>B</th>\n",
       "      <td>1483</td>\n",
       "      <td>183</td>\n",
       "    </tr>\n",
       "    <tr>\n",
       "      <th>C</th>\n",
       "      <td>1583</td>\n",
       "      <td>83</td>\n",
       "    </tr>\n",
       "  </tbody>\n",
       "</table>\n",
       "</div>"
      ],
      "text/plain": [
       "is_purchase    No  Yes\n",
       "group                 \n",
       "A            1350  316\n",
       "B            1483  183\n",
       "C            1583   83"
      ]
     },
     "execution_count": 3,
     "metadata": {},
     "output_type": "execute_result"
    }
   ],
   "source": [
    "# Create a contingency table with pd.crosstab and print\n",
    "Xtab = pd.crosstab(abdata.group, abdata.is_purchase)\n",
    "Xtab"
   ]
  },
  {
   "cell_type": "markdown",
   "id": "38c6731f",
   "metadata": {
    "papermill": {
     "duration": 0.005109,
     "end_time": "2022-12-14T23:49:53.236216",
     "exception": false,
     "start_time": "2022-12-14T23:49:53.231107",
     "status": "completed"
    },
    "tags": []
   },
   "source": [
    "To conduct the Chi-Square Test, import chi2_contingency from scipy.stats.\n",
    "\n",
    "Then, use the function chi2_contingency with the data in Xtab to calculate the p-value. Remember that of the four values returned by chi2_contingency, the p-value is the second value.\n",
    "\n",
    "Save the p-value to a variable named pval and print the result. Using a significance threshold of 0.05, is there a significant difference in the purchase rate for groups A, B, and C? \n",
    "\n",
    "The p-value is less than 0.05 and we can conclude that there is a significant difference in the purchase rate for groups A, B, and C."
   ]
  },
  {
   "cell_type": "code",
   "execution_count": 4,
   "id": "193c73ea",
   "metadata": {
    "execution": {
     "iopub.execute_input": "2022-12-14T23:49:53.248769Z",
     "iopub.status.busy": "2022-12-14T23:49:53.248296Z",
     "iopub.status.idle": "2022-12-14T23:49:54.240401Z",
     "shell.execute_reply": "2022-12-14T23:49:54.239268Z"
    },
    "papermill": {
     "duration": 1.001734,
     "end_time": "2022-12-14T23:49:54.243239",
     "exception": false,
     "start_time": "2022-12-14T23:49:53.241505",
     "status": "completed"
    },
    "tags": []
   },
   "outputs": [
    {
     "name": "stdout",
     "output_type": "stream",
     "text": [
      "2.4126213546684264e-35\n"
     ]
    }
   ],
   "source": [
    "# Import chi2_contingency module\n",
    "from scipy.stats import chi2_contingency\n",
    "\n",
    "# Calculate the p-value\n",
    "chi2, pval, dof, expected = chi2_contingency(Xtab)\n",
    "\n",
    "# Print the p-value\n",
    "print(pval)"
   ]
  },
  {
   "cell_type": "code",
   "execution_count": 5,
   "id": "75472f80",
   "metadata": {
    "execution": {
     "iopub.execute_input": "2022-12-14T23:49:54.256816Z",
     "iopub.status.busy": "2022-12-14T23:49:54.256394Z",
     "iopub.status.idle": "2022-12-14T23:49:54.261661Z",
     "shell.execute_reply": "2022-12-14T23:49:54.260479Z"
    },
    "papermill": {
     "duration": 0.014338,
     "end_time": "2022-12-14T23:49:54.263735",
     "exception": false,
     "start_time": "2022-12-14T23:49:54.249397",
     "status": "completed"
    },
    "tags": []
   },
   "outputs": [],
   "source": [
    "# Determine if the p-value is significant\n",
    "is_significant = True"
   ]
  },
  {
   "cell_type": "markdown",
   "id": "33265f44",
   "metadata": {
    "papermill": {
     "duration": 0.005111,
     "end_time": "2022-12-14T23:49:54.274476",
     "exception": false,
     "start_time": "2022-12-14T23:49:54.269365",
     "status": "completed"
    },
    "tags": []
   },
   "source": [
    "Our day is a little less busy than expected, so we decide to ask Brian about his test.\n",
    "\n",
    "Us: Hey Brian! What was that test you were running anyway?\n",
    "\n",
    "Brian: We are trying to get users to purchase a small FarmBurg upgrade package. It’s called a microtransaction. We’re not sure how much to charge for it, so we tested three different price points: \\\\$0.99 (group A), \\\\$1.99 (group B), and \\\\$4.99 (group C). It looks like significantly more people bought the upgrade package for \\\\$0.99, so I guess that’s what we’ll charge.\n",
    "\n",
    "Us: Oh no! We should have asked you this before we did that Chi-Square test. That wasn’t the right test at all. It’s true that more people wanted to purchase the upgrade at \\\\$0.99; you probably expected that. What we really want to know is whether each price point allows us to make enough money that we can exceed some target goal. Brian, how much do you think it cost to build this feature?\n",
    "\n",
    "Brian: Hmm. I guess that we need to generate a minimum of $1000 in revenue per week in order to justify this project.\n",
    "\n",
    "Us: We have some work to do!\n",
    "\n",
    "In order to justify this feature, we will need to calculate the necessary purchase rate for each price point. Let’s start by calculating the number of visitors to the site this week.\n",
    "\n",
    "It turns out that Brian ran his original test over the course of a week, so the number of visitors in abdata is equal to the number of visitors in a typical week. Calculate the number of visitors in the data and save the value in a variable named num_visits. Make sure to print the value."
   ]
  },
  {
   "cell_type": "code",
   "execution_count": 6,
   "id": "b2885f00",
   "metadata": {
    "execution": {
     "iopub.execute_input": "2022-12-14T23:49:54.289032Z",
     "iopub.status.busy": "2022-12-14T23:49:54.288318Z",
     "iopub.status.idle": "2022-12-14T23:49:54.296020Z",
     "shell.execute_reply": "2022-12-14T23:49:54.294908Z"
    },
    "papermill": {
     "duration": 0.018456,
     "end_time": "2022-12-14T23:49:54.298332",
     "exception": false,
     "start_time": "2022-12-14T23:49:54.279876",
     "status": "completed"
    },
    "tags": []
   },
   "outputs": [
    {
     "data": {
      "text/plain": [
       "4998"
      ]
     },
     "execution_count": 6,
     "metadata": {},
     "output_type": "execute_result"
    }
   ],
   "source": [
    "# Calculate and print the number of visits\n",
    "num_visits = len(abdata)\n",
    "\n",
    "# Print the number of visits\n",
    "num_visits"
   ]
  },
  {
   "cell_type": "markdown",
   "id": "eff41dbc",
   "metadata": {
    "papermill": {
     "duration": 0.005271,
     "end_time": "2022-12-14T23:49:54.309201",
     "exception": false,
     "start_time": "2022-12-14T23:49:54.303930",
     "status": "completed"
    },
    "tags": []
   },
   "source": [
    "Now that we know how many visitors we generally get each week (num_visits), we need to calculate the number of visitors who would need to purchase the upgrade package at each price point (\\\\$0.99, \\\\$1.99, \\\\$4.99) in order to generate Brian’s minimum revenue target of \\\\$1,000 per week.\n",
    "\n",
    "To start, calculate the number of sales that would be needed to reach \\\\$1,000 dollars of revenue at a price point of \\\\$0.99. Save the result as num_sales_needed_099 and print it out.\n",
    "\n",
    "Now that we know how many sales we need at a \\\\$0.99 price point, calculate the proportion of weekly visitors who would need to make a purchase in order to meet that goal. Remember that the number of weekly visitors is saved as num_visits. Save the result as p_sales_needed_099 and print it out.\n",
    "\n",
    "Print out the proportions. Note that for higher price points, you’ll need to sell fewer upgrade packages in order to meet your minimum revenue target — so the proportions should decrease as the price points increase."
   ]
  },
  {
   "cell_type": "code",
   "execution_count": 7,
   "id": "32524047",
   "metadata": {
    "execution": {
     "iopub.execute_input": "2022-12-14T23:49:54.322026Z",
     "iopub.status.busy": "2022-12-14T23:49:54.321561Z",
     "iopub.status.idle": "2022-12-14T23:49:54.329225Z",
     "shell.execute_reply": "2022-12-14T23:49:54.327738Z"
    },
    "papermill": {
     "duration": 0.017396,
     "end_time": "2022-12-14T23:49:54.332087",
     "exception": false,
     "start_time": "2022-12-14T23:49:54.314691",
     "status": "completed"
    },
    "tags": []
   },
   "outputs": [
    {
     "name": "stdout",
     "output_type": "stream",
     "text": [
      "0.20210104243717691\n",
      "0.10054272965467594\n",
      "0.040096198800161346\n"
     ]
    }
   ],
   "source": [
    "# Calculate the purchase rate needed at 0.99\n",
    "num_sales_needed_099 = 1000/0.99\n",
    "p_sales_needed_099 = num_sales_needed_099/num_visits\n",
    "\n",
    "# Print the purchase rate needed at 0.99\n",
    "print(p_sales_needed_099)\n",
    "\n",
    "# Calculate the purchase rate needed at 1.99\n",
    "num_sales_needed_199 = 1000/1.99\n",
    "p_sales_needed_199 = num_sales_needed_199/num_visits\n",
    "\n",
    "# Print the purchase rate needed at 1.99\n",
    "print(p_sales_needed_199)\n",
    "\n",
    "# Calculate the purchase rate needed at 4.99\n",
    "num_sales_needed_499 = 1000/4.99\n",
    "p_sales_needed_499 = num_sales_needed_499/num_visits\n",
    "\n",
    "# Print the purchase rate needed at 4.99\n",
    "print(p_sales_needed_499)"
   ]
  },
  {
   "cell_type": "markdown",
   "id": "c1c5a324",
   "metadata": {
    "papermill": {
     "duration": 0.005226,
     "end_time": "2022-12-14T23:49:54.343272",
     "exception": false,
     "start_time": "2022-12-14T23:49:54.338046",
     "status": "completed"
    },
    "tags": []
   },
   "source": [
    "Now let’s return to Brian’s question. To start, we want to know if the percent of Group A (the \\\\$0.99 price point) that purchased an upgrade package is significantly greater than p_sales_needed_099 (the percent of visitors who need to buy an upgrade package at \\\\$0.99 in order to make our minimum revenue target of \\\\$1,000).\n",
    "\n",
    "To answer this question, we want to focus on just the visitors in group A. Then, we want to compare the number of purchases in that group to p_sales_needed_099.\n",
    "\n",
    "Since we have a single sample of categorical data and want to compare it to a hypothetical population value, a binomial test is appropriate. In order to run a binomial test for group A, we need to know two pieces of information:\n",
    "\n",
    "The number of visitors in group A (the number of visitors who were offered the \\\\$0.99 price point) The number of visitors in Group A who made a purchase Calculate these two numbers and save them as samp_size_099 and sales_099, respectively. Note that you can use the contingency table that you printed earlier to get these numbers OR you can use Python syntax."
   ]
  },
  {
   "cell_type": "code",
   "execution_count": 8,
   "id": "55cc319c",
   "metadata": {
    "execution": {
     "iopub.execute_input": "2022-12-14T23:49:54.356834Z",
     "iopub.status.busy": "2022-12-14T23:49:54.355785Z",
     "iopub.status.idle": "2022-12-14T23:49:54.373329Z",
     "shell.execute_reply": "2022-12-14T23:49:54.371565Z"
    },
    "papermill": {
     "duration": 0.027249,
     "end_time": "2022-12-14T23:49:54.376134",
     "exception": false,
     "start_time": "2022-12-14T23:49:54.348885",
     "status": "completed"
    },
    "tags": []
   },
   "outputs": [
    {
     "name": "stdout",
     "output_type": "stream",
     "text": [
      "1666\n",
      "316\n",
      "1666\n",
      "183\n",
      "1666\n",
      "83\n"
     ]
    }
   ],
   "source": [
    "# Calculate samp size & sales for 0.99 price point\n",
    "samp_size_099 = np.sum(abdata.group == 'A')\n",
    "sales_099 = np.sum((abdata.group == 'A') & (abdata.is_purchase == 'Yes'))\n",
    "\n",
    "# Print samp size & sales for 0.99 price point\n",
    "print(samp_size_099)\n",
    "print(sales_099)\n",
    "\n",
    "# Calculate samp size & sales for 1.99 price point\n",
    "samp_size_199 = np.sum(abdata.group == 'B')\n",
    "sales_199 = np.sum((abdata.group == 'B') & (abdata.is_purchase == 'Yes'))\n",
    "\n",
    "# Print samp size & sales for 1.99 price point\n",
    "print(samp_size_199)\n",
    "print(sales_199)\n",
    "\n",
    "# Calculate samp size & sales for 4.99 price point\n",
    "samp_size_499 = np.sum(abdata.group == 'C')\n",
    "sales_499 = np.sum((abdata.group == 'C') & (abdata.is_purchase == 'Yes'))\n",
    "\n",
    "# Print samp size & sales for 4.99 price point\n",
    "print(samp_size_499)\n",
    "print(sales_499)"
   ]
  },
  {
   "cell_type": "markdown",
   "id": "7cd43404",
   "metadata": {
    "papermill": {
     "duration": 0.005486,
     "end_time": "2022-12-14T23:49:54.387653",
     "exception": false,
     "start_time": "2022-12-14T23:49:54.382167",
     "status": "completed"
    },
    "tags": []
   },
   "source": [
    "For Group A (\\\\$0.99 price point), perform a binomial test using binom_test() to see if the observed purchase rate is significantly greater than p_sales_needed_099. Remember that there are four inputs to binom_test():\n",
    "\n",
    "* x will be the number of purchases for Group A\n",
    "* n will be the total number of visitors assigned group A\n",
    "* p will be the target percent of purchases for the \\\\$0.99 price point\n",
    "* Alternative will indicate the alternative hypothesis for this test; in this case, we want to know if the observed purchase rate is significantly 'greater' than the purchase rate that results in the minimum revenue target.\n",
    "\n",
    "Save the results to pvalueA, and print its value. Note that you’ll first need to import the binom_test() function from scipy.stats using the following line of code:"
   ]
  },
  {
   "cell_type": "code",
   "execution_count": 9,
   "id": "0bacbf93",
   "metadata": {
    "execution": {
     "iopub.execute_input": "2022-12-14T23:49:54.401484Z",
     "iopub.status.busy": "2022-12-14T23:49:54.401065Z",
     "iopub.status.idle": "2022-12-14T23:49:54.410334Z",
     "shell.execute_reply": "2022-12-14T23:49:54.409232Z"
    },
    "papermill": {
     "duration": 0.019931,
     "end_time": "2022-12-14T23:49:54.413405",
     "exception": false,
     "start_time": "2022-12-14T23:49:54.393474",
     "status": "completed"
    },
    "tags": []
   },
   "outputs": [
    {
     "name": "stdout",
     "output_type": "stream",
     "text": [
      "0.9028081076188554\n",
      "0.11184562623740596\n",
      "0.02794482665983064\n"
     ]
    }
   ],
   "source": [
    "# Import the binom_test module\n",
    "from scipy.stats import binom_test\n",
    "\n",
    "# Calculate the p-value for Group A\n",
    "pvalueA = binom_test(sales_099, n=samp_size_099, p=p_sales_needed_099, alternative='greater')\n",
    "\n",
    "# Print the p-value for Group A\n",
    "print(pvalueA)\n",
    "\n",
    "# Calculate the p-value for Group B\n",
    "pvalueB = binom_test(sales_199, n=samp_size_199, p=p_sales_needed_199, alternative='greater')\n",
    "\n",
    "# Print the p-value for Group B\n",
    "print(pvalueB)\n",
    "\n",
    "# Calculate the p-value for Group C\n",
    "pvalueC = binom_test(sales_499, n=samp_size_499, p=p_sales_needed_499, alternative='greater')\n",
    "\n",
    "# Print the p-value for Group C\n",
    "print(pvalueC)"
   ]
  },
  {
   "cell_type": "code",
   "execution_count": 10,
   "id": "9acc2cc6",
   "metadata": {
    "execution": {
     "iopub.execute_input": "2022-12-14T23:49:54.427006Z",
     "iopub.status.busy": "2022-12-14T23:49:54.426495Z",
     "iopub.status.idle": "2022-12-14T23:49:54.433508Z",
     "shell.execute_reply": "2022-12-14T23:49:54.432250Z"
    },
    "papermill": {
     "duration": 0.016831,
     "end_time": "2022-12-14T23:49:54.436131",
     "exception": false,
     "start_time": "2022-12-14T23:49:54.419300",
     "status": "completed"
    },
    "tags": []
   },
   "outputs": [
    {
     "name": "stdout",
     "output_type": "stream",
     "text": [
      "0.9028081076188554\n"
     ]
    }
   ],
   "source": [
    "# Create a lambda function, which is an anonymous function\n",
    "x = lambda sales, samp_size, p_sales_needed: binom_test(sales, n=samp_size, p=p_sales_needed, alternative='greater')\n",
    "print(x(316,1666,0.20210104243717691))"
   ]
  },
  {
   "cell_type": "markdown",
   "id": "ac332f1f",
   "metadata": {
    "papermill": {
     "duration": 0.005666,
     "end_time": "2022-12-14T23:49:54.447964",
     "exception": false,
     "start_time": "2022-12-14T23:49:54.442298",
     "status": "completed"
    },
    "tags": []
   },
   "source": [
    "Based on the three p-values you calculated for the binomial tests in each group and a significance threshold of 0.05, were there any groups where the purchase rate was significantly higher than the target? Based on this information, what price should Brian charge for the upgrade package?\n",
    "\n",
    "pvalueC is the only p-value below the threshold of 0.05. Therefore, the C group is the only group where we would conclude that the purchase rate is significantly higher than the target needed to reach \\\\$1000 revenue per week. Therefore, Brian should charge \\\\$4.99 for the upgrade."
   ]
  },
  {
   "cell_type": "code",
   "execution_count": 11,
   "id": "0761586d",
   "metadata": {
    "execution": {
     "iopub.execute_input": "2022-12-14T23:49:54.461315Z",
     "iopub.status.busy": "2022-12-14T23:49:54.460858Z",
     "iopub.status.idle": "2022-12-14T23:49:54.466983Z",
     "shell.execute_reply": "2022-12-14T23:49:54.465745Z"
    },
    "papermill": {
     "duration": 0.015766,
     "end_time": "2022-12-14T23:49:54.469531",
     "exception": false,
     "start_time": "2022-12-14T23:49:54.453765",
     "status": "completed"
    },
    "tags": []
   },
   "outputs": [
    {
     "name": "stdout",
     "output_type": "stream",
     "text": [
      "4.99\n"
     ]
    }
   ],
   "source": [
    "# Set the correct value for the final answer variable\n",
    "final_answer = '4.99'\n",
    "\n",
    "# Print the chosen price group\n",
    "print(final_answer)"
   ]
  },
  {
   "cell_type": "markdown",
   "id": "36ad06ea",
   "metadata": {
    "papermill": {
     "duration": 0.005617,
     "end_time": "2022-12-14T23:49:54.481253",
     "exception": false,
     "start_time": "2022-12-14T23:49:54.475636",
     "status": "completed"
    },
    "tags": []
   },
   "source": [
    "In this project, we performed a Chi-Square test to determine if the categorical data for two independent variables (ie., group and is_purchase) have a relationship. We were interested in determining whether visitors are more likely to make a purchase if they are in any one group compared to the others. Given a p-value less than 0.05, we can conclude that there is a significant difference in the purchase rate for groups A, B, and C."
   ]
  }
 ],
 "metadata": {
  "kernelspec": {
   "display_name": "Python 3",
   "language": "python",
   "name": "python3"
  },
  "language_info": {
   "codemirror_mode": {
    "name": "ipython",
    "version": 3
   },
   "file_extension": ".py",
   "mimetype": "text/x-python",
   "name": "python",
   "nbconvert_exporter": "python",
   "pygments_lexer": "ipython3",
   "version": "3.7.12"
  },
  "papermill": {
   "default_parameters": {},
   "duration": 11.339554,
   "end_time": "2022-12-14T23:49:55.209988",
   "environment_variables": {},
   "exception": null,
   "input_path": "__notebook__.ipynb",
   "output_path": "__notebook__.ipynb",
   "parameters": {},
   "start_time": "2022-12-14T23:49:43.870434",
   "version": "2.3.4"
  }
 },
 "nbformat": 4,
 "nbformat_minor": 5
}
