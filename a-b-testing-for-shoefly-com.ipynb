{
 "cells": [
  {
   "cell_type": "code",
   "execution_count": 1,
   "id": "6a3e19bb",
   "metadata": {
    "_cell_guid": "b1076dfc-b9ad-4769-8c92-a6c4dae69d19",
    "_uuid": "8f2839f25d086af736a60e9eeb907d3b93b6e0e5",
    "execution": {
     "iopub.execute_input": "2022-12-14T19:40:14.364342Z",
     "iopub.status.busy": "2022-12-14T19:40:14.363880Z",
     "iopub.status.idle": "2022-12-14T19:40:14.397695Z",
     "shell.execute_reply": "2022-12-14T19:40:14.396229Z"
    },
    "papermill": {
     "duration": 0.043774,
     "end_time": "2022-12-14T19:40:14.401027",
     "exception": false,
     "start_time": "2022-12-14T19:40:14.357253",
     "status": "completed"
    },
    "tags": []
   },
   "outputs": [
    {
     "name": "stdout",
     "output_type": "stream",
     "text": [
      "/kaggle/input/ad-clicks/ad_clicks.csv\n",
      "/kaggle/input/clicks/clicks.csv\n",
      "/kaggle/input/musclehub-abtest/purchases.csv\n",
      "/kaggle/input/musclehub-abtest/fitness_tests.csv\n",
      "/kaggle/input/musclehub-abtest/visits.csv\n",
      "/kaggle/input/musclehub-abtest/interviews.txt\n",
      "/kaggle/input/musclehub-abtest/applications.csv\n"
     ]
    }
   ],
   "source": [
    "# Import necessary libraries\n",
    "\n",
    "import numpy as np # linear algebra\n",
    "import pandas as pd # data processing, CSV file I/O (e.g. pd.read_csv)\n",
    "import os\n",
    "for dirname, _, filenames in os.walk('/kaggle/input'):\n",
    "    for filename in filenames:\n",
    "        print(os.path.join(dirname, filename))"
   ]
  },
  {
   "cell_type": "markdown",
   "id": "a1dfee93",
   "metadata": {
    "papermill": {
     "duration": 0.003338,
     "end_time": "2022-12-14T19:40:14.408375",
     "exception": false,
     "start_time": "2022-12-14T19:40:14.405037",
     "status": "completed"
    },
    "tags": []
   },
   "source": [
    "#  **Testing for Shoefly.com**"
   ]
  },
  {
   "cell_type": "markdown",
   "id": "12a4000e",
   "metadata": {
    "papermill": {
     "duration": 0.003336,
     "end_time": "2022-12-14T19:40:14.415331",
     "exception": false,
     "start_time": "2022-12-14T19:40:14.411995",
     "status": "completed"
    },
    "tags": []
   },
   "source": [
    "Our favorite online shoe store, ShoeFly.com is performing an A/B Test. They have two different versions of an ad, which they have placed in emails, as well as in banner ads on Facebook, Twitter, and Google. They want to know how the two ads are performing on each of the different platforms on each day of the week. Help them analyze the data using aggregate measures. Some questions that will be answered are the following:\n",
    "1. How many views came from each utm_source?\n",
    "1. Was there a difference in click rates for each source?\n",
    "1. Were approximately the same number of people shown both ads?\n",
    "1. Product manager for the A/B test thinks that the clicks might have changed by day of the week.\n",
    "1. Do you recommend that your company use Ad A or Ad B?\n"
   ]
  },
  {
   "cell_type": "code",
   "execution_count": 2,
   "id": "df84910d",
   "metadata": {
    "execution": {
     "iopub.execute_input": "2022-12-14T19:40:14.425001Z",
     "iopub.status.busy": "2022-12-14T19:40:14.423639Z",
     "iopub.status.idle": "2022-12-14T19:40:14.449217Z",
     "shell.execute_reply": "2022-12-14T19:40:14.448034Z"
    },
    "papermill": {
     "duration": 0.033357,
     "end_time": "2022-12-14T19:40:14.452151",
     "exception": false,
     "start_time": "2022-12-14T19:40:14.418794",
     "status": "completed"
    },
    "tags": []
   },
   "outputs": [],
   "source": [
    "# Fill in the line below: Specify the path of the CSV file to read\n",
    "my_filepath = \"../input/ad-clicks/ad_clicks.csv\"\n",
    "\n",
    "# Fill in the line below: Read the file into a variable my_data\n",
    "ad_clicks = pd.read_csv(my_filepath)"
   ]
  },
  {
   "cell_type": "code",
   "execution_count": 3,
   "id": "a3809d8c",
   "metadata": {
    "execution": {
     "iopub.execute_input": "2022-12-14T19:40:14.462584Z",
     "iopub.status.busy": "2022-12-14T19:40:14.461752Z",
     "iopub.status.idle": "2022-12-14T19:40:14.492581Z",
     "shell.execute_reply": "2022-12-14T19:40:14.491323Z"
    },
    "papermill": {
     "duration": 0.03892,
     "end_time": "2022-12-14T19:40:14.495191",
     "exception": false,
     "start_time": "2022-12-14T19:40:14.456271",
     "status": "completed"
    },
    "tags": []
   },
   "outputs": [
    {
     "data": {
      "text/html": [
       "<div>\n",
       "<style scoped>\n",
       "    .dataframe tbody tr th:only-of-type {\n",
       "        vertical-align: middle;\n",
       "    }\n",
       "\n",
       "    .dataframe tbody tr th {\n",
       "        vertical-align: top;\n",
       "    }\n",
       "\n",
       "    .dataframe thead th {\n",
       "        text-align: right;\n",
       "    }\n",
       "</style>\n",
       "<table border=\"1\" class=\"dataframe\">\n",
       "  <thead>\n",
       "    <tr style=\"text-align: right;\">\n",
       "      <th></th>\n",
       "      <th>user_id</th>\n",
       "      <th>utm_source</th>\n",
       "      <th>day</th>\n",
       "      <th>ad_click_timestamp</th>\n",
       "      <th>experimental_group</th>\n",
       "    </tr>\n",
       "  </thead>\n",
       "  <tbody>\n",
       "    <tr>\n",
       "      <th>0</th>\n",
       "      <td>008b7c6c-7272-471e-b90e-930d548bd8d7</td>\n",
       "      <td>google</td>\n",
       "      <td>6 - Saturday</td>\n",
       "      <td>7:18</td>\n",
       "      <td>A</td>\n",
       "    </tr>\n",
       "    <tr>\n",
       "      <th>1</th>\n",
       "      <td>009abb94-5e14-4b6c-bb1c-4f4df7aa7557</td>\n",
       "      <td>facebook</td>\n",
       "      <td>7 - Sunday</td>\n",
       "      <td>NaN</td>\n",
       "      <td>B</td>\n",
       "    </tr>\n",
       "    <tr>\n",
       "      <th>2</th>\n",
       "      <td>00f5d532-ed58-4570-b6d2-768df5f41aed</td>\n",
       "      <td>twitter</td>\n",
       "      <td>2 - Tuesday</td>\n",
       "      <td>NaN</td>\n",
       "      <td>A</td>\n",
       "    </tr>\n",
       "    <tr>\n",
       "      <th>3</th>\n",
       "      <td>011adc64-0f44-4fd9-a0bb-f1506d2ad439</td>\n",
       "      <td>google</td>\n",
       "      <td>2 - Tuesday</td>\n",
       "      <td>NaN</td>\n",
       "      <td>B</td>\n",
       "    </tr>\n",
       "    <tr>\n",
       "      <th>4</th>\n",
       "      <td>012137e6-7ae7-4649-af68-205b4702169c</td>\n",
       "      <td>facebook</td>\n",
       "      <td>7 - Sunday</td>\n",
       "      <td>NaN</td>\n",
       "      <td>B</td>\n",
       "    </tr>\n",
       "  </tbody>\n",
       "</table>\n",
       "</div>"
      ],
      "text/plain": [
       "                                user_id utm_source           day  \\\n",
       "0  008b7c6c-7272-471e-b90e-930d548bd8d7     google  6 - Saturday   \n",
       "1  009abb94-5e14-4b6c-bb1c-4f4df7aa7557   facebook    7 - Sunday   \n",
       "2  00f5d532-ed58-4570-b6d2-768df5f41aed    twitter   2 - Tuesday   \n",
       "3  011adc64-0f44-4fd9-a0bb-f1506d2ad439     google   2 - Tuesday   \n",
       "4  012137e6-7ae7-4649-af68-205b4702169c   facebook    7 - Sunday   \n",
       "\n",
       "  ad_click_timestamp experimental_group  \n",
       "0               7:18                  A  \n",
       "1                NaN                  B  \n",
       "2                NaN                  A  \n",
       "3                NaN                  B  \n",
       "4                NaN                  B  "
      ]
     },
     "execution_count": 3,
     "metadata": {},
     "output_type": "execute_result"
    }
   ],
   "source": [
    "# To preview the dataframe to see what data we are working with\n",
    "ad_clicks.head()"
   ]
  },
  {
   "cell_type": "code",
   "execution_count": 4,
   "id": "dfbfbbd6",
   "metadata": {
    "execution": {
     "iopub.execute_input": "2022-12-14T19:40:14.505588Z",
     "iopub.status.busy": "2022-12-14T19:40:14.504819Z",
     "iopub.status.idle": "2022-12-14T19:40:14.524279Z",
     "shell.execute_reply": "2022-12-14T19:40:14.522993Z"
    },
    "papermill": {
     "duration": 0.027392,
     "end_time": "2022-12-14T19:40:14.526571",
     "exception": false,
     "start_time": "2022-12-14T19:40:14.499179",
     "status": "completed"
    },
    "tags": []
   },
   "outputs": [
    {
     "data": {
      "text/html": [
       "<div>\n",
       "<style scoped>\n",
       "    .dataframe tbody tr th:only-of-type {\n",
       "        vertical-align: middle;\n",
       "    }\n",
       "\n",
       "    .dataframe tbody tr th {\n",
       "        vertical-align: top;\n",
       "    }\n",
       "\n",
       "    .dataframe thead th {\n",
       "        text-align: right;\n",
       "    }\n",
       "</style>\n",
       "<table border=\"1\" class=\"dataframe\">\n",
       "  <thead>\n",
       "    <tr style=\"text-align: right;\">\n",
       "      <th></th>\n",
       "      <th>utm_source</th>\n",
       "      <th>user_id</th>\n",
       "    </tr>\n",
       "  </thead>\n",
       "  <tbody>\n",
       "    <tr>\n",
       "      <th>0</th>\n",
       "      <td>email</td>\n",
       "      <td>255</td>\n",
       "    </tr>\n",
       "    <tr>\n",
       "      <th>1</th>\n",
       "      <td>facebook</td>\n",
       "      <td>504</td>\n",
       "    </tr>\n",
       "    <tr>\n",
       "      <th>2</th>\n",
       "      <td>google</td>\n",
       "      <td>680</td>\n",
       "    </tr>\n",
       "    <tr>\n",
       "      <th>3</th>\n",
       "      <td>twitter</td>\n",
       "      <td>215</td>\n",
       "    </tr>\n",
       "  </tbody>\n",
       "</table>\n",
       "</div>"
      ],
      "text/plain": [
       "  utm_source  user_id\n",
       "0      email      255\n",
       "1   facebook      504\n",
       "2     google      680\n",
       "3    twitter      215"
      ]
     },
     "execution_count": 4,
     "metadata": {},
     "output_type": "execute_result"
    }
   ],
   "source": [
    "# How many views (ie, rows of the table) came from each utm_source?\n",
    "# Can use any of the columns because using the count() to find value of rows of the table. \n",
    "# Recall that added .reset_index() to return result from a series to a dataframe.\n",
    "\n",
    "ad_clicks.groupby('utm_source')\\\n",
    "    .user_id.count()\\\n",
    "    .reset_index()"
   ]
  },
  {
   "cell_type": "code",
   "execution_count": 5,
   "id": "da83d282",
   "metadata": {
    "execution": {
     "iopub.execute_input": "2022-12-14T19:40:14.537017Z",
     "iopub.status.busy": "2022-12-14T19:40:14.536620Z",
     "iopub.status.idle": "2022-12-14T19:40:14.560697Z",
     "shell.execute_reply": "2022-12-14T19:40:14.559393Z"
    },
    "papermill": {
     "duration": 0.03249,
     "end_time": "2022-12-14T19:40:14.563461",
     "exception": false,
     "start_time": "2022-12-14T19:40:14.530971",
     "status": "completed"
    },
    "tags": []
   },
   "outputs": [
    {
     "data": {
      "text/html": [
       "<div>\n",
       "<style scoped>\n",
       "    .dataframe tbody tr th:only-of-type {\n",
       "        vertical-align: middle;\n",
       "    }\n",
       "\n",
       "    .dataframe tbody tr th {\n",
       "        vertical-align: top;\n",
       "    }\n",
       "\n",
       "    .dataframe thead th {\n",
       "        text-align: right;\n",
       "    }\n",
       "</style>\n",
       "<table border=\"1\" class=\"dataframe\">\n",
       "  <thead>\n",
       "    <tr style=\"text-align: right;\">\n",
       "      <th></th>\n",
       "      <th>utm_source</th>\n",
       "      <th>is_click</th>\n",
       "      <th>user_id</th>\n",
       "    </tr>\n",
       "  </thead>\n",
       "  <tbody>\n",
       "    <tr>\n",
       "      <th>0</th>\n",
       "      <td>email</td>\n",
       "      <td>False</td>\n",
       "      <td>175</td>\n",
       "    </tr>\n",
       "    <tr>\n",
       "      <th>1</th>\n",
       "      <td>email</td>\n",
       "      <td>True</td>\n",
       "      <td>80</td>\n",
       "    </tr>\n",
       "    <tr>\n",
       "      <th>2</th>\n",
       "      <td>facebook</td>\n",
       "      <td>False</td>\n",
       "      <td>324</td>\n",
       "    </tr>\n",
       "    <tr>\n",
       "      <th>3</th>\n",
       "      <td>facebook</td>\n",
       "      <td>True</td>\n",
       "      <td>180</td>\n",
       "    </tr>\n",
       "    <tr>\n",
       "      <th>4</th>\n",
       "      <td>google</td>\n",
       "      <td>False</td>\n",
       "      <td>441</td>\n",
       "    </tr>\n",
       "    <tr>\n",
       "      <th>5</th>\n",
       "      <td>google</td>\n",
       "      <td>True</td>\n",
       "      <td>239</td>\n",
       "    </tr>\n",
       "    <tr>\n",
       "      <th>6</th>\n",
       "      <td>twitter</td>\n",
       "      <td>False</td>\n",
       "      <td>149</td>\n",
       "    </tr>\n",
       "    <tr>\n",
       "      <th>7</th>\n",
       "      <td>twitter</td>\n",
       "      <td>True</td>\n",
       "      <td>66</td>\n",
       "    </tr>\n",
       "  </tbody>\n",
       "</table>\n",
       "</div>"
      ],
      "text/plain": [
       "  utm_source  is_click  user_id\n",
       "0      email     False      175\n",
       "1      email      True       80\n",
       "2   facebook     False      324\n",
       "3   facebook      True      180\n",
       "4     google     False      441\n",
       "5     google      True      239\n",
       "6    twitter     False      149\n",
       "7    twitter      True       66"
      ]
     },
     "execution_count": 5,
     "metadata": {},
     "output_type": "execute_result"
    }
   ],
   "source": [
    "# Filter the data to remove NaN values since those mean the user never clicked the ads \n",
    "# and add a new column is_click. ~ is a NOT operator to invert the results of .isnull() \n",
    "# since .isnull() will return True for NaN and we want it to return False\n",
    "\n",
    "ad_clicks['is_click'] = ~ad_clicks\\\n",
    "   .ad_click_timestamp.isnull()\n",
    "\n",
    "# We want to know the percent of people who clicked on ads from each utm_source.\n",
    "# Start by grouping by utm_source and is_click and counting the number of user_id‘s in each of those groups. \n",
    "# Save your answer to the variable clicks_by_source.\n",
    "clicks_by_source = ad_clicks\\\n",
    "   .groupby(['utm_source',\n",
    "             'is_click'])\\\n",
    "   .user_id.count()\\\n",
    "   .reset_index()\n",
    "\n",
    "clicks_by_source"
   ]
  },
  {
   "cell_type": "code",
   "execution_count": 6,
   "id": "19b27763",
   "metadata": {
    "execution": {
     "iopub.execute_input": "2022-12-14T19:40:14.574324Z",
     "iopub.status.busy": "2022-12-14T19:40:14.573913Z",
     "iopub.status.idle": "2022-12-14T19:40:14.596021Z",
     "shell.execute_reply": "2022-12-14T19:40:14.594708Z"
    },
    "papermill": {
     "duration": 0.03077,
     "end_time": "2022-12-14T19:40:14.598832",
     "exception": false,
     "start_time": "2022-12-14T19:40:14.568062",
     "status": "completed"
    },
    "tags": []
   },
   "outputs": [
    {
     "data": {
      "text/html": [
       "<div>\n",
       "<style scoped>\n",
       "    .dataframe tbody tr th:only-of-type {\n",
       "        vertical-align: middle;\n",
       "    }\n",
       "\n",
       "    .dataframe tbody tr th {\n",
       "        vertical-align: top;\n",
       "    }\n",
       "\n",
       "    .dataframe thead th {\n",
       "        text-align: right;\n",
       "    }\n",
       "</style>\n",
       "<table border=\"1\" class=\"dataframe\">\n",
       "  <thead>\n",
       "    <tr style=\"text-align: right;\">\n",
       "      <th>is_click</th>\n",
       "      <th>utm_source</th>\n",
       "      <th>False</th>\n",
       "      <th>True</th>\n",
       "      <th>percent_clicked</th>\n",
       "    </tr>\n",
       "  </thead>\n",
       "  <tbody>\n",
       "    <tr>\n",
       "      <th>0</th>\n",
       "      <td>email</td>\n",
       "      <td>175</td>\n",
       "      <td>80</td>\n",
       "      <td>31.372549</td>\n",
       "    </tr>\n",
       "    <tr>\n",
       "      <th>1</th>\n",
       "      <td>facebook</td>\n",
       "      <td>324</td>\n",
       "      <td>180</td>\n",
       "      <td>35.714286</td>\n",
       "    </tr>\n",
       "    <tr>\n",
       "      <th>2</th>\n",
       "      <td>google</td>\n",
       "      <td>441</td>\n",
       "      <td>239</td>\n",
       "      <td>35.147059</td>\n",
       "    </tr>\n",
       "    <tr>\n",
       "      <th>3</th>\n",
       "      <td>twitter</td>\n",
       "      <td>149</td>\n",
       "      <td>66</td>\n",
       "      <td>30.697674</td>\n",
       "    </tr>\n",
       "  </tbody>\n",
       "</table>\n",
       "</div>"
      ],
      "text/plain": [
       "is_click utm_source  False  True  percent_clicked\n",
       "0             email    175    80        31.372549\n",
       "1          facebook    324   180        35.714286\n",
       "2            google    441   239        35.147059\n",
       "3           twitter    149    66        30.697674"
      ]
     },
     "execution_count": 6,
     "metadata": {},
     "output_type": "execute_result"
    }
   ],
   "source": [
    "# Pivot the data so that columns are is_click (True or False), the index is utm_source, \n",
    "# and the values are user_id\n",
    "\n",
    "clicks_pivot = clicks_by_source\\\n",
    "   .pivot(index='utm_source',\n",
    "          columns='is_click',\n",
    "          values='user_id')\\\n",
    "   .reset_index()\n",
    "\n",
    "# Was there a difference in click rates for each source? Find the percent clicked and add \n",
    "# a new columm in the clicks_pivot table\n",
    "\n",
    "clicks_pivot['percent_clicked'] = \\\n",
    "   clicks_pivot[True] / \\\n",
    "   (clicks_pivot[True] + \n",
    "    clicks_pivot[False])\\\n",
    "    *100\n",
    "    \n",
    "clicks_pivot"
   ]
  },
  {
   "cell_type": "markdown",
   "id": "a4025993",
   "metadata": {
    "papermill": {
     "duration": 0.004402,
     "end_time": "2022-12-14T19:40:14.608120",
     "exception": false,
     "start_time": "2022-12-14T19:40:14.603718",
     "status": "completed"
    },
    "tags": []
   },
   "source": [
    "We found that there was a difference in click rates for each source. Facebook ads had the highest percentage at 35.71% closely followed by\n",
    "Google ads at 35.15%. The lowest performing ads clicked were from Twitter."
   ]
  },
  {
   "cell_type": "code",
   "execution_count": 7,
   "id": "e860f4d9",
   "metadata": {
    "execution": {
     "iopub.execute_input": "2022-12-14T19:40:14.620422Z",
     "iopub.status.busy": "2022-12-14T19:40:14.619131Z",
     "iopub.status.idle": "2022-12-14T19:40:14.640403Z",
     "shell.execute_reply": "2022-12-14T19:40:14.638558Z"
    },
    "papermill": {
     "duration": 0.030316,
     "end_time": "2022-12-14T19:40:14.643307",
     "exception": false,
     "start_time": "2022-12-14T19:40:14.612991",
     "status": "completed"
    },
    "tags": []
   },
   "outputs": [
    {
     "data": {
      "text/html": [
       "<div>\n",
       "<style scoped>\n",
       "    .dataframe tbody tr th:only-of-type {\n",
       "        vertical-align: middle;\n",
       "    }\n",
       "\n",
       "    .dataframe tbody tr th {\n",
       "        vertical-align: top;\n",
       "    }\n",
       "\n",
       "    .dataframe thead th {\n",
       "        text-align: right;\n",
       "    }\n",
       "</style>\n",
       "<table border=\"1\" class=\"dataframe\">\n",
       "  <thead>\n",
       "    <tr style=\"text-align: right;\">\n",
       "      <th>is_click</th>\n",
       "      <th>experimental_group</th>\n",
       "      <th>False</th>\n",
       "      <th>True</th>\n",
       "      <th>percent_clicked</th>\n",
       "    </tr>\n",
       "  </thead>\n",
       "  <tbody>\n",
       "    <tr>\n",
       "      <th>0</th>\n",
       "      <td>A</td>\n",
       "      <td>517</td>\n",
       "      <td>310</td>\n",
       "      <td>37.484885</td>\n",
       "    </tr>\n",
       "    <tr>\n",
       "      <th>1</th>\n",
       "      <td>B</td>\n",
       "      <td>572</td>\n",
       "      <td>255</td>\n",
       "      <td>30.834341</td>\n",
       "    </tr>\n",
       "  </tbody>\n",
       "</table>\n",
       "</div>"
      ],
      "text/plain": [
       "is_click experimental_group  False  True  percent_clicked\n",
       "0                         A    517   310        37.484885\n",
       "1                         B    572   255        30.834341"
      ]
     },
     "execution_count": 7,
     "metadata": {},
     "output_type": "execute_result"
    }
   ],
   "source": [
    "# Analyzing an A/B test. Column experimental_group tells us whether the user was shown Ad A or Ad B. \n",
    "# Using the column is_click, check to see if a greater percentage of users clicked on Ad A or Ad B. \n",
    "\n",
    "clicks_exp_pivot = ad_clicks\\\n",
    "   .groupby(['experimental_group',\n",
    "             'is_click'])\\\n",
    "   .user_id.count()\\\n",
    "   .reset_index()\\\n",
    "   .pivot(\n",
    "     index='experimental_group',\n",
    "     columns='is_click',\n",
    "     values='user_id')\\\n",
    "   .reset_index()\\\n",
    "\n",
    "clicks_exp_pivot['percent_clicked'] = \\\n",
    "   clicks_exp_pivot[True] / \\\n",
    "   (clicks_exp_pivot[True] + \n",
    "    clicks_exp_pivot[False])\\\n",
    "    *100\n",
    "    \n",
    "clicks_exp_pivot"
   ]
  },
  {
   "cell_type": "markdown",
   "id": "83034a28",
   "metadata": {
    "papermill": {
     "duration": 0.004701,
     "end_time": "2022-12-14T19:40:14.653700",
     "exception": false,
     "start_time": "2022-12-14T19:40:14.648999",
     "status": "completed"
    },
    "tags": []
   },
   "source": [
    "A user who was given Ad A was more likely to click the ad at 37.48% than a user who was given Ad B. "
   ]
  },
  {
   "cell_type": "code",
   "execution_count": 8,
   "id": "2b039669",
   "metadata": {
    "execution": {
     "iopub.execute_input": "2022-12-14T19:40:14.668312Z",
     "iopub.status.busy": "2022-12-14T19:40:14.667681Z",
     "iopub.status.idle": "2022-12-14T19:40:14.693826Z",
     "shell.execute_reply": "2022-12-14T19:40:14.692630Z"
    },
    "papermill": {
     "duration": 0.038317,
     "end_time": "2022-12-14T19:40:14.696823",
     "exception": false,
     "start_time": "2022-12-14T19:40:14.658506",
     "status": "completed"
    },
    "tags": []
   },
   "outputs": [
    {
     "data": {
      "text/html": [
       "<div>\n",
       "<style scoped>\n",
       "    .dataframe tbody tr th:only-of-type {\n",
       "        vertical-align: middle;\n",
       "    }\n",
       "\n",
       "    .dataframe tbody tr th {\n",
       "        vertical-align: top;\n",
       "    }\n",
       "\n",
       "    .dataframe thead th {\n",
       "        text-align: right;\n",
       "    }\n",
       "</style>\n",
       "<table border=\"1\" class=\"dataframe\">\n",
       "  <thead>\n",
       "    <tr style=\"text-align: right;\">\n",
       "      <th>is_click</th>\n",
       "      <th>day</th>\n",
       "      <th>False</th>\n",
       "      <th>True</th>\n",
       "      <th>percent_clicked</th>\n",
       "    </tr>\n",
       "  </thead>\n",
       "  <tbody>\n",
       "    <tr>\n",
       "      <th>0</th>\n",
       "      <td>1 - Monday</td>\n",
       "      <td>70</td>\n",
       "      <td>43</td>\n",
       "      <td>38.053097</td>\n",
       "    </tr>\n",
       "    <tr>\n",
       "      <th>1</th>\n",
       "      <td>2 - Tuesday</td>\n",
       "      <td>76</td>\n",
       "      <td>43</td>\n",
       "      <td>36.134454</td>\n",
       "    </tr>\n",
       "    <tr>\n",
       "      <th>2</th>\n",
       "      <td>3 - Wednesday</td>\n",
       "      <td>86</td>\n",
       "      <td>38</td>\n",
       "      <td>30.645161</td>\n",
       "    </tr>\n",
       "    <tr>\n",
       "      <th>3</th>\n",
       "      <td>4 - Thursday</td>\n",
       "      <td>69</td>\n",
       "      <td>47</td>\n",
       "      <td>40.517241</td>\n",
       "    </tr>\n",
       "    <tr>\n",
       "      <th>4</th>\n",
       "      <td>5 - Friday</td>\n",
       "      <td>77</td>\n",
       "      <td>51</td>\n",
       "      <td>39.843750</td>\n",
       "    </tr>\n",
       "    <tr>\n",
       "      <th>5</th>\n",
       "      <td>6 - Saturday</td>\n",
       "      <td>73</td>\n",
       "      <td>45</td>\n",
       "      <td>38.135593</td>\n",
       "    </tr>\n",
       "    <tr>\n",
       "      <th>6</th>\n",
       "      <td>7 - Sunday</td>\n",
       "      <td>66</td>\n",
       "      <td>43</td>\n",
       "      <td>39.449541</td>\n",
       "    </tr>\n",
       "  </tbody>\n",
       "</table>\n",
       "</div>"
      ],
      "text/plain": [
       "is_click            day  False  True  percent_clicked\n",
       "0            1 - Monday     70    43        38.053097\n",
       "1           2 - Tuesday     76    43        36.134454\n",
       "2         3 - Wednesday     86    38        30.645161\n",
       "3          4 - Thursday     69    47        40.517241\n",
       "4            5 - Friday     77    51        39.843750\n",
       "5          6 - Saturday     73    45        38.135593\n",
       "6            7 - Sunday     66    43        39.449541"
      ]
     },
     "execution_count": 8,
     "metadata": {},
     "output_type": "execute_result"
    }
   ],
   "source": [
    "# Also check to see if clicks might have changed by day of the week. Do you recommend that \n",
    "# your company use Ad A or Ad B?\n",
    "# Creating DataFrame for a_clicks.\n",
    "a_clicks = ad_clicks[\n",
    "   ad_clicks.experimental_group == 'A']\n",
    "\n",
    "a_clicks_pivot = a_clicks\\\n",
    "  .groupby(['is_click','day'])\\\n",
    "  .user_id.count()\\\n",
    "  .reset_index()\\\n",
    "  .pivot(\n",
    "     index = 'day',\n",
    "     columns = 'is_click',\n",
    "     values = 'user_id'\n",
    "   )\\\n",
    "   .reset_index()\n",
    "\n",
    "a_clicks_pivot['percent_clicked'] = \\\n",
    "   a_clicks_pivot[True] / \\\n",
    "   (a_clicks_pivot[True] + \n",
    "    a_clicks_pivot[False])\\\n",
    "    *100\n",
    "\n",
    "a_clicks_pivot"
   ]
  },
  {
   "cell_type": "code",
   "execution_count": 9,
   "id": "83cdfa68",
   "metadata": {
    "execution": {
     "iopub.execute_input": "2022-12-14T19:40:14.710337Z",
     "iopub.status.busy": "2022-12-14T19:40:14.709273Z",
     "iopub.status.idle": "2022-12-14T19:40:14.738554Z",
     "shell.execute_reply": "2022-12-14T19:40:14.737345Z"
    },
    "papermill": {
     "duration": 0.03905,
     "end_time": "2022-12-14T19:40:14.741196",
     "exception": false,
     "start_time": "2022-12-14T19:40:14.702146",
     "status": "completed"
    },
    "tags": []
   },
   "outputs": [
    {
     "data": {
      "text/html": [
       "<div>\n",
       "<style scoped>\n",
       "    .dataframe tbody tr th:only-of-type {\n",
       "        vertical-align: middle;\n",
       "    }\n",
       "\n",
       "    .dataframe tbody tr th {\n",
       "        vertical-align: top;\n",
       "    }\n",
       "\n",
       "    .dataframe thead th {\n",
       "        text-align: right;\n",
       "    }\n",
       "</style>\n",
       "<table border=\"1\" class=\"dataframe\">\n",
       "  <thead>\n",
       "    <tr style=\"text-align: right;\">\n",
       "      <th>is_click</th>\n",
       "      <th>day</th>\n",
       "      <th>False</th>\n",
       "      <th>True</th>\n",
       "      <th>percent_clicked</th>\n",
       "    </tr>\n",
       "  </thead>\n",
       "  <tbody>\n",
       "    <tr>\n",
       "      <th>0</th>\n",
       "      <td>1 - Monday</td>\n",
       "      <td>81</td>\n",
       "      <td>32</td>\n",
       "      <td>28.318584</td>\n",
       "    </tr>\n",
       "    <tr>\n",
       "      <th>1</th>\n",
       "      <td>2 - Tuesday</td>\n",
       "      <td>74</td>\n",
       "      <td>45</td>\n",
       "      <td>37.815126</td>\n",
       "    </tr>\n",
       "    <tr>\n",
       "      <th>2</th>\n",
       "      <td>3 - Wednesday</td>\n",
       "      <td>89</td>\n",
       "      <td>35</td>\n",
       "      <td>28.225806</td>\n",
       "    </tr>\n",
       "    <tr>\n",
       "      <th>3</th>\n",
       "      <td>4 - Thursday</td>\n",
       "      <td>87</td>\n",
       "      <td>29</td>\n",
       "      <td>25.000000</td>\n",
       "    </tr>\n",
       "    <tr>\n",
       "      <th>4</th>\n",
       "      <td>5 - Friday</td>\n",
       "      <td>90</td>\n",
       "      <td>38</td>\n",
       "      <td>29.687500</td>\n",
       "    </tr>\n",
       "    <tr>\n",
       "      <th>5</th>\n",
       "      <td>6 - Saturday</td>\n",
       "      <td>76</td>\n",
       "      <td>42</td>\n",
       "      <td>35.593220</td>\n",
       "    </tr>\n",
       "    <tr>\n",
       "      <th>6</th>\n",
       "      <td>7 - Sunday</td>\n",
       "      <td>75</td>\n",
       "      <td>34</td>\n",
       "      <td>31.192661</td>\n",
       "    </tr>\n",
       "  </tbody>\n",
       "</table>\n",
       "</div>"
      ],
      "text/plain": [
       "is_click            day  False  True  percent_clicked\n",
       "0            1 - Monday     81    32        28.318584\n",
       "1           2 - Tuesday     74    45        37.815126\n",
       "2         3 - Wednesday     89    35        28.225806\n",
       "3          4 - Thursday     87    29        25.000000\n",
       "4            5 - Friday     90    38        29.687500\n",
       "5          6 - Saturday     76    42        35.593220\n",
       "6            7 - Sunday     75    34        31.192661"
      ]
     },
     "execution_count": 9,
     "metadata": {},
     "output_type": "execute_result"
    }
   ],
   "source": [
    "# Creating DataFrame for b_clicks.\n",
    "b_clicks = ad_clicks[\n",
    "   ad_clicks.experimental_group == 'B']\n",
    "\n",
    "b_clicks_pivot = b_clicks\\\n",
    "  .groupby(['is_click','day'])\\\n",
    "  .user_id.count()\\\n",
    "  .reset_index()\\\n",
    "  .pivot(\n",
    "     index = 'day',\n",
    "     columns = 'is_click',\n",
    "     values = 'user_id'\n",
    "   )\\\n",
    "   .reset_index()\n",
    "\n",
    "b_clicks_pivot['percent_clicked'] = \\\n",
    "   b_clicks_pivot[True] / \\\n",
    "   (b_clicks_pivot[True] + \n",
    "    b_clicks_pivot[False])\\\n",
    "    *100\n",
    "\n",
    "b_clicks_pivot"
   ]
  },
  {
   "cell_type": "markdown",
   "id": "3e911bf8",
   "metadata": {
    "papermill": {
     "duration": 0.007134,
     "end_time": "2022-12-14T19:40:14.756300",
     "exception": false,
     "start_time": "2022-12-14T19:40:14.749166",
     "status": "completed"
    },
    "tags": []
   },
   "source": [
    "During the days of the week, the performance of Ad A outpaced that of Ad B. Ad B, in particular only performed better than Ad A on Tuesday.\n",
    "\n",
    "To summarize the results, we learned that Ad A performed better than Ad B regardless of the day of the week the ad was shown. We also learned that ads on Facebook were clicked at a higher rate than its competitors. Therefore, I would recommend that the company run Ad A instead of Ad B and allocate more resources into running the ad on Facebook and Google than the other platforms to maximize user traffic into ShoeFly.com.\n"
   ]
  }
 ],
 "metadata": {
  "kernelspec": {
   "display_name": "Python 3",
   "language": "python",
   "name": "python3"
  },
  "language_info": {
   "codemirror_mode": {
    "name": "ipython",
    "version": 3
   },
   "file_extension": ".py",
   "mimetype": "text/x-python",
   "name": "python",
   "nbconvert_exporter": "python",
   "pygments_lexer": "ipython3",
   "version": "3.7.12"
  },
  "papermill": {
   "default_parameters": {},
   "duration": 11.412442,
   "end_time": "2022-12-14T19:40:15.485695",
   "environment_variables": {},
   "exception": null,
   "input_path": "__notebook__.ipynb",
   "output_path": "__notebook__.ipynb",
   "parameters": {},
   "start_time": "2022-12-14T19:40:04.073253",
   "version": "2.3.4"
  }
 },
 "nbformat": 4,
 "nbformat_minor": 5
}
